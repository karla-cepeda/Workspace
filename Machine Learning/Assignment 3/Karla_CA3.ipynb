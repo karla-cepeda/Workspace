{
  "nbformat": 4,
  "nbformat_minor": 0,
  "metadata": {
    "colab": {
      "name": "Karla_CA3.ipynb",
      "provenance": [],
      "collapsed_sections": [],
      "toc_visible": true
    },
    "kernelspec": {
      "name": "python3",
      "display_name": "Python 3"
    },
    "language_info": {
      "name": "python"
    }
  },
  "cells": [
    {
      "cell_type": "markdown",
      "metadata": {
        "id": "jwOunn-25KmX"
      },
      "source": [
        "#Individual Work"
      ]
    },
    {
      "cell_type": "markdown",
      "metadata": {
        "id": "UbpqyNInodf0"
      },
      "source": [
        "Importing libraries needed for this CA."
      ]
    },
    {
      "cell_type": "code",
      "metadata": {
        "id": "b6FLLRxN7H_r"
      },
      "source": [
        "import pandas as pd\n",
        "import numpy as np\n",
        "\n",
        "from matplotlib import pyplot as plt\n",
        "import seaborn as sns\n",
        "\n",
        "from google.colab import drive\n",
        "\n",
        "from sklearn.cluster import KMeans\n",
        "from sklearn.mixture import GaussianMixture\n",
        "from scipy import stats\n",
        "\n",
        "pd.options.display.max_rows = 10\n",
        "pd.options.display.float_format = \"{:.1f}\".format\n",
        "\n",
        "%matplotlib inline"
      ],
      "execution_count": null,
      "outputs": []
    },
    {
      "cell_type": "code",
      "metadata": {
        "id": "r2s_BVld-GX3"
      },
      "source": [
        "sns.set_theme(style=\"white\")"
      ],
      "execution_count": null,
      "outputs": []
    },
    {
      "cell_type": "code",
      "metadata": {
        "colab": {
          "base_uri": "https://localhost:8080/"
        },
        "id": "sI4xXj8c7ZEc",
        "outputId": "61cd98e4-a149-4c25-fd80-d14fd519f46f"
      },
      "source": [
        "# Mount Drive to get access to file.\n",
        "drive.mount('/content/drive')"
      ],
      "execution_count": null,
      "outputs": [
        {
          "output_type": "stream",
          "text": [
            "Mounted at /content/drive\n"
          ],
          "name": "stdout"
        }
      ]
    },
    {
      "cell_type": "markdown",
      "metadata": {
        "id": "rHgcWGm-5N4E"
      },
      "source": [
        "##Question 3: K-means and EM algorithms"
      ]
    },
    {
      "cell_type": "markdown",
      "metadata": {
        "id": "yVLdxrhJ5T9p"
      },
      "source": [
        "###Write a python code to extract the clustering_data.csv file."
      ]
    },
    {
      "cell_type": "code",
      "metadata": {
        "id": "WG0jncrU503G"
      },
      "source": [
        "# Global variables.\n",
        "data_url = r'/content/drive/My Drive/Colab Notebooks/CA3/Individual Work/Clustering_data.csv'"
      ],
      "execution_count": null,
      "outputs": []
    },
    {
      "cell_type": "code",
      "metadata": {
        "colab": {
          "base_uri": "https://localhost:8080/",
          "height": 195
        },
        "id": "KI2nBTtk8KNU",
        "outputId": "c4284763-1828-4f29-9977-54ba71b852f8"
      },
      "source": [
        "# Reading data from CSV file.\n",
        "data = pd.read_csv(data_url)\n",
        "data.head()"
      ],
      "execution_count": null,
      "outputs": [
        {
          "output_type": "execute_result",
          "data": {
            "text/html": [
              "<div>\n",
              "<style scoped>\n",
              "    .dataframe tbody tr th:only-of-type {\n",
              "        vertical-align: middle;\n",
              "    }\n",
              "\n",
              "    .dataframe tbody tr th {\n",
              "        vertical-align: top;\n",
              "    }\n",
              "\n",
              "    .dataframe thead th {\n",
              "        text-align: right;\n",
              "    }\n",
              "</style>\n",
              "<table border=\"1\" class=\"dataframe\">\n",
              "  <thead>\n",
              "    <tr style=\"text-align: right;\">\n",
              "      <th></th>\n",
              "      <th>Weight</th>\n",
              "      <th>Height</th>\n",
              "    </tr>\n",
              "  </thead>\n",
              "  <tbody>\n",
              "    <tr>\n",
              "      <th>0</th>\n",
              "      <td>67.1</td>\n",
              "      <td>176.1</td>\n",
              "    </tr>\n",
              "    <tr>\n",
              "      <th>1</th>\n",
              "      <td>68.8</td>\n",
              "      <td>178.4</td>\n",
              "    </tr>\n",
              "    <tr>\n",
              "      <th>2</th>\n",
              "      <td>60.9</td>\n",
              "      <td>170.3</td>\n",
              "    </tr>\n",
              "    <tr>\n",
              "      <th>3</th>\n",
              "      <td>59.7</td>\n",
              "      <td>168.7</td>\n",
              "    </tr>\n",
              "    <tr>\n",
              "      <th>4</th>\n",
              "      <td>65.4</td>\n",
              "      <td>173.8</td>\n",
              "    </tr>\n",
              "  </tbody>\n",
              "</table>\n",
              "</div>"
            ],
            "text/plain": [
              "   Weight  Height\n",
              "0    67.1   176.1\n",
              "1    68.8   178.4\n",
              "2    60.9   170.3\n",
              "3    59.7   168.7\n",
              "4    65.4   173.8"
            ]
          },
          "metadata": {
            "tags": []
          },
          "execution_count": 7
        }
      ]
    },
    {
      "cell_type": "markdown",
      "metadata": {
        "id": "wSfJFUf25YFO"
      },
      "source": [
        "###Explore and visualise the data set."
      ]
    },
    {
      "cell_type": "code",
      "metadata": {
        "colab": {
          "base_uri": "https://localhost:8080/"
        },
        "id": "6rz1wxUx8UAJ",
        "outputId": "a335db5f-ad14-43b5-fb68-30f1e706a465"
      },
      "source": [
        "# Explore information\n",
        "data.info()"
      ],
      "execution_count": null,
      "outputs": [
        {
          "output_type": "stream",
          "text": [
            "<class 'pandas.core.frame.DataFrame'>\n",
            "RangeIndex: 500 entries, 0 to 499\n",
            "Data columns (total 2 columns):\n",
            " #   Column  Non-Null Count  Dtype  \n",
            "---  ------  --------------  -----  \n",
            " 0   Weight  500 non-null    float64\n",
            " 1   Height  500 non-null    float64\n",
            "dtypes: float64(2)\n",
            "memory usage: 7.9 KB\n"
          ],
          "name": "stdout"
        }
      ]
    },
    {
      "cell_type": "markdown",
      "metadata": {
        "id": "TX9kEilL8VwC"
      },
      "source": [
        "The dataset is made up of 500 observations and two features: Weight and Height. The type of variable is continuous. There is no label, therefore it is needed to cluster observations (people) based on Weight and Height. Thus, this could lead to clustering the data by underweight, normal, and overweight (just an example as this also could cluster data into kid or adult)."
      ]
    },
    {
      "cell_type": "code",
      "metadata": {
        "colab": {
          "base_uri": "https://localhost:8080/"
        },
        "id": "0ynFetYC9N8J",
        "outputId": "294a2a1f-a85e-4863-c5a9-1eebb36d8456"
      },
      "source": [
        "# Looking for missing data.\n",
        "data.isna().sum()"
      ],
      "execution_count": null,
      "outputs": [
        {
          "output_type": "execute_result",
          "data": {
            "text/plain": [
              "Weight    0\n",
              "Height    0\n",
              "dtype: int64"
            ]
          },
          "metadata": {
            "tags": []
          },
          "execution_count": 8
        }
      ]
    },
    {
      "cell_type": "markdown",
      "metadata": {
        "id": "1thrgK0k9QaG"
      },
      "source": [
        "There is no missing data in the two features. Now I am going to look for descriptive statistics to look for outliers/errors."
      ]
    },
    {
      "cell_type": "code",
      "metadata": {
        "colab": {
          "base_uri": "https://localhost:8080/",
          "height": 284
        },
        "id": "HxtfLCB7AZmi",
        "outputId": "c5dfc8bf-95ae-4261-9a2b-37342b023393"
      },
      "source": [
        "data.describe()"
      ],
      "execution_count": null,
      "outputs": [
        {
          "output_type": "execute_result",
          "data": {
            "text/html": [
              "<div>\n",
              "<style scoped>\n",
              "    .dataframe tbody tr th:only-of-type {\n",
              "        vertical-align: middle;\n",
              "    }\n",
              "\n",
              "    .dataframe tbody tr th {\n",
              "        vertical-align: top;\n",
              "    }\n",
              "\n",
              "    .dataframe thead th {\n",
              "        text-align: right;\n",
              "    }\n",
              "</style>\n",
              "<table border=\"1\" class=\"dataframe\">\n",
              "  <thead>\n",
              "    <tr style=\"text-align: right;\">\n",
              "      <th></th>\n",
              "      <th>Weight</th>\n",
              "      <th>Height</th>\n",
              "    </tr>\n",
              "  </thead>\n",
              "  <tbody>\n",
              "    <tr>\n",
              "      <th>count</th>\n",
              "      <td>500.0</td>\n",
              "      <td>500.0</td>\n",
              "    </tr>\n",
              "    <tr>\n",
              "      <th>mean</th>\n",
              "      <td>61.3</td>\n",
              "      <td>169.5</td>\n",
              "    </tr>\n",
              "    <tr>\n",
              "      <th>std</th>\n",
              "      <td>5.2</td>\n",
              "      <td>4.8</td>\n",
              "    </tr>\n",
              "    <tr>\n",
              "      <th>min</th>\n",
              "      <td>50.4</td>\n",
              "      <td>160.2</td>\n",
              "    </tr>\n",
              "    <tr>\n",
              "      <th>25%</th>\n",
              "      <td>57.8</td>\n",
              "      <td>166.6</td>\n",
              "    </tr>\n",
              "    <tr>\n",
              "      <th>50%</th>\n",
              "      <td>62.0</td>\n",
              "      <td>169.7</td>\n",
              "    </tr>\n",
              "    <tr>\n",
              "      <th>75%</th>\n",
              "      <td>65.4</td>\n",
              "      <td>172.8</td>\n",
              "    </tr>\n",
              "    <tr>\n",
              "      <th>max</th>\n",
              "      <td>70.7</td>\n",
              "      <td>178.9</td>\n",
              "    </tr>\n",
              "  </tbody>\n",
              "</table>\n",
              "</div>"
            ],
            "text/plain": [
              "       Weight  Height\n",
              "count   500.0   500.0\n",
              "mean     61.3   169.5\n",
              "std       5.2     4.8\n",
              "min      50.4   160.2\n",
              "25%      57.8   166.6\n",
              "50%      62.0   169.7\n",
              "75%      65.4   172.8\n",
              "max      70.7   178.9"
            ]
          },
          "metadata": {
            "tags": []
          },
          "execution_count": 24
        }
      ]
    },
    {
      "cell_type": "markdown",
      "metadata": {
        "id": "O7jgDz_vAe02"
      },
      "source": [
        "As it is not specify the units of the data, I would take that Weight is in kilograms and Height is in centimeters. Therefore, there is no outliers as Height could have values from 50.4kg to 70.7kg and Height values from 160.2cm to 178.9cm. However, I am going to visualize data into a boxplot to check for outliers."
      ]
    },
    {
      "cell_type": "code",
      "metadata": {
        "colab": {
          "base_uri": "https://localhost:8080/",
          "height": 285
        },
        "id": "QIXRsgqSBI1W",
        "outputId": "840cc4e1-7ed1-4a7b-85c8-392d60ebd0b6"
      },
      "source": [
        "# Plot for univariable, Weight\n",
        "sns.boxplot(x=data[\"Weight\"])\n",
        "plt.show()"
      ],
      "execution_count": null,
      "outputs": [
        {
          "output_type": "display_data",
          "data": {
            "image/png": "[encoded data removed]",
            "text/plain": [
              "<Figure size 432x288 with 1 Axes>"
            ]
          },
          "metadata": {
            "tags": []
          }
        }
      ]
    },
    {
      "cell_type": "code",
      "metadata": {
        "colab": {
          "base_uri": "https://localhost:8080/",
          "height": 285
        },
        "id": "cGlEQvvTBYP9",
        "outputId": "1c78c9f5-dc59-489d-a84a-51f505521277"
      },
      "source": [
        "# Plot for univariable, Height\n",
        "sns.boxplot(x=data[\"Height\"])\n",
        "plt.show()"
      ],
      "execution_count": null,
      "outputs": [
        {
          "output_type": "display_data",
          "data": {
            "image/png": "[encoded data removed]",
            "text/plain": [
              "<Figure size 432x288 with 1 Axes>"
            ]
          },
          "metadata": {
            "tags": []
          }
        }
      ]
    },
    {
      "cell_type": "markdown",
      "metadata": {
        "id": "pdha1Hd6BoqR"
      },
      "source": [
        "No outliers in features Weight and Height.\n",
        "As the features are continuous, I am going to use an histagram to plot each feature and look at the distribution. Now, I am going to plot the information using an histagram to check out the distribution."
      ]
    },
    {
      "cell_type": "code",
      "metadata": {
        "colab": {
          "base_uri": "https://localhost:8080/",
          "height": 365
        },
        "id": "gBRlhuiP9g7f",
        "outputId": "16120e15-d323-4545-a894-0a3897f88234"
      },
      "source": [
        "# Plot for univariable, Weight\n",
        "sns.displot(data=data, x=\"Weight\", kde=True)\n",
        "plt.show()"
      ],
      "execution_count": null,
      "outputs": [
        {
          "output_type": "display_data",
          "data": {
            "image/png": "[encoded data removed]",
            "text/plain": [
              "<Figure size 360x360 with 1 Axes>"
            ]
          },
          "metadata": {
            "tags": []
          }
        }
      ]
    },
    {
      "cell_type": "code",
      "metadata": {
        "colab": {
          "base_uri": "https://localhost:8080/",
          "height": 365
        },
        "id": "Pvp3RCZ_-xgY",
        "outputId": "bb52311b-ba15-4d59-bbb2-6d7c966da0f5"
      },
      "source": [
        "# Plot for univariable, Height\n",
        "sns.displot(data=data, x=\"Height\", kde=True)\n",
        "plt.show()"
      ],
      "execution_count": null,
      "outputs": [
        {
          "output_type": "display_data",
          "data": {
            "image/png": "[encoded data removed]",
            "text/plain": [
              "<Figure size 360x360 with 1 Axes>"
            ]
          },
          "metadata": {
            "tags": []
          }
        }
      ]
    },
    {
      "cell_type": "markdown",
      "metadata": {
        "id": "-29-XJ_z_ydA"
      },
      "source": [
        "By looking at the histograms of each feature, it is clear that there are different distributions together, therefore using unsupervised learning models such as clustering will classify this information. This is more noticable when plotting both features in the scatterplot, as it looks there are clusters. \n",
        "\n",
        "NOTE: additionally, it seems this clusters have an oval shape, therefore k-mean cluster might perform bad.\n",
        "\n",
        "NOTE 2: no normalization performed as the distribution of the data is not gaussian (no bell shape) [7]."
      ]
    },
    {
      "cell_type": "code",
      "metadata": {
        "colab": {
          "base_uri": "https://localhost:8080/",
          "height": 285
        },
        "id": "OjFGzRHnJQVW",
        "outputId": "a344e31d-f91c-46b1-e3c5-adc8e20759a9"
      },
      "source": [
        "# Plot for bivariables, Weight and Height\n",
        "sns.scatterplot(data=data, x=\"Height\", y=\"Weight\")\n",
        "plt.show()"
      ],
      "execution_count": null,
      "outputs": [
        {
          "output_type": "display_data",
          "data": {
            "image/png": "[encoded data removed]",
            "text/plain": [
              "<Figure size 432x288 with 1 Axes>"
            ]
          },
          "metadata": {
            "tags": [],
            "needs_background": "light"
          }
        }
      ]
    },
    {
      "cell_type": "markdown",
      "metadata": {
        "id": "hjDV7L_P5a_w"
      },
      "source": [
        "###Use K-means and EM algorithm to cluster dataset."
      ]
    },
    {
      "cell_type": "markdown",
      "metadata": {
        "id": "li-xY6ocCy6u"
      },
      "source": [
        "#### K-means"
      ]
    },
    {
      "cell_type": "markdown",
      "metadata": {
        "id": "2wHY1YFmDJjL"
      },
      "source": [
        "First of all, I will determinate the number of clusters to use by looking at the scree plot and use the elbow method to pick the number of k values. "
      ]
    },
    {
      "cell_type": "code",
      "metadata": {
        "id": "uFcpsJvTarlb"
      },
      "source": [
        "def plot_linegragh(X, y, title, xlabel, ylabel):\n",
        "  # Plot results\n",
        "  plt.plot(X, y)\n",
        "  plt.title('Sceen Plot')\n",
        "  plt.xlabel('Number of clusters')\n",
        "  plt.ylabel('WCSS')\n",
        "  plt.show()\n",
        "\n",
        "def getSSE_kmean(X, k, args):\n",
        "  kmeans = KMeans(n_clusters=k, **args)\n",
        "  kmeans.fit(X)\n",
        "  return kmeans.inertia_"
      ],
      "execution_count": null,
      "outputs": []
    },
    {
      "cell_type": "code",
      "metadata": {
        "id": "PejQVdHVIQbi"
      },
      "source": [
        "# Get array values\n",
        "X = data.values\n",
        "\n",
        "wcss = []\n",
        "n_ks = 10 # Number of times I will create a KMeans model to compare to others and show sceen plot to select cluster using elbow method.\n",
        "n_components = range(1, n_ks+1)\n",
        "\n",
        "# initial cluster centers for k-mean clustering in a smart way to speed up convergence. \n",
        "# Also this is used to avoid initialization trap to correctly select the centroids.\n",
        "init_method = 'k-means++'\n",
        "\n",
        "seed = 16 # Determines random number generation for centroid initialization."
      ],
      "execution_count": null,
      "outputs": []
    },
    {
      "cell_type": "code",
      "metadata": {
        "colab": {
          "base_uri": "https://localhost:8080/",
          "height": 301
        },
        "id": "IF9OWoL4DHVy",
        "outputId": "86baf40f-e867-4068-81ff-526a3cdb037b"
      },
      "source": [
        "# Train model for each n_ks clusters, then get the WCSS to plot in a Sceen Plot to choose k.\n",
        "kmeans_kwargs = {\n",
        "    \"init\": init_method,\n",
        "    #\"n_init\": 10,\n",
        "    #\"max_iter\": 300,\n",
        "    \"random_state\": seed,\n",
        "}\n",
        "\n",
        "for i in n_components:\n",
        "    SSE = getSSE_kmean(X, i, kmeans_kwargs)\n",
        "    wcss.append(SSE) # Sum of squared distances of samples to their closest cluster center.\n",
        "\n",
        "plot_linegragh(n_components, wcss, 'Sceen Plot', 'Number of clusters', 'WCSS')"
      ],
      "execution_count": null,
      "outputs": [
        {
          "output_type": "display_data",
          "data": {
            "image/png": "[encoded data removed]",
            "text/plain": [
              "<Figure size 432x288 with 1 Axes>"
            ]
          },
          "metadata": {
            "tags": []
          }
        }
      ]
    },
    {
      "cell_type": "markdown",
      "metadata": {
        "id": "eV0mLz0bKMRc"
      },
      "source": [
        "By looking at the scree plot and using the \"Elbow\" method, it seems the best option for k-means clustering is k=3."
      ]
    },
    {
      "cell_type": "code",
      "metadata": {
        "colab": {
          "base_uri": "https://localhost:8080/"
        },
        "id": "Rhx2NNf3KUlf",
        "outputId": "6a9963f2-398d-4b45-f55d-7cca953b198e"
      },
      "source": [
        "# Train model on dataset\n",
        "k=3 # number choosen by elbow method\n",
        "kmeans = KMeans(n_clusters=k, **kmeans_kwargs)\n",
        "y_km = kmeans.fit_predict(X)\n",
        "\n",
        "# Show number of clusters\n",
        "set(y_km)"
      ],
      "execution_count": null,
      "outputs": [
        {
          "output_type": "execute_result",
          "data": {
            "text/plain": [
              "{0, 1, 2}"
            ]
          },
          "metadata": {
            "tags": []
          },
          "execution_count": 15
        }
      ]
    },
    {
      "cell_type": "code",
      "metadata": {
        "colab": {
          "base_uri": "https://localhost:8080/",
          "height": 301
        },
        "id": "8KQhDc84KlEh",
        "outputId": "ef5d579a-dac8-4095-c00b-4761e41c8590"
      },
      "source": [
        "# Create list of colors\n",
        "pal = sns.color_palette()\n",
        "color_list = pal.as_hex()\n",
        "\n",
        "# Plot data, colour clusters and centroids.\n",
        "for i in range(0,k):\n",
        "  plt.scatter(x=X[y_km==i, 0], y=X[y_km==i, 1], c=color_list[i], label='Cluster '+str(i+1))\n",
        "plt.scatter(kmeans.cluster_centers_[:, 0], kmeans.cluster_centers_[:, 1], s=80, c='red', label='Centroids')\n",
        "\n",
        "# Add title and labels to axis\n",
        "plt.title('Clusters of Height and Weight')\n",
        "plt.xlabel('Weight')\n",
        "plt.ylabel('Height')\n",
        "plt.legend(loc='best')\n",
        "plt.show()"
      ],
      "execution_count": null,
      "outputs": [
        {
          "output_type": "display_data",
          "data": {
            "image/png": "[encoded data removed]",
            "text/plain": [
              "<Figure size 432x288 with 1 Axes>"
            ]
          },
          "metadata": {
            "tags": []
          }
        }
      ]
    },
    {
      "cell_type": "markdown",
      "metadata": {
        "id": "y7Jet_GcRxg5"
      },
      "source": [
        "#### EM Algorithm"
      ]
    },
    {
      "cell_type": "markdown",
      "metadata": {
        "id": "DlWGN6azXtUm"
      },
      "source": [
        "First of all, I will determinate the number of clusters to use by looking at the scree plot and use the elbow method to pick the number of k values. "
      ]
    },
    {
      "cell_type": "code",
      "metadata": {
        "id": "t__maG3dX5q3"
      },
      "source": [
        "gmm_bic = []\n",
        "gmm_aic = []\n",
        "\n",
        "n_ks = 10\n",
        "n_components = np.arange(1, n_ks+1)\n",
        "\n",
        "# type of parameters to use, as it is assume each component has its own general parameter.\n",
        "# it allows each cluster to be modeled as an ellipse with arbitrary orientation\n",
        "type_co = 'full' \n",
        "\n",
        "seed = 5 # Determines random number generation for centroid initialization."
      ],
      "execution_count": null,
      "outputs": []
    },
    {
      "cell_type": "code",
      "metadata": {
        "colab": {
          "base_uri": "https://localhost:8080/",
          "height": 301
        },
        "id": "-C1r6huKR1-x",
        "outputId": "c06d1440-72d0-4f2c-b072-4a7fa42c68cf"
      },
      "source": [
        "# code from ML lecture\n",
        "gmm_kwargs = {\n",
        "    'covariance_type': type_co, \n",
        "    'random_state': seed\n",
        "}\n",
        "\n",
        "for n in n_components:\n",
        "  gmm = GaussianMixture(n_components=n, **gmm_kwargs)\n",
        "  gmm.fit(X)\n",
        "\n",
        "  gmm_bic.append(gmm.bic(X))\n",
        "  gmm_aic.append(gmm.aic(X))\n",
        "\n",
        "# Plot results\n",
        "plt.plot(n_components, gmm_bic, label='BIC')\n",
        "plt.plot(n_components, gmm_aic, label='AIC')\n",
        "\n",
        "# Plot title and axis labels\n",
        "plt.ylabel('Values')\n",
        "plt.xlabel('Number of clusters')\n",
        "plt.title('Sceen Plot')\n",
        "plt.legend(loc='best')\n",
        "plt.show()"
      ],
      "execution_count": null,
      "outputs": [
        {
          "output_type": "display_data",
          "data": {
            "image/png": "[encoded data removed]",
            "text/plain": [
              "<Figure size 432x288 with 1 Axes>"
            ]
          },
          "metadata": {
            "tags": []
          }
        }
      ]
    },
    {
      "cell_type": "markdown",
      "metadata": {
        "id": "sKjlzUVtZo6_"
      },
      "source": [
        "By looking at the scree plot, it seems the best option is k=4, as the AIC and BIC values started increasing after cluster 4."
      ]
    },
    {
      "cell_type": "code",
      "metadata": {
        "colab": {
          "base_uri": "https://localhost:8080/"
        },
        "id": "qReSemUmZbiK",
        "outputId": "c6937a7b-b5cf-4fe4-a6ec-675d962e11bd"
      },
      "source": [
        "# Train model on dataset\n",
        "k = 4 # number choosen by elbow method\n",
        "gmm = GaussianMixture(n_components=k, **gmm_kwargs)\n",
        "y_gmm = gmm.fit_predict(X)\n",
        "\n",
        "# Show number of clusters\n",
        "set(y_gmm)"
      ],
      "execution_count": null,
      "outputs": [
        {
          "output_type": "execute_result",
          "data": {
            "text/plain": [
              "{0, 1, 2, 3}"
            ]
          },
          "metadata": {
            "tags": []
          },
          "execution_count": 37
        }
      ]
    },
    {
      "cell_type": "code",
      "metadata": {
        "colab": {
          "base_uri": "https://localhost:8080/",
          "height": 301
        },
        "id": "v0pfAoBYaDPr",
        "outputId": "a619a2b0-07a0-4f90-e495-6e6329ff705b"
      },
      "source": [
        "# Create list of colors\n",
        "pal = sns.color_palette()\n",
        "color_list = pal.as_hex()\n",
        "\n",
        "# Plot data, colour clusters and centroids.\n",
        "for i in range(0,k):\n",
        "  plt.scatter(x=X[y_gmm==i, 0], y=X[y_gmm==i, 1], c=color_list[i], label='Cluster '+str(i+1))\n",
        "\n",
        "# Add title and labels to axis\n",
        "plt.title('Clusters of Height and Weight')\n",
        "plt.xlabel('Weight')\n",
        "plt.ylabel('Height')\n",
        "plt.legend(loc='best')\n",
        "plt.show()"
      ],
      "execution_count": null,
      "outputs": [
        {
          "output_type": "display_data",
          "data": {
            "image/png": "[encoded data removed]",
            "text/plain": [
              "<Figure size 432x288 with 1 Axes>"
            ]
          },
          "metadata": {
            "tags": []
          }
        }
      ]
    },
    {
      "cell_type": "markdown",
      "metadata": {
        "id": "xiGHN2405eFe"
      },
      "source": [
        "###Discuss the outcomes.\n",
        "* By looking straight away at the scatter plot, it is noticeable that there are clusters in the dataset and somewhat there were 4 clusters (groups, sources, or classes).\n",
        "* What was interesting is the shape of the data on the scatterplot, as it has an oval form, therefore I could assume that K-means would not classify properly the data as k-means tents to have a circle shape in contrast to GMM, where we can define the shape with the property covariance_type when using *sklean.Gaussian Mixture* module. Therefore, the best model for this dataset is the GMM as this could cluster the data into 4 noticeable groups. \n",
        "* Additionally, GMM is a soft clustering model, therefore it is more flexible as it used probability or likelihood assigned for the data points in each cluster."
      ]
    },
    {
      "cell_type": "markdown",
      "metadata": {
        "id": "Rp5KUc_Y5gEw"
      },
      "source": [
        "###Is it possible to use some pre-processing technique to improve the performance of K-means clustering?\n",
        "Yes. A way to improve K-means clustering could be:\n",
        "* Transforming the data: log, sqrt.\n",
        "* Using cross feature.\n",
        "* Normalization of the data (generally, getting the z-score to make the data unitless. This also improve computing process).\n",
        "* If there are many features in the dataset, use dimensional reduction methods such as PCA.\n",
        "* Using Quantiles on an uncategorizable distribution prior to any preprocessing. Divide the data into intervals where each interval contains an equal number of examples. These interval boundaries are called quantiles [7]."
      ]
    },
    {
      "cell_type": "markdown",
      "metadata": {
        "id": "1NeCIJrjoiB5"
      },
      "source": [
        "## Question 5: Discuss the following"
      ]
    },
    {
      "cell_type": "markdown",
      "metadata": {
        "id": "d6OszzdHonYa"
      },
      "source": [
        "###Two approaches to learn the label from unlabelled data?\n",
        "There are different ways to label unlabelled datasets. Examples are:\n",
        "* **Clustering** methods. As we have seen in Machine Learning Lecture, there are different clustering algorithms to which elements belong together. Examples are k-mean clustering, Gaussian Mixture Model, and Hierarchical clustering.\n",
        "* **Dimensionality Reduction** technics. This is used to simplify a dataset with high dimensionality. An example of this is the Principal Component Analysis, useful to identify patterns in data."
      ]
    },
    {
      "cell_type": "markdown",
      "metadata": {
        "id": "94-K3wQdpJRf"
      },
      "source": [
        "###Can we use SVM to classify MNIST dataset?\n",
        "- **Yes**, it is possible to classify the MNIST dataset using Support Vector Machine. \n",
        "- An option is using the library sklearn import the modules **svm** and **model_selection.GridSearchCV** (helps to loop through predefined hyperparameters and fit model on your training set) [6]."
      ]
    },
    {
      "cell_type": "markdown",
      "metadata": {
        "id": "yFPzthibpEJb"
      },
      "source": [
        "###How can you evaluate a Model in Machine Learning?\n",
        "There are different ways to evaluate a model in ML.\n",
        "* A common way to evaluate a supervised learning model is by looking at the accuracy and loss value when comparing models (e.g., after tuning hyper-parameters). \n",
        "* When there is a classification problem, it is a good idea to additionally check out the confusion matrix (false Positives and true false Negatives).\n",
        "* For unlabelled data, there is no specific answer as I think it depends on the data and the algorithm selected."
      ]
    },
    {
      "cell_type": "markdown",
      "metadata": {
        "id": "WK4VuNXIRCwN"
      },
      "source": [
        "# References"
      ]
    },
    {
      "cell_type": "markdown",
      "metadata": {
        "id": "kUQ0qTrTRFdT"
      },
      "source": [
        "[1]. https://scikit-learn.org/stable/modules/generated/sklearn.cluster.KMeans.html\n",
        "\n",
        "[2]. https://towardsdatascience.com/machine-learning-algorithms-part-9-k-means-example-in-python-f2ad05ed5203\n",
        "\n",
        "[3]. https://www.analyticsvidhya.com/blog/2021/01/in-depth-intuition-of-k-means-clustering-algorithm-in-machine-learning/\n",
        "\n",
        "[4]. https://stackoverflow.com/questions/47412749/how-can-i-get-a-representative-point-of-a-gmm-cluster\n",
        "\n",
        "[5]. https://www.edupristine.com/blog/k-means-algorithm\n",
        "\n",
        "[6]. https://medium.com/analytics-vidhya/image-classification-using-machine-learning-support-vector-machine-svm-dc7a0ec92e01\n",
        "\n",
        "[7]. https://developers.google.com/machine-learning/clustering/prepare-data\n",
        "\n",
        "\n",
        "\n"
      ]
    }
  ]
}