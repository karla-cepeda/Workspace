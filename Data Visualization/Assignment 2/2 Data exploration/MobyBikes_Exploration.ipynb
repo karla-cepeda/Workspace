{
 "cells": [
  {
   "cell_type": "markdown",
   "metadata": {},
   "source": [
    "# Exploration"
   ]
  },
  {
   "cell_type": "code",
   "execution_count": 65,
   "metadata": {},
   "outputs": [],
   "source": [
    "import plotly.express as px\n",
    "import plotly.graph_objects as go\n",
    "import geopandas as gpd\n",
    "\n",
    "import pandas as pd\n",
    "import numpy as np\n",
    "\n",
    "import seaborn as sns\n",
    "import matplotlib.pyplot as plt\n",
    "\n",
    "import sqlalchemy\n",
    "\n",
    "import mysql.connector\n",
    "\n",
    "\n",
    "import os\n",
    "\n",
    "os.chdir(r\"E:\\Karla\\IRELAND v2\\DKIT\\2nd Semester\\Data Visualization\\CA\\CA2\\1 Data collection and preparation\\Datasets\")"
   ]
  },
  {
   "cell_type": "code",
   "execution_count": 5,
   "metadata": {},
   "outputs": [],
   "source": [
    "# Call stored procedure\n",
    "df = pd.read_csv(\"bikes_history.csv\")"
   ]
  },
  {
   "cell_type": "code",
   "execution_count": 6,
   "metadata": {},
   "outputs": [
    {
     "data": {
      "text/html": [
       "<div>\n",
       "<style scoped>\n",
       "    .dataframe tbody tr th:only-of-type {\n",
       "        vertical-align: middle;\n",
       "    }\n",
       "\n",
       "    .dataframe tbody tr th {\n",
       "        vertical-align: top;\n",
       "    }\n",
       "\n",
       "    .dataframe thead th {\n",
       "        text-align: right;\n",
       "    }\n",
       "</style>\n",
       "<table border=\"1\" class=\"dataframe\">\n",
       "  <thead>\n",
       "    <tr style=\"text-align: right;\">\n",
       "      <th></th>\n",
       "      <th>HarvestTime</th>\n",
       "      <th>BikeID</th>\n",
       "      <th>Battery</th>\n",
       "      <th>BikeIdentifier</th>\n",
       "      <th>BikeTypeName</th>\n",
       "      <th>EBikeProfileID</th>\n",
       "      <th>EBikeStateID</th>\n",
       "      <th>IsEBike</th>\n",
       "      <th>IsMotor</th>\n",
       "      <th>IsSmartLock</th>\n",
       "      <th>LastGPSTime</th>\n",
       "      <th>LastRentalStart</th>\n",
       "      <th>Latitude</th>\n",
       "      <th>Longitude</th>\n",
       "      <th>SpikeID</th>\n",
       "    </tr>\n",
       "  </thead>\n",
       "  <tbody>\n",
       "    <tr>\n",
       "      <th>0</th>\n",
       "      <td>2020-09-23T17:00:02</td>\n",
       "      <td>5</td>\n",
       "      <td>90.0</td>\n",
       "      <td>1</td>\n",
       "      <td>DUB-General</td>\n",
       "      <td>1</td>\n",
       "      <td>2</td>\n",
       "      <td>True</td>\n",
       "      <td>False</td>\n",
       "      <td>False</td>\n",
       "      <td>2020-09-23T17:46:16</td>\n",
       "      <td>2020-09-23T15:34:58</td>\n",
       "      <td>53.3334</td>\n",
       "      <td>-6.24431</td>\n",
       "      <td>1</td>\n",
       "    </tr>\n",
       "    <tr>\n",
       "      <th>1</th>\n",
       "      <td>2020-09-23T17:00:02</td>\n",
       "      <td>6</td>\n",
       "      <td>46.0</td>\n",
       "      <td>2</td>\n",
       "      <td>DUB-General</td>\n",
       "      <td>1</td>\n",
       "      <td>2</td>\n",
       "      <td>True</td>\n",
       "      <td>False</td>\n",
       "      <td>False</td>\n",
       "      <td>2020-09-23T17:44:16</td>\n",
       "      <td>2020-09-23T17:35:42</td>\n",
       "      <td>53.3414</td>\n",
       "      <td>-6.28357</td>\n",
       "      <td>2</td>\n",
       "    </tr>\n",
       "    <tr>\n",
       "      <th>2</th>\n",
       "      <td>2020-09-23T17:00:02</td>\n",
       "      <td>8</td>\n",
       "      <td>NaN</td>\n",
       "      <td>4</td>\n",
       "      <td>DUB-General</td>\n",
       "      <td>1</td>\n",
       "      <td>2</td>\n",
       "      <td>True</td>\n",
       "      <td>False</td>\n",
       "      <td>False</td>\n",
       "      <td>2020-09-23T11:44:01</td>\n",
       "      <td>2020-09-23T10:17:17</td>\n",
       "      <td>0.0000</td>\n",
       "      <td>0.00000</td>\n",
       "      <td>4</td>\n",
       "    </tr>\n",
       "    <tr>\n",
       "      <th>3</th>\n",
       "      <td>2020-09-23T17:00:02</td>\n",
       "      <td>9</td>\n",
       "      <td>68.0</td>\n",
       "      <td>5</td>\n",
       "      <td>DUB-General</td>\n",
       "      <td>1</td>\n",
       "      <td>2</td>\n",
       "      <td>True</td>\n",
       "      <td>False</td>\n",
       "      <td>False</td>\n",
       "      <td>2020-09-23T17:51:29</td>\n",
       "      <td>2020-09-22T07:48:40</td>\n",
       "      <td>53.3252</td>\n",
       "      <td>-6.25521</td>\n",
       "      <td>5</td>\n",
       "    </tr>\n",
       "    <tr>\n",
       "      <th>4</th>\n",
       "      <td>2020-09-23T17:00:02</td>\n",
       "      <td>12</td>\n",
       "      <td>61.0</td>\n",
       "      <td>8</td>\n",
       "      <td>DUB-General</td>\n",
       "      <td>1</td>\n",
       "      <td>2</td>\n",
       "      <td>True</td>\n",
       "      <td>False</td>\n",
       "      <td>False</td>\n",
       "      <td>2020-09-23T17:56:10</td>\n",
       "      <td>2020-09-23T17:43:14</td>\n",
       "      <td>53.3090</td>\n",
       "      <td>-6.21631</td>\n",
       "      <td>8</td>\n",
       "    </tr>\n",
       "  </tbody>\n",
       "</table>\n",
       "</div>"
      ],
      "text/plain": [
       "           HarvestTime  BikeID  Battery  BikeIdentifier BikeTypeName  \\\n",
       "0  2020-09-23T17:00:02       5     90.0               1  DUB-General   \n",
       "1  2020-09-23T17:00:02       6     46.0               2  DUB-General   \n",
       "2  2020-09-23T17:00:02       8      NaN               4  DUB-General   \n",
       "3  2020-09-23T17:00:02       9     68.0               5  DUB-General   \n",
       "4  2020-09-23T17:00:02      12     61.0               8  DUB-General   \n",
       "\n",
       "   EBikeProfileID  EBikeStateID  IsEBike  IsMotor  IsSmartLock  \\\n",
       "0               1             2     True    False        False   \n",
       "1               1             2     True    False        False   \n",
       "2               1             2     True    False        False   \n",
       "3               1             2     True    False        False   \n",
       "4               1             2     True    False        False   \n",
       "\n",
       "           LastGPSTime      LastRentalStart  Latitude  Longitude  SpikeID  \n",
       "0  2020-09-23T17:46:16  2020-09-23T15:34:58   53.3334   -6.24431        1  \n",
       "1  2020-09-23T17:44:16  2020-09-23T17:35:42   53.3414   -6.28357        2  \n",
       "2  2020-09-23T11:44:01  2020-09-23T10:17:17    0.0000    0.00000        4  \n",
       "3  2020-09-23T17:51:29  2020-09-22T07:48:40   53.3252   -6.25521        5  \n",
       "4  2020-09-23T17:56:10  2020-09-23T17:43:14   53.3090   -6.21631        8  "
      ]
     },
     "execution_count": 6,
     "metadata": {},
     "output_type": "execute_result"
    }
   ],
   "source": [
    "df.head()"
   ]
  },
  {
   "cell_type": "code",
   "execution_count": 9,
   "metadata": {},
   "outputs": [],
   "source": [
    "df.BikeID = df.BikeID.astype(str)\n",
    "df.LastRentalStart = pd.to_datetime(df.LastRentalStart)"
   ]
  },
  {
   "cell_type": "code",
   "execution_count": 11,
   "metadata": {},
   "outputs": [
    {
     "data": {
      "text/html": [
       "<div>\n",
       "<style scoped>\n",
       "    .dataframe tbody tr th:only-of-type {\n",
       "        vertical-align: middle;\n",
       "    }\n",
       "\n",
       "    .dataframe tbody tr th {\n",
       "        vertical-align: top;\n",
       "    }\n",
       "\n",
       "    .dataframe thead th {\n",
       "        text-align: right;\n",
       "    }\n",
       "</style>\n",
       "<table border=\"1\" class=\"dataframe\">\n",
       "  <thead>\n",
       "    <tr style=\"text-align: right;\">\n",
       "      <th></th>\n",
       "      <th>HarvestTime</th>\n",
       "      <th>BikeID</th>\n",
       "      <th>Battery</th>\n",
       "      <th>BikeIdentifier</th>\n",
       "      <th>BikeTypeName</th>\n",
       "      <th>EBikeProfileID</th>\n",
       "      <th>EBikeStateID</th>\n",
       "      <th>IsEBike</th>\n",
       "      <th>IsMotor</th>\n",
       "      <th>IsSmartLock</th>\n",
       "      <th>LastGPSTime</th>\n",
       "      <th>LastRentalStart</th>\n",
       "      <th>Latitude</th>\n",
       "      <th>Longitude</th>\n",
       "      <th>SpikeID</th>\n",
       "    </tr>\n",
       "  </thead>\n",
       "  <tbody>\n",
       "    <tr>\n",
       "      <th>0</th>\n",
       "      <td>2020-09-23T17:00:02</td>\n",
       "      <td>5</td>\n",
       "      <td>90.0</td>\n",
       "      <td>1</td>\n",
       "      <td>DUB-General</td>\n",
       "      <td>1</td>\n",
       "      <td>2</td>\n",
       "      <td>True</td>\n",
       "      <td>False</td>\n",
       "      <td>False</td>\n",
       "      <td>2020-09-23T17:46:16</td>\n",
       "      <td>2020-09-23 15:34:58</td>\n",
       "      <td>53.3334</td>\n",
       "      <td>-6.24431</td>\n",
       "      <td>1</td>\n",
       "    </tr>\n",
       "    <tr>\n",
       "      <th>1</th>\n",
       "      <td>2020-09-23T17:00:02</td>\n",
       "      <td>6</td>\n",
       "      <td>46.0</td>\n",
       "      <td>2</td>\n",
       "      <td>DUB-General</td>\n",
       "      <td>1</td>\n",
       "      <td>2</td>\n",
       "      <td>True</td>\n",
       "      <td>False</td>\n",
       "      <td>False</td>\n",
       "      <td>2020-09-23T17:44:16</td>\n",
       "      <td>2020-09-23 17:35:42</td>\n",
       "      <td>53.3414</td>\n",
       "      <td>-6.28357</td>\n",
       "      <td>2</td>\n",
       "    </tr>\n",
       "    <tr>\n",
       "      <th>2</th>\n",
       "      <td>2020-09-23T17:00:02</td>\n",
       "      <td>8</td>\n",
       "      <td>NaN</td>\n",
       "      <td>4</td>\n",
       "      <td>DUB-General</td>\n",
       "      <td>1</td>\n",
       "      <td>2</td>\n",
       "      <td>True</td>\n",
       "      <td>False</td>\n",
       "      <td>False</td>\n",
       "      <td>2020-09-23T11:44:01</td>\n",
       "      <td>2020-09-23 10:17:17</td>\n",
       "      <td>0.0000</td>\n",
       "      <td>0.00000</td>\n",
       "      <td>4</td>\n",
       "    </tr>\n",
       "    <tr>\n",
       "      <th>3</th>\n",
       "      <td>2020-09-23T17:00:02</td>\n",
       "      <td>9</td>\n",
       "      <td>68.0</td>\n",
       "      <td>5</td>\n",
       "      <td>DUB-General</td>\n",
       "      <td>1</td>\n",
       "      <td>2</td>\n",
       "      <td>True</td>\n",
       "      <td>False</td>\n",
       "      <td>False</td>\n",
       "      <td>2020-09-23T17:51:29</td>\n",
       "      <td>2020-09-22 07:48:40</td>\n",
       "      <td>53.3252</td>\n",
       "      <td>-6.25521</td>\n",
       "      <td>5</td>\n",
       "    </tr>\n",
       "    <tr>\n",
       "      <th>4</th>\n",
       "      <td>2020-09-23T17:00:02</td>\n",
       "      <td>12</td>\n",
       "      <td>61.0</td>\n",
       "      <td>8</td>\n",
       "      <td>DUB-General</td>\n",
       "      <td>1</td>\n",
       "      <td>2</td>\n",
       "      <td>True</td>\n",
       "      <td>False</td>\n",
       "      <td>False</td>\n",
       "      <td>2020-09-23T17:56:10</td>\n",
       "      <td>2020-09-23 17:43:14</td>\n",
       "      <td>53.3090</td>\n",
       "      <td>-6.21631</td>\n",
       "      <td>8</td>\n",
       "    </tr>\n",
       "  </tbody>\n",
       "</table>\n",
       "</div>"
      ],
      "text/plain": [
       "           HarvestTime BikeID  Battery  BikeIdentifier BikeTypeName  \\\n",
       "0  2020-09-23T17:00:02      5     90.0               1  DUB-General   \n",
       "1  2020-09-23T17:00:02      6     46.0               2  DUB-General   \n",
       "2  2020-09-23T17:00:02      8      NaN               4  DUB-General   \n",
       "3  2020-09-23T17:00:02      9     68.0               5  DUB-General   \n",
       "4  2020-09-23T17:00:02     12     61.0               8  DUB-General   \n",
       "\n",
       "   EBikeProfileID  EBikeStateID  IsEBike  IsMotor  IsSmartLock  \\\n",
       "0               1             2     True    False        False   \n",
       "1               1             2     True    False        False   \n",
       "2               1             2     True    False        False   \n",
       "3               1             2     True    False        False   \n",
       "4               1             2     True    False        False   \n",
       "\n",
       "           LastGPSTime     LastRentalStart  Latitude  Longitude  SpikeID  \n",
       "0  2020-09-23T17:46:16 2020-09-23 15:34:58   53.3334   -6.24431        1  \n",
       "1  2020-09-23T17:44:16 2020-09-23 17:35:42   53.3414   -6.28357        2  \n",
       "2  2020-09-23T11:44:01 2020-09-23 10:17:17    0.0000    0.00000        4  \n",
       "3  2020-09-23T17:51:29 2020-09-22 07:48:40   53.3252   -6.25521        5  \n",
       "4  2020-09-23T17:56:10 2020-09-23 17:43:14   53.3090   -6.21631        8  "
      ]
     },
     "execution_count": 11,
     "metadata": {},
     "output_type": "execute_result"
    }
   ],
   "source": [
    "df.head()"
   ]
  },
  {
   "cell_type": "code",
   "execution_count": 12,
   "metadata": {},
   "outputs": [
    {
     "name": "stdout",
     "output_type": "stream",
     "text": [
      "<class 'pandas.core.frame.DataFrame'>\n",
      "RangeIndex: 814970 entries, 0 to 814969\n",
      "Data columns (total 15 columns):\n",
      " #   Column           Non-Null Count   Dtype         \n",
      "---  ------           --------------   -----         \n",
      " 0   HarvestTime      814970 non-null  object        \n",
      " 1   BikeID           814970 non-null  object        \n",
      " 2   Battery          792496 non-null  float64       \n",
      " 3   BikeIdentifier   814970 non-null  int64         \n",
      " 4   BikeTypeName     814970 non-null  object        \n",
      " 5   EBikeProfileID   814970 non-null  int64         \n",
      " 6   EBikeStateID     814970 non-null  int64         \n",
      " 7   IsEBike          814970 non-null  bool          \n",
      " 8   IsMotor          814970 non-null  bool          \n",
      " 9   IsSmartLock      814970 non-null  bool          \n",
      " 10  LastGPSTime      814970 non-null  object        \n",
      " 11  LastRentalStart  814970 non-null  datetime64[ns]\n",
      " 12  Latitude         814970 non-null  float64       \n",
      " 13  Longitude        814970 non-null  float64       \n",
      " 14  SpikeID          814970 non-null  int64         \n",
      "dtypes: bool(3), datetime64[ns](1), float64(3), int64(4), object(4)\n",
      "memory usage: 76.9+ MB\n"
     ]
    }
   ],
   "source": [
    "df.info()"
   ]
  },
  {
   "cell_type": "code",
   "execution_count": 13,
   "metadata": {},
   "outputs": [
    {
     "data": {
      "text/html": [
       "<div>\n",
       "<style scoped>\n",
       "    .dataframe tbody tr th:only-of-type {\n",
       "        vertical-align: middle;\n",
       "    }\n",
       "\n",
       "    .dataframe tbody tr th {\n",
       "        vertical-align: top;\n",
       "    }\n",
       "\n",
       "    .dataframe thead th {\n",
       "        text-align: right;\n",
       "    }\n",
       "</style>\n",
       "<table border=\"1\" class=\"dataframe\">\n",
       "  <thead>\n",
       "    <tr style=\"text-align: right;\">\n",
       "      <th></th>\n",
       "      <th>HarvestTime</th>\n",
       "      <th>BikeID</th>\n",
       "      <th>Battery</th>\n",
       "      <th>BikeIdentifier</th>\n",
       "      <th>BikeTypeName</th>\n",
       "      <th>EBikeProfileID</th>\n",
       "      <th>EBikeStateID</th>\n",
       "      <th>IsEBike</th>\n",
       "      <th>IsMotor</th>\n",
       "      <th>IsSmartLock</th>\n",
       "      <th>LastGPSTime</th>\n",
       "      <th>LastRentalStart</th>\n",
       "      <th>Latitude</th>\n",
       "      <th>Longitude</th>\n",
       "      <th>SpikeID</th>\n",
       "    </tr>\n",
       "  </thead>\n",
       "  <tbody>\n",
       "    <tr>\n",
       "      <th>0</th>\n",
       "      <td>2020-09-23T17:00:02</td>\n",
       "      <td>5</td>\n",
       "      <td>90.0</td>\n",
       "      <td>1</td>\n",
       "      <td>DUB-General</td>\n",
       "      <td>1</td>\n",
       "      <td>2</td>\n",
       "      <td>True</td>\n",
       "      <td>False</td>\n",
       "      <td>False</td>\n",
       "      <td>2020-09-23T17:46:16</td>\n",
       "      <td>2020-09-23 15:34:58</td>\n",
       "      <td>53.3334</td>\n",
       "      <td>-6.24431</td>\n",
       "      <td>1</td>\n",
       "    </tr>\n",
       "    <tr>\n",
       "      <th>1</th>\n",
       "      <td>2020-09-23T17:00:02</td>\n",
       "      <td>6</td>\n",
       "      <td>46.0</td>\n",
       "      <td>2</td>\n",
       "      <td>DUB-General</td>\n",
       "      <td>1</td>\n",
       "      <td>2</td>\n",
       "      <td>True</td>\n",
       "      <td>False</td>\n",
       "      <td>False</td>\n",
       "      <td>2020-09-23T17:44:16</td>\n",
       "      <td>2020-09-23 17:35:42</td>\n",
       "      <td>53.3414</td>\n",
       "      <td>-6.28357</td>\n",
       "      <td>2</td>\n",
       "    </tr>\n",
       "    <tr>\n",
       "      <th>2</th>\n",
       "      <td>2020-09-23T17:00:02</td>\n",
       "      <td>8</td>\n",
       "      <td>NaN</td>\n",
       "      <td>4</td>\n",
       "      <td>DUB-General</td>\n",
       "      <td>1</td>\n",
       "      <td>2</td>\n",
       "      <td>True</td>\n",
       "      <td>False</td>\n",
       "      <td>False</td>\n",
       "      <td>2020-09-23T11:44:01</td>\n",
       "      <td>2020-09-23 10:17:17</td>\n",
       "      <td>0.0000</td>\n",
       "      <td>0.00000</td>\n",
       "      <td>4</td>\n",
       "    </tr>\n",
       "    <tr>\n",
       "      <th>3</th>\n",
       "      <td>2020-09-23T17:00:02</td>\n",
       "      <td>9</td>\n",
       "      <td>68.0</td>\n",
       "      <td>5</td>\n",
       "      <td>DUB-General</td>\n",
       "      <td>1</td>\n",
       "      <td>2</td>\n",
       "      <td>True</td>\n",
       "      <td>False</td>\n",
       "      <td>False</td>\n",
       "      <td>2020-09-23T17:51:29</td>\n",
       "      <td>2020-09-22 07:48:40</td>\n",
       "      <td>53.3252</td>\n",
       "      <td>-6.25521</td>\n",
       "      <td>5</td>\n",
       "    </tr>\n",
       "    <tr>\n",
       "      <th>4</th>\n",
       "      <td>2020-09-23T17:00:02</td>\n",
       "      <td>12</td>\n",
       "      <td>61.0</td>\n",
       "      <td>8</td>\n",
       "      <td>DUB-General</td>\n",
       "      <td>1</td>\n",
       "      <td>2</td>\n",
       "      <td>True</td>\n",
       "      <td>False</td>\n",
       "      <td>False</td>\n",
       "      <td>2020-09-23T17:56:10</td>\n",
       "      <td>2020-09-23 17:43:14</td>\n",
       "      <td>53.3090</td>\n",
       "      <td>-6.21631</td>\n",
       "      <td>8</td>\n",
       "    </tr>\n",
       "  </tbody>\n",
       "</table>\n",
       "</div>"
      ],
      "text/plain": [
       "           HarvestTime BikeID  Battery  BikeIdentifier BikeTypeName  \\\n",
       "0  2020-09-23T17:00:02      5     90.0               1  DUB-General   \n",
       "1  2020-09-23T17:00:02      6     46.0               2  DUB-General   \n",
       "2  2020-09-23T17:00:02      8      NaN               4  DUB-General   \n",
       "3  2020-09-23T17:00:02      9     68.0               5  DUB-General   \n",
       "4  2020-09-23T17:00:02     12     61.0               8  DUB-General   \n",
       "\n",
       "   EBikeProfileID  EBikeStateID  IsEBike  IsMotor  IsSmartLock  \\\n",
       "0               1             2     True    False        False   \n",
       "1               1             2     True    False        False   \n",
       "2               1             2     True    False        False   \n",
       "3               1             2     True    False        False   \n",
       "4               1             2     True    False        False   \n",
       "\n",
       "           LastGPSTime     LastRentalStart  Latitude  Longitude  SpikeID  \n",
       "0  2020-09-23T17:46:16 2020-09-23 15:34:58   53.3334   -6.24431        1  \n",
       "1  2020-09-23T17:44:16 2020-09-23 17:35:42   53.3414   -6.28357        2  \n",
       "2  2020-09-23T11:44:01 2020-09-23 10:17:17    0.0000    0.00000        4  \n",
       "3  2020-09-23T17:51:29 2020-09-22 07:48:40   53.3252   -6.25521        5  \n",
       "4  2020-09-23T17:56:10 2020-09-23 17:43:14   53.3090   -6.21631        8  "
      ]
     },
     "execution_count": 13,
     "metadata": {},
     "output_type": "execute_result"
    }
   ],
   "source": [
    "df.head()"
   ]
  },
  {
   "cell_type": "code",
   "execution_count": 15,
   "metadata": {},
   "outputs": [
    {
     "data": {
      "text/html": [
       "<div>\n",
       "<style scoped>\n",
       "    .dataframe tbody tr th:only-of-type {\n",
       "        vertical-align: middle;\n",
       "    }\n",
       "\n",
       "    .dataframe tbody tr th {\n",
       "        vertical-align: top;\n",
       "    }\n",
       "\n",
       "    .dataframe thead th {\n",
       "        text-align: right;\n",
       "    }\n",
       "</style>\n",
       "<table border=\"1\" class=\"dataframe\">\n",
       "  <thead>\n",
       "    <tr style=\"text-align: right;\">\n",
       "      <th></th>\n",
       "      <th>Battery</th>\n",
       "      <th>BikeIdentifier</th>\n",
       "      <th>EBikeProfileID</th>\n",
       "      <th>EBikeStateID</th>\n",
       "      <th>Latitude</th>\n",
       "      <th>Longitude</th>\n",
       "      <th>SpikeID</th>\n",
       "    </tr>\n",
       "  </thead>\n",
       "  <tbody>\n",
       "    <tr>\n",
       "      <th>count</th>\n",
       "      <td>792496.000000</td>\n",
       "      <td>814970.000000</td>\n",
       "      <td>814970.000000</td>\n",
       "      <td>814970.000000</td>\n",
       "      <td>814970.000000</td>\n",
       "      <td>814970.000000</td>\n",
       "      <td>814970.000000</td>\n",
       "    </tr>\n",
       "    <tr>\n",
       "      <th>mean</th>\n",
       "      <td>60.079849</td>\n",
       "      <td>57.437826</td>\n",
       "      <td>1.030377</td>\n",
       "      <td>2.049964</td>\n",
       "      <td>51.334217</td>\n",
       "      <td>-6.017268</td>\n",
       "      <td>57.437826</td>\n",
       "    </tr>\n",
       "    <tr>\n",
       "      <th>std</th>\n",
       "      <td>23.719765</td>\n",
       "      <td>33.810407</td>\n",
       "      <td>0.300345</td>\n",
       "      <td>0.403718</td>\n",
       "      <td>10.150329</td>\n",
       "      <td>1.190693</td>\n",
       "      <td>33.810407</td>\n",
       "    </tr>\n",
       "    <tr>\n",
       "      <th>min</th>\n",
       "      <td>-12.000000</td>\n",
       "      <td>1.000000</td>\n",
       "      <td>1.000000</td>\n",
       "      <td>1.000000</td>\n",
       "      <td>0.000000</td>\n",
       "      <td>-6.370620</td>\n",
       "      <td>1.000000</td>\n",
       "    </tr>\n",
       "    <tr>\n",
       "      <th>25%</th>\n",
       "      <td>44.000000</td>\n",
       "      <td>29.000000</td>\n",
       "      <td>1.000000</td>\n",
       "      <td>2.000000</td>\n",
       "      <td>53.323400</td>\n",
       "      <td>-6.273170</td>\n",
       "      <td>29.000000</td>\n",
       "    </tr>\n",
       "    <tr>\n",
       "      <th>50%</th>\n",
       "      <td>67.000000</td>\n",
       "      <td>56.000000</td>\n",
       "      <td>1.000000</td>\n",
       "      <td>2.000000</td>\n",
       "      <td>53.343100</td>\n",
       "      <td>-6.257650</td>\n",
       "      <td>56.000000</td>\n",
       "    </tr>\n",
       "    <tr>\n",
       "      <th>75%</th>\n",
       "      <td>78.000000</td>\n",
       "      <td>86.000000</td>\n",
       "      <td>1.000000</td>\n",
       "      <td>2.000000</td>\n",
       "      <td>53.360800</td>\n",
       "      <td>-6.231830</td>\n",
       "      <td>86.000000</td>\n",
       "    </tr>\n",
       "    <tr>\n",
       "      <th>max</th>\n",
       "      <td>268.000000</td>\n",
       "      <td>120.000000</td>\n",
       "      <td>4.000000</td>\n",
       "      <td>5.000000</td>\n",
       "      <td>56.184900</td>\n",
       "      <td>0.000000</td>\n",
       "      <td>120.000000</td>\n",
       "    </tr>\n",
       "  </tbody>\n",
       "</table>\n",
       "</div>"
      ],
      "text/plain": [
       "             Battery  BikeIdentifier  EBikeProfileID   EBikeStateID  \\\n",
       "count  792496.000000   814970.000000   814970.000000  814970.000000   \n",
       "mean       60.079849       57.437826        1.030377       2.049964   \n",
       "std        23.719765       33.810407        0.300345       0.403718   \n",
       "min       -12.000000        1.000000        1.000000       1.000000   \n",
       "25%        44.000000       29.000000        1.000000       2.000000   \n",
       "50%        67.000000       56.000000        1.000000       2.000000   \n",
       "75%        78.000000       86.000000        1.000000       2.000000   \n",
       "max       268.000000      120.000000        4.000000       5.000000   \n",
       "\n",
       "            Latitude      Longitude        SpikeID  \n",
       "count  814970.000000  814970.000000  814970.000000  \n",
       "mean       51.334217      -6.017268      57.437826  \n",
       "std        10.150329       1.190693      33.810407  \n",
       "min         0.000000      -6.370620       1.000000  \n",
       "25%        53.323400      -6.273170      29.000000  \n",
       "50%        53.343100      -6.257650      56.000000  \n",
       "75%        53.360800      -6.231830      86.000000  \n",
       "max        56.184900       0.000000     120.000000  "
      ]
     },
     "execution_count": 15,
     "metadata": {},
     "output_type": "execute_result"
    }
   ],
   "source": [
    "df.describe()"
   ]
  },
  {
   "cell_type": "markdown",
   "metadata": {},
   "source": [
    "* Battery has to be between 0 and 100, not negative numbers\n",
    "* other values are ok"
   ]
  },
  {
   "cell_type": "code",
   "execution_count": 16,
   "metadata": {},
   "outputs": [
    {
     "name": "stdout",
     "output_type": "stream",
     "text": [
      "<class 'pandas.core.frame.DataFrame'>\n",
      "RangeIndex: 814970 entries, 0 to 814969\n",
      "Data columns (total 15 columns):\n",
      " #   Column           Non-Null Count   Dtype         \n",
      "---  ------           --------------   -----         \n",
      " 0   HarvestTime      814970 non-null  object        \n",
      " 1   BikeID           814970 non-null  object        \n",
      " 2   Battery          792496 non-null  float64       \n",
      " 3   BikeIdentifier   814970 non-null  int64         \n",
      " 4   BikeTypeName     814970 non-null  object        \n",
      " 5   EBikeProfileID   814970 non-null  int64         \n",
      " 6   EBikeStateID     814970 non-null  int64         \n",
      " 7   IsEBike          814970 non-null  bool          \n",
      " 8   IsMotor          814970 non-null  bool          \n",
      " 9   IsSmartLock      814970 non-null  bool          \n",
      " 10  LastGPSTime      814970 non-null  object        \n",
      " 11  LastRentalStart  814970 non-null  datetime64[ns]\n",
      " 12  Latitude         814970 non-null  float64       \n",
      " 13  Longitude        814970 non-null  float64       \n",
      " 14  SpikeID          814970 non-null  int64         \n",
      "dtypes: bool(3), datetime64[ns](1), float64(3), int64(4), object(4)\n",
      "memory usage: 76.9+ MB\n"
     ]
    }
   ],
   "source": [
    "df.info()"
   ]
  },
  {
   "cell_type": "code",
   "execution_count": 17,
   "metadata": {},
   "outputs": [
    {
     "data": {
      "text/plain": [
       "22474"
      ]
     },
     "execution_count": 17,
     "metadata": {},
     "output_type": "execute_result"
    }
   ],
   "source": [
    "df.Battery.isna().sum()"
   ]
  },
  {
   "cell_type": "markdown",
   "metadata": {},
   "source": [
    "22474 missing values in Battery column"
   ]
  },
  {
   "cell_type": "code",
   "execution_count": 19,
   "metadata": {},
   "outputs": [
    {
     "data": {
      "text/plain": [
       "array([False])"
      ]
     },
     "execution_count": 19,
     "metadata": {},
     "output_type": "execute_result"
    }
   ],
   "source": [
    "df.IsMotor.unique()"
   ]
  },
  {
   "cell_type": "code",
   "execution_count": 20,
   "metadata": {},
   "outputs": [
    {
     "data": {
      "text/plain": [
       "array([ True])"
      ]
     },
     "execution_count": 20,
     "metadata": {},
     "output_type": "execute_result"
    }
   ],
   "source": [
    "df.IsEBike.unique()"
   ]
  },
  {
   "cell_type": "code",
   "execution_count": 21,
   "metadata": {},
   "outputs": [
    {
     "data": {
      "text/plain": [
       "array([False])"
      ]
     },
     "execution_count": 21,
     "metadata": {},
     "output_type": "execute_result"
    }
   ],
   "source": [
    "df.IsSmartLock.unique()"
   ]
  },
  {
   "cell_type": "markdown",
   "metadata": {},
   "source": [
    "IsMotor, IsEBike and IsSmartLock, drop it as they just have one value, no relevant"
   ]
  },
  {
   "cell_type": "code",
   "execution_count": 24,
   "metadata": {},
   "outputs": [
    {
     "data": {
      "text/html": [
       "<div>\n",
       "<style scoped>\n",
       "    .dataframe tbody tr th:only-of-type {\n",
       "        vertical-align: middle;\n",
       "    }\n",
       "\n",
       "    .dataframe tbody tr th {\n",
       "        vertical-align: top;\n",
       "    }\n",
       "\n",
       "    .dataframe thead th {\n",
       "        text-align: right;\n",
       "    }\n",
       "</style>\n",
       "<table border=\"1\" class=\"dataframe\">\n",
       "  <thead>\n",
       "    <tr style=\"text-align: right;\">\n",
       "      <th></th>\n",
       "      <th>BikeID</th>\n",
       "      <th>BikeIdentifier</th>\n",
       "      <th>SpikeID</th>\n",
       "    </tr>\n",
       "  </thead>\n",
       "  <tbody>\n",
       "    <tr>\n",
       "      <th>0</th>\n",
       "      <td>5</td>\n",
       "      <td>1</td>\n",
       "      <td>1</td>\n",
       "    </tr>\n",
       "    <tr>\n",
       "      <th>1</th>\n",
       "      <td>6</td>\n",
       "      <td>2</td>\n",
       "      <td>2</td>\n",
       "    </tr>\n",
       "    <tr>\n",
       "      <th>2</th>\n",
       "      <td>8</td>\n",
       "      <td>4</td>\n",
       "      <td>4</td>\n",
       "    </tr>\n",
       "    <tr>\n",
       "      <th>3</th>\n",
       "      <td>9</td>\n",
       "      <td>5</td>\n",
       "      <td>5</td>\n",
       "    </tr>\n",
       "    <tr>\n",
       "      <th>4</th>\n",
       "      <td>12</td>\n",
       "      <td>8</td>\n",
       "      <td>8</td>\n",
       "    </tr>\n",
       "    <tr>\n",
       "      <th>...</th>\n",
       "      <td>...</td>\n",
       "      <td>...</td>\n",
       "      <td>...</td>\n",
       "    </tr>\n",
       "    <tr>\n",
       "      <th>814965</th>\n",
       "      <td>114</td>\n",
       "      <td>110</td>\n",
       "      <td>110</td>\n",
       "    </tr>\n",
       "    <tr>\n",
       "      <th>814966</th>\n",
       "      <td>120</td>\n",
       "      <td>101</td>\n",
       "      <td>101</td>\n",
       "    </tr>\n",
       "    <tr>\n",
       "      <th>814967</th>\n",
       "      <td>120</td>\n",
       "      <td>101</td>\n",
       "      <td>101</td>\n",
       "    </tr>\n",
       "    <tr>\n",
       "      <th>814968</th>\n",
       "      <td>124</td>\n",
       "      <td>120</td>\n",
       "      <td>120</td>\n",
       "    </tr>\n",
       "    <tr>\n",
       "      <th>814969</th>\n",
       "      <td>124</td>\n",
       "      <td>120</td>\n",
       "      <td>120</td>\n",
       "    </tr>\n",
       "  </tbody>\n",
       "</table>\n",
       "<p>814970 rows × 3 columns</p>\n",
       "</div>"
      ],
      "text/plain": [
       "       BikeID  BikeIdentifier  SpikeID\n",
       "0           5               1        1\n",
       "1           6               2        2\n",
       "2           8               4        4\n",
       "3           9               5        5\n",
       "4          12               8        8\n",
       "...       ...             ...      ...\n",
       "814965    114             110      110\n",
       "814966    120             101      101\n",
       "814967    120             101      101\n",
       "814968    124             120      120\n",
       "814969    124             120      120\n",
       "\n",
       "[814970 rows x 3 columns]"
      ]
     },
     "execution_count": 24,
     "metadata": {},
     "output_type": "execute_result"
    }
   ],
   "source": [
    "df[['BikeID', 'BikeIdentifier', 'SpikeID']]"
   ]
  },
  {
   "cell_type": "markdown",
   "metadata": {},
   "source": [
    "BikeID and BikeIdentifier are the same, no make sense to keep them, drop BikeIdentifier. Not clear function of SpikeID in original metadata, therefore, i am going to drop it."
   ]
  },
  {
   "cell_type": "code",
   "execution_count": 26,
   "metadata": {},
   "outputs": [
    {
     "data": {
      "text/plain": [
       "array([1, 4], dtype=int64)"
      ]
     },
     "execution_count": 26,
     "metadata": {},
     "output_type": "execute_result"
    }
   ],
   "source": [
    "df.EBikeProfileID.unique()"
   ]
  },
  {
   "cell_type": "markdown",
   "metadata": {},
   "source": [
    "From documentation, it is not clear the function of EBikeProfileID in metadata, therefore i will drop it."
   ]
  },
  {
   "cell_type": "code",
   "execution_count": 28,
   "metadata": {},
   "outputs": [
    {
     "data": {
      "text/html": [
       "<div>\n",
       "<style scoped>\n",
       "    .dataframe tbody tr th:only-of-type {\n",
       "        vertical-align: middle;\n",
       "    }\n",
       "\n",
       "    .dataframe tbody tr th {\n",
       "        vertical-align: top;\n",
       "    }\n",
       "\n",
       "    .dataframe thead th {\n",
       "        text-align: right;\n",
       "    }\n",
       "</style>\n",
       "<table border=\"1\" class=\"dataframe\">\n",
       "  <thead>\n",
       "    <tr style=\"text-align: right;\">\n",
       "      <th></th>\n",
       "      <th>HarvestTime</th>\n",
       "      <th>BikeID</th>\n",
       "      <th>Battery</th>\n",
       "      <th>BikeTypeName</th>\n",
       "      <th>EBikeStateID</th>\n",
       "      <th>LastGPSTime</th>\n",
       "      <th>LastRentalStart</th>\n",
       "      <th>Latitude</th>\n",
       "      <th>Longitude</th>\n",
       "    </tr>\n",
       "  </thead>\n",
       "  <tbody>\n",
       "    <tr>\n",
       "      <th>0</th>\n",
       "      <td>2020-09-23T17:00:02</td>\n",
       "      <td>5</td>\n",
       "      <td>90.0</td>\n",
       "      <td>DUB-General</td>\n",
       "      <td>2</td>\n",
       "      <td>2020-09-23T17:46:16</td>\n",
       "      <td>2020-09-23 15:34:58</td>\n",
       "      <td>53.3334</td>\n",
       "      <td>-6.24431</td>\n",
       "    </tr>\n",
       "    <tr>\n",
       "      <th>1</th>\n",
       "      <td>2020-09-23T17:00:02</td>\n",
       "      <td>6</td>\n",
       "      <td>46.0</td>\n",
       "      <td>DUB-General</td>\n",
       "      <td>2</td>\n",
       "      <td>2020-09-23T17:44:16</td>\n",
       "      <td>2020-09-23 17:35:42</td>\n",
       "      <td>53.3414</td>\n",
       "      <td>-6.28357</td>\n",
       "    </tr>\n",
       "    <tr>\n",
       "      <th>2</th>\n",
       "      <td>2020-09-23T17:00:02</td>\n",
       "      <td>8</td>\n",
       "      <td>NaN</td>\n",
       "      <td>DUB-General</td>\n",
       "      <td>2</td>\n",
       "      <td>2020-09-23T11:44:01</td>\n",
       "      <td>2020-09-23 10:17:17</td>\n",
       "      <td>0.0000</td>\n",
       "      <td>0.00000</td>\n",
       "    </tr>\n",
       "    <tr>\n",
       "      <th>3</th>\n",
       "      <td>2020-09-23T17:00:02</td>\n",
       "      <td>9</td>\n",
       "      <td>68.0</td>\n",
       "      <td>DUB-General</td>\n",
       "      <td>2</td>\n",
       "      <td>2020-09-23T17:51:29</td>\n",
       "      <td>2020-09-22 07:48:40</td>\n",
       "      <td>53.3252</td>\n",
       "      <td>-6.25521</td>\n",
       "    </tr>\n",
       "    <tr>\n",
       "      <th>4</th>\n",
       "      <td>2020-09-23T17:00:02</td>\n",
       "      <td>12</td>\n",
       "      <td>61.0</td>\n",
       "      <td>DUB-General</td>\n",
       "      <td>2</td>\n",
       "      <td>2020-09-23T17:56:10</td>\n",
       "      <td>2020-09-23 17:43:14</td>\n",
       "      <td>53.3090</td>\n",
       "      <td>-6.21631</td>\n",
       "    </tr>\n",
       "    <tr>\n",
       "      <th>...</th>\n",
       "      <td>...</td>\n",
       "      <td>...</td>\n",
       "      <td>...</td>\n",
       "      <td>...</td>\n",
       "      <td>...</td>\n",
       "      <td>...</td>\n",
       "      <td>...</td>\n",
       "      <td>...</td>\n",
       "      <td>...</td>\n",
       "    </tr>\n",
       "    <tr>\n",
       "      <th>814965</th>\n",
       "      <td>2021-05-01T14:30:02</td>\n",
       "      <td>114</td>\n",
       "      <td>86.0</td>\n",
       "      <td>DUB-General</td>\n",
       "      <td>2</td>\n",
       "      <td>2021-05-01T14:20:09</td>\n",
       "      <td>2021-05-01 13:05:21</td>\n",
       "      <td>53.3696</td>\n",
       "      <td>-6.25434</td>\n",
       "    </tr>\n",
       "    <tr>\n",
       "      <th>814966</th>\n",
       "      <td>2021-05-01T14:30:02</td>\n",
       "      <td>120</td>\n",
       "      <td>73.0</td>\n",
       "      <td>DUB-General</td>\n",
       "      <td>2</td>\n",
       "      <td>2021-05-01T14:26:43</td>\n",
       "      <td>2021-04-30 22:14:23</td>\n",
       "      <td>53.3053</td>\n",
       "      <td>-6.21992</td>\n",
       "    </tr>\n",
       "    <tr>\n",
       "      <th>814967</th>\n",
       "      <td>2021-05-01T14:30:02</td>\n",
       "      <td>120</td>\n",
       "      <td>73.0</td>\n",
       "      <td>DUB-General</td>\n",
       "      <td>2</td>\n",
       "      <td>2021-05-01T14:26:43</td>\n",
       "      <td>2021-04-30 22:14:23</td>\n",
       "      <td>53.3053</td>\n",
       "      <td>-6.21992</td>\n",
       "    </tr>\n",
       "    <tr>\n",
       "      <th>814968</th>\n",
       "      <td>2021-05-01T14:30:02</td>\n",
       "      <td>124</td>\n",
       "      <td>72.0</td>\n",
       "      <td>DUB-General</td>\n",
       "      <td>2</td>\n",
       "      <td>2021-05-01T14:27:23</td>\n",
       "      <td>2021-04-27 13:51:23</td>\n",
       "      <td>53.2948</td>\n",
       "      <td>-6.13356</td>\n",
       "    </tr>\n",
       "    <tr>\n",
       "      <th>814969</th>\n",
       "      <td>2021-05-01T14:30:02</td>\n",
       "      <td>124</td>\n",
       "      <td>72.0</td>\n",
       "      <td>DUB-General</td>\n",
       "      <td>2</td>\n",
       "      <td>2021-05-01T14:27:23</td>\n",
       "      <td>2021-04-27 13:51:23</td>\n",
       "      <td>53.2948</td>\n",
       "      <td>-6.13356</td>\n",
       "    </tr>\n",
       "  </tbody>\n",
       "</table>\n",
       "<p>814970 rows × 9 columns</p>\n",
       "</div>"
      ],
      "text/plain": [
       "                HarvestTime BikeID  Battery BikeTypeName  EBikeStateID  \\\n",
       "0       2020-09-23T17:00:02      5     90.0  DUB-General             2   \n",
       "1       2020-09-23T17:00:02      6     46.0  DUB-General             2   \n",
       "2       2020-09-23T17:00:02      8      NaN  DUB-General             2   \n",
       "3       2020-09-23T17:00:02      9     68.0  DUB-General             2   \n",
       "4       2020-09-23T17:00:02     12     61.0  DUB-General             2   \n",
       "...                     ...    ...      ...          ...           ...   \n",
       "814965  2021-05-01T14:30:02    114     86.0  DUB-General             2   \n",
       "814966  2021-05-01T14:30:02    120     73.0  DUB-General             2   \n",
       "814967  2021-05-01T14:30:02    120     73.0  DUB-General             2   \n",
       "814968  2021-05-01T14:30:02    124     72.0  DUB-General             2   \n",
       "814969  2021-05-01T14:30:02    124     72.0  DUB-General             2   \n",
       "\n",
       "                LastGPSTime     LastRentalStart  Latitude  Longitude  \n",
       "0       2020-09-23T17:46:16 2020-09-23 15:34:58   53.3334   -6.24431  \n",
       "1       2020-09-23T17:44:16 2020-09-23 17:35:42   53.3414   -6.28357  \n",
       "2       2020-09-23T11:44:01 2020-09-23 10:17:17    0.0000    0.00000  \n",
       "3       2020-09-23T17:51:29 2020-09-22 07:48:40   53.3252   -6.25521  \n",
       "4       2020-09-23T17:56:10 2020-09-23 17:43:14   53.3090   -6.21631  \n",
       "...                     ...                 ...       ...        ...  \n",
       "814965  2021-05-01T14:20:09 2021-05-01 13:05:21   53.3696   -6.25434  \n",
       "814966  2021-05-01T14:26:43 2021-04-30 22:14:23   53.3053   -6.21992  \n",
       "814967  2021-05-01T14:26:43 2021-04-30 22:14:23   53.3053   -6.21992  \n",
       "814968  2021-05-01T14:27:23 2021-04-27 13:51:23   53.2948   -6.13356  \n",
       "814969  2021-05-01T14:27:23 2021-04-27 13:51:23   53.2948   -6.13356  \n",
       "\n",
       "[814970 rows x 9 columns]"
      ]
     },
     "execution_count": 28,
     "metadata": {},
     "output_type": "execute_result"
    }
   ],
   "source": [
    "df.drop(columns=['IsMotor', 'IsEBike', 'IsSmartLock', 'BikeIdentifier', 'SpikeID', 'EBikeProfileID'])"
   ]
  },
  {
   "cell_type": "markdown",
   "metadata": {},
   "source": [
    "It is clear that LastGPSTime and HarvestTime has different values. As there is not good documentation about the MOby API, I assume HarvestTime is the time they collect general data from the bikes and the GPSTime when the gps device retrive the data regarding latitude and longitude. Again, this is not explained by the documentation, therefore this is just an assumtion."
   ]
  },
  {
   "cell_type": "code",
   "execution_count": 62,
   "metadata": {},
   "outputs": [
    {
     "name": "stdout",
     "output_type": "stream",
     "text": [
      "<class 'pandas.core.frame.DataFrame'>\n",
      "RangeIndex: 814970 entries, 0 to 814969\n",
      "Data columns (total 15 columns):\n",
      " #   Column           Non-Null Count   Dtype         \n",
      "---  ------           --------------   -----         \n",
      " 0   HarvestTime      814970 non-null  object        \n",
      " 1   BikeID           814970 non-null  object        \n",
      " 2   Battery          792496 non-null  float64       \n",
      " 3   BikeIdentifier   814970 non-null  int64         \n",
      " 4   BikeTypeName     814970 non-null  object        \n",
      " 5   EBikeProfileID   814970 non-null  int64         \n",
      " 6   EBikeStateID     814970 non-null  int64         \n",
      " 7   IsEBike          814970 non-null  bool          \n",
      " 8   IsMotor          814970 non-null  bool          \n",
      " 9   IsSmartLock      814970 non-null  bool          \n",
      " 10  LastGPSTime      814970 non-null  object        \n",
      " 11  LastRentalStart  814970 non-null  datetime64[ns]\n",
      " 12  Latitude         814970 non-null  float64       \n",
      " 13  Longitude        814970 non-null  float64       \n",
      " 14  SpikeID          814970 non-null  int64         \n",
      "dtypes: bool(3), datetime64[ns](1), float64(3), int64(4), object(4)\n",
      "memory usage: 76.9+ MB\n"
     ]
    }
   ],
   "source": [
    "df.info()"
   ]
  },
  {
   "cell_type": "code",
   "execution_count": 64,
   "metadata": {},
   "outputs": [],
   "source": [
    "df.loc[:,'HarvestTime'] = pd.to_datetime(df.HarvestTime)\n",
    "df.loc[:,'LastGPSTime'] = pd.to_datetime(df.LastGPSTime)\n",
    "df.loc[:,'LastRentalStart'] = pd.to_datetime(df.LastRentalStart)"
   ]
  },
  {
   "cell_type": "markdown",
   "metadata": {},
   "source": [
    "# Rentals"
   ]
  },
  {
   "cell_type": "code",
   "execution_count": 119,
   "metadata": {},
   "outputs": [],
   "source": [
    "rentals = df[['LastRentalStart', 'BikeID']].drop_duplicates()"
   ]
  },
  {
   "cell_type": "code",
   "execution_count": 120,
   "metadata": {},
   "outputs": [],
   "source": [
    "rentals.loc[:,'total'] = 1"
   ]
  },
  {
   "cell_type": "code",
   "execution_count": 121,
   "metadata": {},
   "outputs": [
    {
     "data": {
      "text/html": [
       "<div>\n",
       "<style scoped>\n",
       "    .dataframe tbody tr th:only-of-type {\n",
       "        vertical-align: middle;\n",
       "    }\n",
       "\n",
       "    .dataframe tbody tr th {\n",
       "        vertical-align: top;\n",
       "    }\n",
       "\n",
       "    .dataframe thead th {\n",
       "        text-align: right;\n",
       "    }\n",
       "</style>\n",
       "<table border=\"1\" class=\"dataframe\">\n",
       "  <thead>\n",
       "    <tr style=\"text-align: right;\">\n",
       "      <th></th>\n",
       "      <th>LastRentalStart</th>\n",
       "      <th>BikeID</th>\n",
       "      <th>total</th>\n",
       "    </tr>\n",
       "  </thead>\n",
       "  <tbody>\n",
       "    <tr>\n",
       "      <th>0</th>\n",
       "      <td>2020-09-23 15:34:58</td>\n",
       "      <td>5</td>\n",
       "      <td>1</td>\n",
       "    </tr>\n",
       "    <tr>\n",
       "      <th>1</th>\n",
       "      <td>2020-09-23 17:35:42</td>\n",
       "      <td>6</td>\n",
       "      <td>1</td>\n",
       "    </tr>\n",
       "    <tr>\n",
       "      <th>2</th>\n",
       "      <td>2020-09-23 10:17:17</td>\n",
       "      <td>8</td>\n",
       "      <td>1</td>\n",
       "    </tr>\n",
       "    <tr>\n",
       "      <th>3</th>\n",
       "      <td>2020-09-22 07:48:40</td>\n",
       "      <td>9</td>\n",
       "      <td>1</td>\n",
       "    </tr>\n",
       "    <tr>\n",
       "      <th>4</th>\n",
       "      <td>2020-09-23 17:43:14</td>\n",
       "      <td>12</td>\n",
       "      <td>1</td>\n",
       "    </tr>\n",
       "  </tbody>\n",
       "</table>\n",
       "</div>"
      ],
      "text/plain": [
       "      LastRentalStart BikeID  total\n",
       "0 2020-09-23 15:34:58      5      1\n",
       "1 2020-09-23 17:35:42      6      1\n",
       "2 2020-09-23 10:17:17      8      1\n",
       "3 2020-09-22 07:48:40      9      1\n",
       "4 2020-09-23 17:43:14     12      1"
      ]
     },
     "execution_count": 121,
     "metadata": {},
     "output_type": "execute_result"
    }
   ],
   "source": [
    "rentals.head()"
   ]
  },
  {
   "cell_type": "code",
   "execution_count": 122,
   "metadata": {},
   "outputs": [],
   "source": [
    "rentals.set_index('LastRentalStart', inplace=True)"
   ]
  },
  {
   "cell_type": "code",
   "execution_count": 124,
   "metadata": {},
   "outputs": [],
   "source": [
    "rentalstotal = rentals[['total']].resample('D').sum().reset_index()"
   ]
  },
  {
   "cell_type": "code",
   "execution_count": 125,
   "metadata": {},
   "outputs": [
    {
     "data": {
      "application/vnd.plotly.v1+json": {
       "config": {
        "plotlyServerURL": "https://plot.ly"
       },
       "data": [
        {
         "hovertemplate": "LastRentalStart=%{x}<br>total=%{y}<extra></extra>",
         "legendgroup": "",
         "line": {
          "color": "#636efa",
          "dash": "solid"
         },
         "mode": "lines",
         "name": "",
         "orientation": "v",
         "showlegend": false,
         "type": "scatter",
         "x": [
          "2020-09-16T00:00:00",
          "2020-09-17T00:00:00",
          "2020-09-18T00:00:00",
          "2020-09-19T00:00:00",
          "2020-09-20T00:00:00",
          "2020-09-21T00:00:00",
          "2020-09-22T00:00:00",
          "2020-09-23T00:00:00",
          "2020-09-24T00:00:00",
          "2020-09-25T00:00:00",
          "2020-09-26T00:00:00",
          "2020-09-27T00:00:00",
          "2020-09-28T00:00:00",
          "2020-09-29T00:00:00",
          "2020-09-30T00:00:00",
          "2020-10-01T00:00:00",
          "2020-10-02T00:00:00",
          "2020-10-03T00:00:00",
          "2020-10-04T00:00:00",
          "2020-10-05T00:00:00",
          "2020-10-06T00:00:00",
          "2020-10-07T00:00:00",
          "2020-10-08T00:00:00",
          "2020-10-09T00:00:00",
          "2020-10-10T00:00:00",
          "2020-10-11T00:00:00",
          "2020-10-12T00:00:00",
          "2020-10-13T00:00:00",
          "2020-10-14T00:00:00",
          "2020-10-15T00:00:00",
          "2020-10-16T00:00:00",
          "2020-10-17T00:00:00",
          "2020-10-18T00:00:00",
          "2020-10-19T00:00:00",
          "2020-10-20T00:00:00",
          "2020-10-21T00:00:00",
          "2020-10-22T00:00:00",
          "2020-10-23T00:00:00",
          "2020-10-24T00:00:00",
          "2020-10-25T00:00:00",
          "2020-10-26T00:00:00",
          "2020-10-27T00:00:00",
          "2020-10-28T00:00:00",
          "2020-10-29T00:00:00",
          "2020-10-30T00:00:00",
          "2020-10-31T00:00:00",
          "2020-11-01T00:00:00",
          "2020-11-02T00:00:00",
          "2020-11-03T00:00:00",
          "2020-11-04T00:00:00",
          "2020-11-05T00:00:00",
          "2020-11-06T00:00:00",
          "2020-11-07T00:00:00",
          "2020-11-08T00:00:00",
          "2020-11-09T00:00:00",
          "2020-11-10T00:00:00",
          "2020-11-11T00:00:00",
          "2020-11-12T00:00:00",
          "2020-11-13T00:00:00",
          "2020-11-14T00:00:00",
          "2020-11-15T00:00:00",
          "2020-11-16T00:00:00",
          "2020-11-17T00:00:00",
          "2020-11-18T00:00:00",
          "2020-11-19T00:00:00",
          "2020-11-20T00:00:00",
          "2020-11-21T00:00:00",
          "2020-11-22T00:00:00",
          "2020-11-23T00:00:00",
          "2020-11-24T00:00:00",
          "2020-11-25T00:00:00",
          "2020-11-26T00:00:00",
          "2020-11-27T00:00:00",
          "2020-11-28T00:00:00",
          "2020-11-29T00:00:00",
          "2020-11-30T00:00:00",
          "2020-12-01T00:00:00",
          "2020-12-02T00:00:00",
          "2020-12-03T00:00:00",
          "2020-12-04T00:00:00",
          "2020-12-05T00:00:00",
          "2020-12-06T00:00:00",
          "2020-12-07T00:00:00",
          "2020-12-08T00:00:00",
          "2020-12-09T00:00:00",
          "2020-12-10T00:00:00",
          "2020-12-11T00:00:00",
          "2020-12-12T00:00:00",
          "2020-12-13T00:00:00",
          "2020-12-14T00:00:00",
          "2020-12-15T00:00:00",
          "2020-12-16T00:00:00",
          "2020-12-17T00:00:00",
          "2020-12-18T00:00:00",
          "2020-12-19T00:00:00",
          "2020-12-20T00:00:00",
          "2020-12-21T00:00:00",
          "2020-12-22T00:00:00",
          "2020-12-23T00:00:00",
          "2020-12-24T00:00:00",
          "2020-12-25T00:00:00",
          "2020-12-26T00:00:00",
          "2020-12-27T00:00:00",
          "2020-12-28T00:00:00",
          "2020-12-29T00:00:00",
          "2020-12-30T00:00:00",
          "2020-12-31T00:00:00",
          "2021-01-01T00:00:00",
          "2021-01-02T00:00:00",
          "2021-01-03T00:00:00",
          "2021-01-04T00:00:00",
          "2021-01-05T00:00:00",
          "2021-01-06T00:00:00",
          "2021-01-07T00:00:00",
          "2021-01-08T00:00:00",
          "2021-01-09T00:00:00",
          "2021-01-10T00:00:00",
          "2021-01-11T00:00:00",
          "2021-01-12T00:00:00",
          "2021-01-13T00:00:00",
          "2021-01-14T00:00:00",
          "2021-01-15T00:00:00",
          "2021-01-16T00:00:00",
          "2021-01-17T00:00:00",
          "2021-01-18T00:00:00",
          "2021-01-19T00:00:00",
          "2021-01-20T00:00:00",
          "2021-01-21T00:00:00",
          "2021-01-22T00:00:00",
          "2021-01-23T00:00:00",
          "2021-01-24T00:00:00",
          "2021-01-25T00:00:00",
          "2021-01-26T00:00:00",
          "2021-01-27T00:00:00",
          "2021-01-28T00:00:00",
          "2021-01-29T00:00:00",
          "2021-01-30T00:00:00",
          "2021-01-31T00:00:00",
          "2021-02-01T00:00:00",
          "2021-02-02T00:00:00",
          "2021-02-03T00:00:00",
          "2021-02-04T00:00:00",
          "2021-02-05T00:00:00",
          "2021-02-06T00:00:00",
          "2021-02-07T00:00:00",
          "2021-02-08T00:00:00",
          "2021-02-09T00:00:00",
          "2021-02-10T00:00:00",
          "2021-02-11T00:00:00",
          "2021-02-12T00:00:00",
          "2021-02-13T00:00:00",
          "2021-02-14T00:00:00",
          "2021-02-15T00:00:00",
          "2021-02-16T00:00:00",
          "2021-02-17T00:00:00",
          "2021-02-18T00:00:00",
          "2021-02-19T00:00:00",
          "2021-02-20T00:00:00",
          "2021-02-21T00:00:00",
          "2021-02-22T00:00:00",
          "2021-02-23T00:00:00",
          "2021-02-24T00:00:00",
          "2021-02-25T00:00:00",
          "2021-02-26T00:00:00",
          "2021-02-27T00:00:00",
          "2021-02-28T00:00:00",
          "2021-03-01T00:00:00",
          "2021-03-02T00:00:00",
          "2021-03-03T00:00:00",
          "2021-03-04T00:00:00",
          "2021-03-05T00:00:00",
          "2021-03-06T00:00:00",
          "2021-03-07T00:00:00",
          "2021-03-08T00:00:00",
          "2021-03-09T00:00:00",
          "2021-03-10T00:00:00",
          "2021-03-11T00:00:00",
          "2021-03-12T00:00:00",
          "2021-03-13T00:00:00",
          "2021-03-14T00:00:00",
          "2021-03-15T00:00:00",
          "2021-03-16T00:00:00",
          "2021-03-17T00:00:00",
          "2021-03-18T00:00:00",
          "2021-03-19T00:00:00",
          "2021-03-20T00:00:00",
          "2021-03-21T00:00:00",
          "2021-03-22T00:00:00",
          "2021-03-23T00:00:00",
          "2021-03-24T00:00:00",
          "2021-03-25T00:00:00",
          "2021-03-26T00:00:00",
          "2021-03-27T00:00:00",
          "2021-03-28T00:00:00",
          "2021-03-29T00:00:00",
          "2021-03-30T00:00:00",
          "2021-03-31T00:00:00",
          "2021-04-01T00:00:00",
          "2021-04-02T00:00:00",
          "2021-04-03T00:00:00",
          "2021-04-04T00:00:00",
          "2021-04-05T00:00:00",
          "2021-04-06T00:00:00",
          "2021-04-07T00:00:00",
          "2021-04-08T00:00:00",
          "2021-04-09T00:00:00",
          "2021-04-10T00:00:00",
          "2021-04-11T00:00:00",
          "2021-04-12T00:00:00",
          "2021-04-13T00:00:00",
          "2021-04-14T00:00:00",
          "2021-04-15T00:00:00",
          "2021-04-16T00:00:00",
          "2021-04-17T00:00:00",
          "2021-04-18T00:00:00",
          "2021-04-19T00:00:00",
          "2021-04-20T00:00:00",
          "2021-04-21T00:00:00",
          "2021-04-22T00:00:00",
          "2021-04-23T00:00:00",
          "2021-04-24T00:00:00",
          "2021-04-25T00:00:00",
          "2021-04-26T00:00:00",
          "2021-04-27T00:00:00",
          "2021-04-28T00:00:00",
          "2021-04-29T00:00:00",
          "2021-04-30T00:00:00",
          "2021-05-01T00:00:00"
         ],
         "xaxis": "x",
         "y": [
          1,
          0,
          2,
          1,
          0,
          11,
          10,
          95,
          55,
          158,
          165,
          141,
          127,
          125,
          71,
          110,
          125,
          123,
          41,
          98,
          113,
          103,
          109,
          122,
          89,
          92,
          115,
          80,
          114,
          109,
          128,
          73,
          93,
          89,
          124,
          125,
          92,
          132,
          101,
          146,
          181,
          88,
          103,
          82,
          136,
          102,
          76,
          74,
          77,
          99,
          88,
          127,
          163,
          118,
          111,
          121,
          76,
          102,
          153,
          88,
          82,
          97,
          128,
          103,
          107,
          110,
          129,
          102,
          111,
          100,
          121,
          103,
          114,
          126,
          84,
          114,
          112,
          115,
          109,
          100,
          95,
          90,
          89,
          104,
          90,
          103,
          124,
          111,
          71,
          107,
          103,
          125,
          91,
          134,
          107,
          110,
          83,
          102,
          83,
          74,
          42,
          53,
          51,
          65,
          91,
          79,
          61,
          59,
          84,
          36,
          52,
          78,
          60,
          54,
          67,
          47,
          62,
          76,
          84,
          60,
          96,
          101,
          115,
          104,
          75,
          77,
          73,
          75,
          118,
          76,
          74,
          83,
          97,
          80,
          89,
          82,
          37,
          39,
          78,
          67,
          87,
          91,
          93,
          60,
          49,
          73,
          71,
          66,
          68,
          85,
          62,
          63,
          110,
          103,
          108,
          116,
          104,
          66,
          146,
          124,
          54,
          88,
          118,
          127,
          159,
          166,
          107,
          105,
          107,
          93,
          120,
          137,
          157,
          110,
          95,
          79,
          90,
          106,
          101,
          63,
          90,
          117,
          171,
          110,
          151,
          148,
          134,
          81,
          76,
          90,
          95,
          73,
          137,
          101,
          88,
          113,
          76,
          74,
          126,
          155,
          130,
          90,
          83,
          66,
          76,
          71,
          129,
          84,
          72,
          81,
          99,
          123,
          133,
          153,
          70,
          78,
          79,
          82,
          111,
          130,
          163,
          168,
          100,
          93,
          97,
          77,
          129,
          48
         ],
         "yaxis": "y"
        }
       ],
       "layout": {
        "legend": {
         "tracegroupgap": 0
        },
        "margin": {
         "t": 60
        },
        "template": {
         "data": {
          "bar": [
           {
            "error_x": {
             "color": "#2a3f5f"
            },
            "error_y": {
             "color": "#2a3f5f"
            },
            "marker": {
             "line": {
              "color": "#E5ECF6",
              "width": 0.5
             }
            },
            "type": "bar"
           }
          ],
          "barpolar": [
           {
            "marker": {
             "line": {
              "color": "#E5ECF6",
              "width": 0.5
             }
            },
            "type": "barpolar"
           }
          ],
          "carpet": [
           {
            "aaxis": {
             "endlinecolor": "#2a3f5f",
             "gridcolor": "white",
             "linecolor": "white",
             "minorgridcolor": "white",
             "startlinecolor": "#2a3f5f"
            },
            "baxis": {
             "endlinecolor": "#2a3f5f",
             "gridcolor": "white",
             "linecolor": "white",
             "minorgridcolor": "white",
             "startlinecolor": "#2a3f5f"
            },
            "type": "carpet"
           }
          ],
          "choropleth": [
           {
            "colorbar": {
             "outlinewidth": 0,
             "ticks": ""
            },
            "type": "choropleth"
           }
          ],
          "contour": [
           {
            "colorbar": {
             "outlinewidth": 0,
             "ticks": ""
            },
            "colorscale": [
             [
              0,
              "#0d0887"
             ],
             [
              0.1111111111111111,
              "#46039f"
             ],
             [
              0.2222222222222222,
              "#7201a8"
             ],
             [
              0.3333333333333333,
              "#9c179e"
             ],
             [
              0.4444444444444444,
              "#bd3786"
             ],
             [
              0.5555555555555556,
              "#d8576b"
             ],
             [
              0.6666666666666666,
              "#ed7953"
             ],
             [
              0.7777777777777778,
              "#fb9f3a"
             ],
             [
              0.8888888888888888,
              "#fdca26"
             ],
             [
              1,
              "#f0f921"
             ]
            ],
            "type": "contour"
           }
          ],
          "contourcarpet": [
           {
            "colorbar": {
             "outlinewidth": 0,
             "ticks": ""
            },
            "type": "contourcarpet"
           }
          ],
          "heatmap": [
           {
            "colorbar": {
             "outlinewidth": 0,
             "ticks": ""
            },
            "colorscale": [
             [
              0,
              "#0d0887"
             ],
             [
              0.1111111111111111,
              "#46039f"
             ],
             [
              0.2222222222222222,
              "#7201a8"
             ],
             [
              0.3333333333333333,
              "#9c179e"
             ],
             [
              0.4444444444444444,
              "#bd3786"
             ],
             [
              0.5555555555555556,
              "#d8576b"
             ],
             [
              0.6666666666666666,
              "#ed7953"
             ],
             [
              0.7777777777777778,
              "#fb9f3a"
             ],
             [
              0.8888888888888888,
              "#fdca26"
             ],
             [
              1,
              "#f0f921"
             ]
            ],
            "type": "heatmap"
           }
          ],
          "heatmapgl": [
           {
            "colorbar": {
             "outlinewidth": 0,
             "ticks": ""
            },
            "colorscale": [
             [
              0,
              "#0d0887"
             ],
             [
              0.1111111111111111,
              "#46039f"
             ],
             [
              0.2222222222222222,
              "#7201a8"
             ],
             [
              0.3333333333333333,
              "#9c179e"
             ],
             [
              0.4444444444444444,
              "#bd3786"
             ],
             [
              0.5555555555555556,
              "#d8576b"
             ],
             [
              0.6666666666666666,
              "#ed7953"
             ],
             [
              0.7777777777777778,
              "#fb9f3a"
             ],
             [
              0.8888888888888888,
              "#fdca26"
             ],
             [
              1,
              "#f0f921"
             ]
            ],
            "type": "heatmapgl"
           }
          ],
          "histogram": [
           {
            "marker": {
             "colorbar": {
              "outlinewidth": 0,
              "ticks": ""
             }
            },
            "type": "histogram"
           }
          ],
          "histogram2d": [
           {
            "colorbar": {
             "outlinewidth": 0,
             "ticks": ""
            },
            "colorscale": [
             [
              0,
              "#0d0887"
             ],
             [
              0.1111111111111111,
              "#46039f"
             ],
             [
              0.2222222222222222,
              "#7201a8"
             ],
             [
              0.3333333333333333,
              "#9c179e"
             ],
             [
              0.4444444444444444,
              "#bd3786"
             ],
             [
              0.5555555555555556,
              "#d8576b"
             ],
             [
              0.6666666666666666,
              "#ed7953"
             ],
             [
              0.7777777777777778,
              "#fb9f3a"
             ],
             [
              0.8888888888888888,
              "#fdca26"
             ],
             [
              1,
              "#f0f921"
             ]
            ],
            "type": "histogram2d"
           }
          ],
          "histogram2dcontour": [
           {
            "colorbar": {
             "outlinewidth": 0,
             "ticks": ""
            },
            "colorscale": [
             [
              0,
              "#0d0887"
             ],
             [
              0.1111111111111111,
              "#46039f"
             ],
             [
              0.2222222222222222,
              "#7201a8"
             ],
             [
              0.3333333333333333,
              "#9c179e"
             ],
             [
              0.4444444444444444,
              "#bd3786"
             ],
             [
              0.5555555555555556,
              "#d8576b"
             ],
             [
              0.6666666666666666,
              "#ed7953"
             ],
             [
              0.7777777777777778,
              "#fb9f3a"
             ],
             [
              0.8888888888888888,
              "#fdca26"
             ],
             [
              1,
              "#f0f921"
             ]
            ],
            "type": "histogram2dcontour"
           }
          ],
          "mesh3d": [
           {
            "colorbar": {
             "outlinewidth": 0,
             "ticks": ""
            },
            "type": "mesh3d"
           }
          ],
          "parcoords": [
           {
            "line": {
             "colorbar": {
              "outlinewidth": 0,
              "ticks": ""
             }
            },
            "type": "parcoords"
           }
          ],
          "pie": [
           {
            "automargin": true,
            "type": "pie"
           }
          ],
          "scatter": [
           {
            "marker": {
             "colorbar": {
              "outlinewidth": 0,
              "ticks": ""
             }
            },
            "type": "scatter"
           }
          ],
          "scatter3d": [
           {
            "line": {
             "colorbar": {
              "outlinewidth": 0,
              "ticks": ""
             }
            },
            "marker": {
             "colorbar": {
              "outlinewidth": 0,
              "ticks": ""
             }
            },
            "type": "scatter3d"
           }
          ],
          "scattercarpet": [
           {
            "marker": {
             "colorbar": {
              "outlinewidth": 0,
              "ticks": ""
             }
            },
            "type": "scattercarpet"
           }
          ],
          "scattergeo": [
           {
            "marker": {
             "colorbar": {
              "outlinewidth": 0,
              "ticks": ""
             }
            },
            "type": "scattergeo"
           }
          ],
          "scattergl": [
           {
            "marker": {
             "colorbar": {
              "outlinewidth": 0,
              "ticks": ""
             }
            },
            "type": "scattergl"
           }
          ],
          "scattermapbox": [
           {
            "marker": {
             "colorbar": {
              "outlinewidth": 0,
              "ticks": ""
             }
            },
            "type": "scattermapbox"
           }
          ],
          "scatterpolar": [
           {
            "marker": {
             "colorbar": {
              "outlinewidth": 0,
              "ticks": ""
             }
            },
            "type": "scatterpolar"
           }
          ],
          "scatterpolargl": [
           {
            "marker": {
             "colorbar": {
              "outlinewidth": 0,
              "ticks": ""
             }
            },
            "type": "scatterpolargl"
           }
          ],
          "scatterternary": [
           {
            "marker": {
             "colorbar": {
              "outlinewidth": 0,
              "ticks": ""
             }
            },
            "type": "scatterternary"
           }
          ],
          "surface": [
           {
            "colorbar": {
             "outlinewidth": 0,
             "ticks": ""
            },
            "colorscale": [
             [
              0,
              "#0d0887"
             ],
             [
              0.1111111111111111,
              "#46039f"
             ],
             [
              0.2222222222222222,
              "#7201a8"
             ],
             [
              0.3333333333333333,
              "#9c179e"
             ],
             [
              0.4444444444444444,
              "#bd3786"
             ],
             [
              0.5555555555555556,
              "#d8576b"
             ],
             [
              0.6666666666666666,
              "#ed7953"
             ],
             [
              0.7777777777777778,
              "#fb9f3a"
             ],
             [
              0.8888888888888888,
              "#fdca26"
             ],
             [
              1,
              "#f0f921"
             ]
            ],
            "type": "surface"
           }
          ],
          "table": [
           {
            "cells": {
             "fill": {
              "color": "#EBF0F8"
             },
             "line": {
              "color": "white"
             }
            },
            "header": {
             "fill": {
              "color": "#C8D4E3"
             },
             "line": {
              "color": "white"
             }
            },
            "type": "table"
           }
          ]
         },
         "layout": {
          "annotationdefaults": {
           "arrowcolor": "#2a3f5f",
           "arrowhead": 0,
           "arrowwidth": 1
          },
          "autotypenumbers": "strict",
          "coloraxis": {
           "colorbar": {
            "outlinewidth": 0,
            "ticks": ""
           }
          },
          "colorscale": {
           "diverging": [
            [
             0,
             "#8e0152"
            ],
            [
             0.1,
             "#c51b7d"
            ],
            [
             0.2,
             "#de77ae"
            ],
            [
             0.3,
             "#f1b6da"
            ],
            [
             0.4,
             "#fde0ef"
            ],
            [
             0.5,
             "#f7f7f7"
            ],
            [
             0.6,
             "#e6f5d0"
            ],
            [
             0.7,
             "#b8e186"
            ],
            [
             0.8,
             "#7fbc41"
            ],
            [
             0.9,
             "#4d9221"
            ],
            [
             1,
             "#276419"
            ]
           ],
           "sequential": [
            [
             0,
             "#0d0887"
            ],
            [
             0.1111111111111111,
             "#46039f"
            ],
            [
             0.2222222222222222,
             "#7201a8"
            ],
            [
             0.3333333333333333,
             "#9c179e"
            ],
            [
             0.4444444444444444,
             "#bd3786"
            ],
            [
             0.5555555555555556,
             "#d8576b"
            ],
            [
             0.6666666666666666,
             "#ed7953"
            ],
            [
             0.7777777777777778,
             "#fb9f3a"
            ],
            [
             0.8888888888888888,
             "#fdca26"
            ],
            [
             1,
             "#f0f921"
            ]
           ],
           "sequentialminus": [
            [
             0,
             "#0d0887"
            ],
            [
             0.1111111111111111,
             "#46039f"
            ],
            [
             0.2222222222222222,
             "#7201a8"
            ],
            [
             0.3333333333333333,
             "#9c179e"
            ],
            [
             0.4444444444444444,
             "#bd3786"
            ],
            [
             0.5555555555555556,
             "#d8576b"
            ],
            [
             0.6666666666666666,
             "#ed7953"
            ],
            [
             0.7777777777777778,
             "#fb9f3a"
            ],
            [
             0.8888888888888888,
             "#fdca26"
            ],
            [
             1,
             "#f0f921"
            ]
           ]
          },
          "colorway": [
           "#636efa",
           "#EF553B",
           "#00cc96",
           "#ab63fa",
           "#FFA15A",
           "#19d3f3",
           "#FF6692",
           "#B6E880",
           "#FF97FF",
           "#FECB52"
          ],
          "font": {
           "color": "#2a3f5f"
          },
          "geo": {
           "bgcolor": "white",
           "lakecolor": "white",
           "landcolor": "#E5ECF6",
           "showlakes": true,
           "showland": true,
           "subunitcolor": "white"
          },
          "hoverlabel": {
           "align": "left"
          },
          "hovermode": "closest",
          "mapbox": {
           "style": "light"
          },
          "paper_bgcolor": "white",
          "plot_bgcolor": "#E5ECF6",
          "polar": {
           "angularaxis": {
            "gridcolor": "white",
            "linecolor": "white",
            "ticks": ""
           },
           "bgcolor": "#E5ECF6",
           "radialaxis": {
            "gridcolor": "white",
            "linecolor": "white",
            "ticks": ""
           }
          },
          "scene": {
           "xaxis": {
            "backgroundcolor": "#E5ECF6",
            "gridcolor": "white",
            "gridwidth": 2,
            "linecolor": "white",
            "showbackground": true,
            "ticks": "",
            "zerolinecolor": "white"
           },
           "yaxis": {
            "backgroundcolor": "#E5ECF6",
            "gridcolor": "white",
            "gridwidth": 2,
            "linecolor": "white",
            "showbackground": true,
            "ticks": "",
            "zerolinecolor": "white"
           },
           "zaxis": {
            "backgroundcolor": "#E5ECF6",
            "gridcolor": "white",
            "gridwidth": 2,
            "linecolor": "white",
            "showbackground": true,
            "ticks": "",
            "zerolinecolor": "white"
           }
          },
          "shapedefaults": {
           "line": {
            "color": "#2a3f5f"
           }
          },
          "ternary": {
           "aaxis": {
            "gridcolor": "white",
            "linecolor": "white",
            "ticks": ""
           },
           "baxis": {
            "gridcolor": "white",
            "linecolor": "white",
            "ticks": ""
           },
           "bgcolor": "#E5ECF6",
           "caxis": {
            "gridcolor": "white",
            "linecolor": "white",
            "ticks": ""
           }
          },
          "title": {
           "x": 0.05
          },
          "xaxis": {
           "automargin": true,
           "gridcolor": "white",
           "linecolor": "white",
           "ticks": "",
           "title": {
            "standoff": 15
           },
           "zerolinecolor": "white",
           "zerolinewidth": 2
          },
          "yaxis": {
           "automargin": true,
           "gridcolor": "white",
           "linecolor": "white",
           "ticks": "",
           "title": {
            "standoff": 15
           },
           "zerolinecolor": "white",
           "zerolinewidth": 2
          }
         }
        },
        "xaxis": {
         "anchor": "y",
         "domain": [
          0,
          1
         ],
         "title": {
          "text": "LastRentalStart"
         }
        },
        "yaxis": {
         "anchor": "x",
         "domain": [
          0,
          1
         ],
         "title": {
          "text": "total"
         }
        }
       }
      },
      "text/html": [
       "<div>                            <div id=\"221657a6-25e6-4655-b539-0bcee7d2b0e3\" class=\"plotly-graph-div\" style=\"height:525px; width:100%;\"></div>            <script type=\"text/javascript\">                require([\"plotly\"], function(Plotly) {                    window.PLOTLYENV=window.PLOTLYENV || {};                                    if (document.getElementById(\"221657a6-25e6-4655-b539-0bcee7d2b0e3\")) {                    Plotly.newPlot(                        \"221657a6-25e6-4655-b539-0bcee7d2b0e3\",                        [{\"hovertemplate\": \"LastRentalStart=%{x}<br>total=%{y}<extra></extra>\", \"legendgroup\": \"\", \"line\": {\"color\": \"#636efa\", \"dash\": \"solid\"}, \"mode\": \"lines\", \"name\": \"\", \"orientation\": \"v\", \"showlegend\": false, \"type\": \"scatter\", \"x\": [\"2020-09-16T00:00:00\", \"2020-09-17T00:00:00\", \"2020-09-18T00:00:00\", \"2020-09-19T00:00:00\", \"2020-09-20T00:00:00\", \"2020-09-21T00:00:00\", \"2020-09-22T00:00:00\", \"2020-09-23T00:00:00\", \"2020-09-24T00:00:00\", \"2020-09-25T00:00:00\", \"2020-09-26T00:00:00\", \"2020-09-27T00:00:00\", \"2020-09-28T00:00:00\", \"2020-09-29T00:00:00\", \"2020-09-30T00:00:00\", \"2020-10-01T00:00:00\", \"2020-10-02T00:00:00\", \"2020-10-03T00:00:00\", \"2020-10-04T00:00:00\", \"2020-10-05T00:00:00\", \"2020-10-06T00:00:00\", \"2020-10-07T00:00:00\", \"2020-10-08T00:00:00\", \"2020-10-09T00:00:00\", \"2020-10-10T00:00:00\", \"2020-10-11T00:00:00\", \"2020-10-12T00:00:00\", \"2020-10-13T00:00:00\", \"2020-10-14T00:00:00\", \"2020-10-15T00:00:00\", \"2020-10-16T00:00:00\", \"2020-10-17T00:00:00\", \"2020-10-18T00:00:00\", \"2020-10-19T00:00:00\", \"2020-10-20T00:00:00\", \"2020-10-21T00:00:00\", \"2020-10-22T00:00:00\", \"2020-10-23T00:00:00\", \"2020-10-24T00:00:00\", \"2020-10-25T00:00:00\", \"2020-10-26T00:00:00\", \"2020-10-27T00:00:00\", \"2020-10-28T00:00:00\", \"2020-10-29T00:00:00\", \"2020-10-30T00:00:00\", \"2020-10-31T00:00:00\", \"2020-11-01T00:00:00\", \"2020-11-02T00:00:00\", \"2020-11-03T00:00:00\", \"2020-11-04T00:00:00\", \"2020-11-05T00:00:00\", \"2020-11-06T00:00:00\", \"2020-11-07T00:00:00\", \"2020-11-08T00:00:00\", \"2020-11-09T00:00:00\", \"2020-11-10T00:00:00\", \"2020-11-11T00:00:00\", \"2020-11-12T00:00:00\", \"2020-11-13T00:00:00\", \"2020-11-14T00:00:00\", \"2020-11-15T00:00:00\", \"2020-11-16T00:00:00\", \"2020-11-17T00:00:00\", \"2020-11-18T00:00:00\", \"2020-11-19T00:00:00\", \"2020-11-20T00:00:00\", \"2020-11-21T00:00:00\", \"2020-11-22T00:00:00\", \"2020-11-23T00:00:00\", \"2020-11-24T00:00:00\", \"2020-11-25T00:00:00\", \"2020-11-26T00:00:00\", \"2020-11-27T00:00:00\", \"2020-11-28T00:00:00\", \"2020-11-29T00:00:00\", \"2020-11-30T00:00:00\", \"2020-12-01T00:00:00\", \"2020-12-02T00:00:00\", \"2020-12-03T00:00:00\", \"2020-12-04T00:00:00\", \"2020-12-05T00:00:00\", \"2020-12-06T00:00:00\", \"2020-12-07T00:00:00\", \"2020-12-08T00:00:00\", \"2020-12-09T00:00:00\", \"2020-12-10T00:00:00\", \"2020-12-11T00:00:00\", \"2020-12-12T00:00:00\", \"2020-12-13T00:00:00\", \"2020-12-14T00:00:00\", \"2020-12-15T00:00:00\", \"2020-12-16T00:00:00\", \"2020-12-17T00:00:00\", \"2020-12-18T00:00:00\", \"2020-12-19T00:00:00\", \"2020-12-20T00:00:00\", \"2020-12-21T00:00:00\", \"2020-12-22T00:00:00\", \"2020-12-23T00:00:00\", \"2020-12-24T00:00:00\", \"2020-12-25T00:00:00\", \"2020-12-26T00:00:00\", \"2020-12-27T00:00:00\", \"2020-12-28T00:00:00\", \"2020-12-29T00:00:00\", \"2020-12-30T00:00:00\", \"2020-12-31T00:00:00\", \"2021-01-01T00:00:00\", \"2021-01-02T00:00:00\", \"2021-01-03T00:00:00\", \"2021-01-04T00:00:00\", \"2021-01-05T00:00:00\", \"2021-01-06T00:00:00\", \"2021-01-07T00:00:00\", \"2021-01-08T00:00:00\", \"2021-01-09T00:00:00\", \"2021-01-10T00:00:00\", \"2021-01-11T00:00:00\", \"2021-01-12T00:00:00\", \"2021-01-13T00:00:00\", \"2021-01-14T00:00:00\", \"2021-01-15T00:00:00\", \"2021-01-16T00:00:00\", \"2021-01-17T00:00:00\", \"2021-01-18T00:00:00\", \"2021-01-19T00:00:00\", \"2021-01-20T00:00:00\", \"2021-01-21T00:00:00\", \"2021-01-22T00:00:00\", \"2021-01-23T00:00:00\", \"2021-01-24T00:00:00\", \"2021-01-25T00:00:00\", \"2021-01-26T00:00:00\", \"2021-01-27T00:00:00\", \"2021-01-28T00:00:00\", \"2021-01-29T00:00:00\", \"2021-01-30T00:00:00\", \"2021-01-31T00:00:00\", \"2021-02-01T00:00:00\", \"2021-02-02T00:00:00\", \"2021-02-03T00:00:00\", \"2021-02-04T00:00:00\", \"2021-02-05T00:00:00\", \"2021-02-06T00:00:00\", \"2021-02-07T00:00:00\", \"2021-02-08T00:00:00\", \"2021-02-09T00:00:00\", \"2021-02-10T00:00:00\", \"2021-02-11T00:00:00\", \"2021-02-12T00:00:00\", \"2021-02-13T00:00:00\", \"2021-02-14T00:00:00\", \"2021-02-15T00:00:00\", \"2021-02-16T00:00:00\", \"2021-02-17T00:00:00\", \"2021-02-18T00:00:00\", \"2021-02-19T00:00:00\", \"2021-02-20T00:00:00\", \"2021-02-21T00:00:00\", \"2021-02-22T00:00:00\", \"2021-02-23T00:00:00\", \"2021-02-24T00:00:00\", \"2021-02-25T00:00:00\", \"2021-02-26T00:00:00\", \"2021-02-27T00:00:00\", \"2021-02-28T00:00:00\", \"2021-03-01T00:00:00\", \"2021-03-02T00:00:00\", \"2021-03-03T00:00:00\", \"2021-03-04T00:00:00\", \"2021-03-05T00:00:00\", \"2021-03-06T00:00:00\", \"2021-03-07T00:00:00\", \"2021-03-08T00:00:00\", \"2021-03-09T00:00:00\", \"2021-03-10T00:00:00\", \"2021-03-11T00:00:00\", \"2021-03-12T00:00:00\", \"2021-03-13T00:00:00\", \"2021-03-14T00:00:00\", \"2021-03-15T00:00:00\", \"2021-03-16T00:00:00\", \"2021-03-17T00:00:00\", \"2021-03-18T00:00:00\", \"2021-03-19T00:00:00\", \"2021-03-20T00:00:00\", \"2021-03-21T00:00:00\", \"2021-03-22T00:00:00\", \"2021-03-23T00:00:00\", \"2021-03-24T00:00:00\", \"2021-03-25T00:00:00\", \"2021-03-26T00:00:00\", \"2021-03-27T00:00:00\", \"2021-03-28T00:00:00\", \"2021-03-29T00:00:00\", \"2021-03-30T00:00:00\", \"2021-03-31T00:00:00\", \"2021-04-01T00:00:00\", \"2021-04-02T00:00:00\", \"2021-04-03T00:00:00\", \"2021-04-04T00:00:00\", \"2021-04-05T00:00:00\", \"2021-04-06T00:00:00\", \"2021-04-07T00:00:00\", \"2021-04-08T00:00:00\", \"2021-04-09T00:00:00\", \"2021-04-10T00:00:00\", \"2021-04-11T00:00:00\", \"2021-04-12T00:00:00\", \"2021-04-13T00:00:00\", \"2021-04-14T00:00:00\", \"2021-04-15T00:00:00\", \"2021-04-16T00:00:00\", \"2021-04-17T00:00:00\", \"2021-04-18T00:00:00\", \"2021-04-19T00:00:00\", \"2021-04-20T00:00:00\", \"2021-04-21T00:00:00\", \"2021-04-22T00:00:00\", \"2021-04-23T00:00:00\", \"2021-04-24T00:00:00\", \"2021-04-25T00:00:00\", \"2021-04-26T00:00:00\", \"2021-04-27T00:00:00\", \"2021-04-28T00:00:00\", \"2021-04-29T00:00:00\", \"2021-04-30T00:00:00\", \"2021-05-01T00:00:00\"], \"xaxis\": \"x\", \"y\": [1, 0, 2, 1, 0, 11, 10, 95, 55, 158, 165, 141, 127, 125, 71, 110, 125, 123, 41, 98, 113, 103, 109, 122, 89, 92, 115, 80, 114, 109, 128, 73, 93, 89, 124, 125, 92, 132, 101, 146, 181, 88, 103, 82, 136, 102, 76, 74, 77, 99, 88, 127, 163, 118, 111, 121, 76, 102, 153, 88, 82, 97, 128, 103, 107, 110, 129, 102, 111, 100, 121, 103, 114, 126, 84, 114, 112, 115, 109, 100, 95, 90, 89, 104, 90, 103, 124, 111, 71, 107, 103, 125, 91, 134, 107, 110, 83, 102, 83, 74, 42, 53, 51, 65, 91, 79, 61, 59, 84, 36, 52, 78, 60, 54, 67, 47, 62, 76, 84, 60, 96, 101, 115, 104, 75, 77, 73, 75, 118, 76, 74, 83, 97, 80, 89, 82, 37, 39, 78, 67, 87, 91, 93, 60, 49, 73, 71, 66, 68, 85, 62, 63, 110, 103, 108, 116, 104, 66, 146, 124, 54, 88, 118, 127, 159, 166, 107, 105, 107, 93, 120, 137, 157, 110, 95, 79, 90, 106, 101, 63, 90, 117, 171, 110, 151, 148, 134, 81, 76, 90, 95, 73, 137, 101, 88, 113, 76, 74, 126, 155, 130, 90, 83, 66, 76, 71, 129, 84, 72, 81, 99, 123, 133, 153, 70, 78, 79, 82, 111, 130, 163, 168, 100, 93, 97, 77, 129, 48], \"yaxis\": \"y\"}],                        {\"legend\": {\"tracegroupgap\": 0}, \"margin\": {\"t\": 60}, \"template\": {\"data\": {\"bar\": [{\"error_x\": {\"color\": \"#2a3f5f\"}, \"error_y\": {\"color\": \"#2a3f5f\"}, \"marker\": {\"line\": {\"color\": \"#E5ECF6\", \"width\": 0.5}}, \"type\": \"bar\"}], \"barpolar\": [{\"marker\": {\"line\": {\"color\": \"#E5ECF6\", \"width\": 0.5}}, \"type\": \"barpolar\"}], \"carpet\": [{\"aaxis\": {\"endlinecolor\": \"#2a3f5f\", \"gridcolor\": \"white\", \"linecolor\": \"white\", \"minorgridcolor\": \"white\", \"startlinecolor\": \"#2a3f5f\"}, \"baxis\": {\"endlinecolor\": \"#2a3f5f\", \"gridcolor\": \"white\", \"linecolor\": \"white\", \"minorgridcolor\": \"white\", \"startlinecolor\": \"#2a3f5f\"}, \"type\": \"carpet\"}], \"choropleth\": [{\"colorbar\": {\"outlinewidth\": 0, \"ticks\": \"\"}, \"type\": \"choropleth\"}], \"contour\": [{\"colorbar\": {\"outlinewidth\": 0, \"ticks\": \"\"}, \"colorscale\": [[0.0, \"#0d0887\"], [0.1111111111111111, \"#46039f\"], [0.2222222222222222, \"#7201a8\"], [0.3333333333333333, \"#9c179e\"], [0.4444444444444444, \"#bd3786\"], [0.5555555555555556, \"#d8576b\"], [0.6666666666666666, \"#ed7953\"], [0.7777777777777778, \"#fb9f3a\"], [0.8888888888888888, \"#fdca26\"], [1.0, \"#f0f921\"]], \"type\": \"contour\"}], \"contourcarpet\": [{\"colorbar\": {\"outlinewidth\": 0, \"ticks\": \"\"}, \"type\": \"contourcarpet\"}], \"heatmap\": [{\"colorbar\": {\"outlinewidth\": 0, \"ticks\": \"\"}, \"colorscale\": [[0.0, \"#0d0887\"], [0.1111111111111111, \"#46039f\"], [0.2222222222222222, \"#7201a8\"], [0.3333333333333333, \"#9c179e\"], [0.4444444444444444, \"#bd3786\"], [0.5555555555555556, \"#d8576b\"], [0.6666666666666666, \"#ed7953\"], [0.7777777777777778, \"#fb9f3a\"], [0.8888888888888888, \"#fdca26\"], [1.0, \"#f0f921\"]], \"type\": \"heatmap\"}], \"heatmapgl\": [{\"colorbar\": {\"outlinewidth\": 0, \"ticks\": \"\"}, \"colorscale\": [[0.0, \"#0d0887\"], [0.1111111111111111, \"#46039f\"], [0.2222222222222222, \"#7201a8\"], [0.3333333333333333, \"#9c179e\"], [0.4444444444444444, \"#bd3786\"], [0.5555555555555556, \"#d8576b\"], [0.6666666666666666, \"#ed7953\"], [0.7777777777777778, \"#fb9f3a\"], [0.8888888888888888, \"#fdca26\"], [1.0, \"#f0f921\"]], \"type\": \"heatmapgl\"}], \"histogram\": [{\"marker\": {\"colorbar\": {\"outlinewidth\": 0, \"ticks\": \"\"}}, \"type\": \"histogram\"}], \"histogram2d\": [{\"colorbar\": {\"outlinewidth\": 0, \"ticks\": \"\"}, \"colorscale\": [[0.0, \"#0d0887\"], [0.1111111111111111, \"#46039f\"], [0.2222222222222222, \"#7201a8\"], [0.3333333333333333, \"#9c179e\"], [0.4444444444444444, \"#bd3786\"], [0.5555555555555556, \"#d8576b\"], [0.6666666666666666, \"#ed7953\"], [0.7777777777777778, \"#fb9f3a\"], [0.8888888888888888, \"#fdca26\"], [1.0, \"#f0f921\"]], \"type\": \"histogram2d\"}], \"histogram2dcontour\": [{\"colorbar\": {\"outlinewidth\": 0, \"ticks\": \"\"}, \"colorscale\": [[0.0, \"#0d0887\"], [0.1111111111111111, \"#46039f\"], [0.2222222222222222, \"#7201a8\"], [0.3333333333333333, \"#9c179e\"], [0.4444444444444444, \"#bd3786\"], [0.5555555555555556, \"#d8576b\"], [0.6666666666666666, \"#ed7953\"], [0.7777777777777778, \"#fb9f3a\"], [0.8888888888888888, \"#fdca26\"], [1.0, \"#f0f921\"]], \"type\": \"histogram2dcontour\"}], \"mesh3d\": [{\"colorbar\": {\"outlinewidth\": 0, \"ticks\": \"\"}, \"type\": \"mesh3d\"}], \"parcoords\": [{\"line\": {\"colorbar\": {\"outlinewidth\": 0, \"ticks\": \"\"}}, \"type\": \"parcoords\"}], \"pie\": [{\"automargin\": true, \"type\": \"pie\"}], \"scatter\": [{\"marker\": {\"colorbar\": {\"outlinewidth\": 0, \"ticks\": \"\"}}, \"type\": \"scatter\"}], \"scatter3d\": [{\"line\": {\"colorbar\": {\"outlinewidth\": 0, \"ticks\": \"\"}}, \"marker\": {\"colorbar\": {\"outlinewidth\": 0, \"ticks\": \"\"}}, \"type\": \"scatter3d\"}], \"scattercarpet\": [{\"marker\": {\"colorbar\": {\"outlinewidth\": 0, \"ticks\": \"\"}}, \"type\": \"scattercarpet\"}], \"scattergeo\": [{\"marker\": {\"colorbar\": {\"outlinewidth\": 0, \"ticks\": \"\"}}, \"type\": \"scattergeo\"}], \"scattergl\": [{\"marker\": {\"colorbar\": {\"outlinewidth\": 0, \"ticks\": \"\"}}, \"type\": \"scattergl\"}], \"scattermapbox\": [{\"marker\": {\"colorbar\": {\"outlinewidth\": 0, \"ticks\": \"\"}}, \"type\": \"scattermapbox\"}], \"scatterpolar\": [{\"marker\": {\"colorbar\": {\"outlinewidth\": 0, \"ticks\": \"\"}}, \"type\": \"scatterpolar\"}], \"scatterpolargl\": [{\"marker\": {\"colorbar\": {\"outlinewidth\": 0, \"ticks\": \"\"}}, \"type\": \"scatterpolargl\"}], \"scatterternary\": [{\"marker\": {\"colorbar\": {\"outlinewidth\": 0, \"ticks\": \"\"}}, \"type\": \"scatterternary\"}], \"surface\": [{\"colorbar\": {\"outlinewidth\": 0, \"ticks\": \"\"}, \"colorscale\": [[0.0, \"#0d0887\"], [0.1111111111111111, \"#46039f\"], [0.2222222222222222, \"#7201a8\"], [0.3333333333333333, \"#9c179e\"], [0.4444444444444444, \"#bd3786\"], [0.5555555555555556, \"#d8576b\"], [0.6666666666666666, \"#ed7953\"], [0.7777777777777778, \"#fb9f3a\"], [0.8888888888888888, \"#fdca26\"], [1.0, \"#f0f921\"]], \"type\": \"surface\"}], \"table\": [{\"cells\": {\"fill\": {\"color\": \"#EBF0F8\"}, \"line\": {\"color\": \"white\"}}, \"header\": {\"fill\": {\"color\": \"#C8D4E3\"}, \"line\": {\"color\": \"white\"}}, \"type\": \"table\"}]}, \"layout\": {\"annotationdefaults\": {\"arrowcolor\": \"#2a3f5f\", \"arrowhead\": 0, \"arrowwidth\": 1}, \"autotypenumbers\": \"strict\", \"coloraxis\": {\"colorbar\": {\"outlinewidth\": 0, \"ticks\": \"\"}}, \"colorscale\": {\"diverging\": [[0, \"#8e0152\"], [0.1, \"#c51b7d\"], [0.2, \"#de77ae\"], [0.3, \"#f1b6da\"], [0.4, \"#fde0ef\"], [0.5, \"#f7f7f7\"], [0.6, \"#e6f5d0\"], [0.7, \"#b8e186\"], [0.8, \"#7fbc41\"], [0.9, \"#4d9221\"], [1, \"#276419\"]], \"sequential\": [[0.0, \"#0d0887\"], [0.1111111111111111, \"#46039f\"], [0.2222222222222222, \"#7201a8\"], [0.3333333333333333, \"#9c179e\"], [0.4444444444444444, \"#bd3786\"], [0.5555555555555556, \"#d8576b\"], [0.6666666666666666, \"#ed7953\"], [0.7777777777777778, \"#fb9f3a\"], [0.8888888888888888, \"#fdca26\"], [1.0, \"#f0f921\"]], \"sequentialminus\": [[0.0, \"#0d0887\"], [0.1111111111111111, \"#46039f\"], [0.2222222222222222, \"#7201a8\"], [0.3333333333333333, \"#9c179e\"], [0.4444444444444444, \"#bd3786\"], [0.5555555555555556, \"#d8576b\"], [0.6666666666666666, \"#ed7953\"], [0.7777777777777778, \"#fb9f3a\"], [0.8888888888888888, \"#fdca26\"], [1.0, \"#f0f921\"]]}, \"colorway\": [\"#636efa\", \"#EF553B\", \"#00cc96\", \"#ab63fa\", \"#FFA15A\", \"#19d3f3\", \"#FF6692\", \"#B6E880\", \"#FF97FF\", \"#FECB52\"], \"font\": {\"color\": \"#2a3f5f\"}, \"geo\": {\"bgcolor\": \"white\", \"lakecolor\": \"white\", \"landcolor\": \"#E5ECF6\", \"showlakes\": true, \"showland\": true, \"subunitcolor\": \"white\"}, \"hoverlabel\": {\"align\": \"left\"}, \"hovermode\": \"closest\", \"mapbox\": {\"style\": \"light\"}, \"paper_bgcolor\": \"white\", \"plot_bgcolor\": \"#E5ECF6\", \"polar\": {\"angularaxis\": {\"gridcolor\": \"white\", \"linecolor\": \"white\", \"ticks\": \"\"}, \"bgcolor\": \"#E5ECF6\", \"radialaxis\": {\"gridcolor\": \"white\", \"linecolor\": \"white\", \"ticks\": \"\"}}, \"scene\": {\"xaxis\": {\"backgroundcolor\": \"#E5ECF6\", \"gridcolor\": \"white\", \"gridwidth\": 2, \"linecolor\": \"white\", \"showbackground\": true, \"ticks\": \"\", \"zerolinecolor\": \"white\"}, \"yaxis\": {\"backgroundcolor\": \"#E5ECF6\", \"gridcolor\": \"white\", \"gridwidth\": 2, \"linecolor\": \"white\", \"showbackground\": true, \"ticks\": \"\", \"zerolinecolor\": \"white\"}, \"zaxis\": {\"backgroundcolor\": \"#E5ECF6\", \"gridcolor\": \"white\", \"gridwidth\": 2, \"linecolor\": \"white\", \"showbackground\": true, \"ticks\": \"\", \"zerolinecolor\": \"white\"}}, \"shapedefaults\": {\"line\": {\"color\": \"#2a3f5f\"}}, \"ternary\": {\"aaxis\": {\"gridcolor\": \"white\", \"linecolor\": \"white\", \"ticks\": \"\"}, \"baxis\": {\"gridcolor\": \"white\", \"linecolor\": \"white\", \"ticks\": \"\"}, \"bgcolor\": \"#E5ECF6\", \"caxis\": {\"gridcolor\": \"white\", \"linecolor\": \"white\", \"ticks\": \"\"}}, \"title\": {\"x\": 0.05}, \"xaxis\": {\"automargin\": true, \"gridcolor\": \"white\", \"linecolor\": \"white\", \"ticks\": \"\", \"title\": {\"standoff\": 15}, \"zerolinecolor\": \"white\", \"zerolinewidth\": 2}, \"yaxis\": {\"automargin\": true, \"gridcolor\": \"white\", \"linecolor\": \"white\", \"ticks\": \"\", \"title\": {\"standoff\": 15}, \"zerolinecolor\": \"white\", \"zerolinewidth\": 2}}}, \"xaxis\": {\"anchor\": \"y\", \"domain\": [0.0, 1.0], \"title\": {\"text\": \"LastRentalStart\"}}, \"yaxis\": {\"anchor\": \"x\", \"domain\": [0.0, 1.0], \"title\": {\"text\": \"total\"}}},                        {\"responsive\": true}                    ).then(function(){\n",
       "                            \n",
       "var gd = document.getElementById('221657a6-25e6-4655-b539-0bcee7d2b0e3');\n",
       "var x = new MutationObserver(function (mutations, observer) {{\n",
       "        var display = window.getComputedStyle(gd).display;\n",
       "        if (!display || display === 'none') {{\n",
       "            console.log([gd, 'removed!']);\n",
       "            Plotly.purge(gd);\n",
       "            observer.disconnect();\n",
       "        }}\n",
       "}});\n",
       "\n",
       "// Listen for the removal of the full notebook cells\n",
       "var notebookContainer = gd.closest('#notebook-container');\n",
       "if (notebookContainer) {{\n",
       "    x.observe(notebookContainer, {childList: true});\n",
       "}}\n",
       "\n",
       "// Listen for the clearing of the current output cell\n",
       "var outputEl = gd.closest('.output');\n",
       "if (outputEl) {{\n",
       "    x.observe(outputEl, {childList: true});\n",
       "}}\n",
       "\n",
       "                        })                };                });            </script>        </div>"
      ]
     },
     "metadata": {},
     "output_type": "display_data"
    }
   ],
   "source": [
    "fig = px.line(rentalstotal, x='LastRentalStart', y='total')\n",
    "fig.show()"
   ]
  },
  {
   "cell_type": "code",
   "execution_count": 126,
   "metadata": {},
   "outputs": [],
   "source": [
    "rentalstotal = rentals[['total']].resample('H').sum().reset_index()"
   ]
  },
  {
   "cell_type": "code",
   "execution_count": 127,
   "metadata": {
    "scrolled": false
   },
   "outputs": [
    {
     "data": {
      "application/vnd.plotly.v1+json": {
       "config": {
        "plotlyServerURL": "https://plot.ly"
       },
       "data": [
        {
         "hovertemplate": "LastRentalStart=%{x}<br>total=%{y}<extra></extra>",
         "legendgroup": "",
         "line": {
          "color": "#636efa",
          "dash": "solid"
         },
         "mode": "lines",
         "name": "",
         "orientation": "v",
         "showlegend": false,
         "type": "scatter",
         "x": [
          "2021-01-01T00:00:00",
          "2021-01-01T01:00:00",
          "2021-01-01T02:00:00",
          "2021-01-01T03:00:00",
          "2021-01-01T04:00:00",
          "2021-01-01T05:00:00",
          "2021-01-01T06:00:00",
          "2021-01-01T07:00:00",
          "2021-01-01T08:00:00",
          "2021-01-01T09:00:00",
          "2021-01-01T10:00:00",
          "2021-01-01T11:00:00",
          "2021-01-01T12:00:00",
          "2021-01-01T13:00:00",
          "2021-01-01T14:00:00",
          "2021-01-01T15:00:00",
          "2021-01-01T16:00:00",
          "2021-01-01T17:00:00",
          "2021-01-01T18:00:00",
          "2021-01-01T19:00:00",
          "2021-01-01T20:00:00",
          "2021-01-01T21:00:00",
          "2021-01-01T22:00:00",
          "2021-01-01T23:00:00",
          "2021-01-02T00:00:00",
          "2021-01-02T01:00:00",
          "2021-01-02T02:00:00",
          "2021-01-02T03:00:00",
          "2021-01-02T04:00:00",
          "2021-01-02T05:00:00",
          "2021-01-02T06:00:00",
          "2021-01-02T07:00:00",
          "2021-01-02T08:00:00",
          "2021-01-02T09:00:00",
          "2021-01-02T10:00:00",
          "2021-01-02T11:00:00",
          "2021-01-02T12:00:00",
          "2021-01-02T13:00:00",
          "2021-01-02T14:00:00",
          "2021-01-02T15:00:00",
          "2021-01-02T16:00:00",
          "2021-01-02T17:00:00",
          "2021-01-02T18:00:00",
          "2021-01-02T19:00:00",
          "2021-01-02T20:00:00",
          "2021-01-02T21:00:00",
          "2021-01-02T22:00:00",
          "2021-01-02T23:00:00",
          "2021-01-03T00:00:00",
          "2021-01-03T01:00:00",
          "2021-01-03T02:00:00",
          "2021-01-03T03:00:00",
          "2021-01-03T04:00:00",
          "2021-01-03T05:00:00",
          "2021-01-03T06:00:00",
          "2021-01-03T07:00:00",
          "2021-01-03T08:00:00",
          "2021-01-03T09:00:00",
          "2021-01-03T10:00:00",
          "2021-01-03T11:00:00",
          "2021-01-03T12:00:00",
          "2021-01-03T13:00:00",
          "2021-01-03T14:00:00",
          "2021-01-03T15:00:00",
          "2021-01-03T16:00:00",
          "2021-01-03T17:00:00",
          "2021-01-03T18:00:00",
          "2021-01-03T19:00:00",
          "2021-01-03T20:00:00",
          "2021-01-03T21:00:00",
          "2021-01-03T22:00:00",
          "2021-01-03T23:00:00",
          "2021-01-04T00:00:00",
          "2021-01-04T01:00:00",
          "2021-01-04T02:00:00",
          "2021-01-04T03:00:00",
          "2021-01-04T04:00:00",
          "2021-01-04T05:00:00",
          "2021-01-04T06:00:00",
          "2021-01-04T07:00:00",
          "2021-01-04T08:00:00",
          "2021-01-04T09:00:00",
          "2021-01-04T10:00:00",
          "2021-01-04T11:00:00",
          "2021-01-04T12:00:00",
          "2021-01-04T13:00:00",
          "2021-01-04T14:00:00",
          "2021-01-04T15:00:00",
          "2021-01-04T16:00:00",
          "2021-01-04T17:00:00",
          "2021-01-04T18:00:00",
          "2021-01-04T19:00:00",
          "2021-01-04T20:00:00",
          "2021-01-04T21:00:00",
          "2021-01-04T22:00:00",
          "2021-01-04T23:00:00",
          "2021-01-05T00:00:00",
          "2021-01-05T01:00:00",
          "2021-01-05T02:00:00",
          "2021-01-05T03:00:00",
          "2021-01-05T04:00:00",
          "2021-01-05T05:00:00",
          "2021-01-05T06:00:00",
          "2021-01-05T07:00:00",
          "2021-01-05T08:00:00",
          "2021-01-05T09:00:00",
          "2021-01-05T10:00:00",
          "2021-01-05T11:00:00",
          "2021-01-05T12:00:00",
          "2021-01-05T13:00:00",
          "2021-01-05T14:00:00",
          "2021-01-05T15:00:00",
          "2021-01-05T16:00:00",
          "2021-01-05T17:00:00",
          "2021-01-05T18:00:00",
          "2021-01-05T19:00:00",
          "2021-01-05T20:00:00",
          "2021-01-05T21:00:00",
          "2021-01-05T22:00:00",
          "2021-01-05T23:00:00",
          "2021-01-06T00:00:00",
          "2021-01-06T01:00:00",
          "2021-01-06T02:00:00",
          "2021-01-06T03:00:00",
          "2021-01-06T04:00:00",
          "2021-01-06T05:00:00",
          "2021-01-06T06:00:00",
          "2021-01-06T07:00:00",
          "2021-01-06T08:00:00",
          "2021-01-06T09:00:00",
          "2021-01-06T10:00:00",
          "2021-01-06T11:00:00",
          "2021-01-06T12:00:00",
          "2021-01-06T13:00:00",
          "2021-01-06T14:00:00",
          "2021-01-06T15:00:00",
          "2021-01-06T16:00:00",
          "2021-01-06T17:00:00",
          "2021-01-06T18:00:00",
          "2021-01-06T19:00:00",
          "2021-01-06T20:00:00",
          "2021-01-06T21:00:00",
          "2021-01-06T22:00:00",
          "2021-01-06T23:00:00",
          "2021-01-07T00:00:00",
          "2021-01-07T01:00:00",
          "2021-01-07T02:00:00",
          "2021-01-07T03:00:00",
          "2021-01-07T04:00:00",
          "2021-01-07T05:00:00",
          "2021-01-07T06:00:00",
          "2021-01-07T07:00:00",
          "2021-01-07T08:00:00",
          "2021-01-07T09:00:00",
          "2021-01-07T10:00:00",
          "2021-01-07T11:00:00",
          "2021-01-07T12:00:00",
          "2021-01-07T13:00:00",
          "2021-01-07T14:00:00",
          "2021-01-07T15:00:00",
          "2021-01-07T16:00:00",
          "2021-01-07T17:00:00",
          "2021-01-07T18:00:00",
          "2021-01-07T19:00:00",
          "2021-01-07T20:00:00",
          "2021-01-07T21:00:00",
          "2021-01-07T22:00:00",
          "2021-01-07T23:00:00"
         ],
         "xaxis": "x",
         "y": [
          0,
          0,
          0,
          1,
          0,
          0,
          0,
          0,
          1,
          2,
          1,
          5,
          8,
          2,
          7,
          9,
          6,
          5,
          6,
          2,
          2,
          2,
          0,
          0,
          0,
          0,
          0,
          0,
          0,
          1,
          0,
          0,
          1,
          2,
          7,
          9,
          19,
          13,
          14,
          7,
          3,
          1,
          2,
          1,
          0,
          1,
          3,
          0,
          0,
          0,
          0,
          0,
          0,
          1,
          0,
          1,
          0,
          2,
          4,
          4,
          2,
          4,
          8,
          2,
          0,
          0,
          3,
          0,
          2,
          1,
          2,
          0,
          0,
          0,
          0,
          0,
          0,
          0,
          0,
          1,
          5,
          3,
          1,
          0,
          11,
          14,
          7,
          4,
          3,
          1,
          0,
          0,
          1,
          0,
          1,
          0,
          2,
          0,
          0,
          0,
          0,
          0,
          2,
          1,
          4,
          3,
          5,
          6,
          13,
          8,
          10,
          6,
          6,
          4,
          2,
          3,
          1,
          1,
          1,
          0,
          0,
          1,
          0,
          1,
          0,
          0,
          0,
          1,
          3,
          4,
          3,
          6,
          2,
          3,
          13,
          5,
          2,
          4,
          4,
          2,
          1,
          4,
          1,
          0,
          1,
          0,
          0,
          0,
          0,
          1,
          1,
          1,
          1,
          5,
          2,
          4,
          5,
          12,
          1,
          0,
          2,
          6,
          4,
          2,
          1,
          3,
          1,
          1
         ],
         "yaxis": "y"
        }
       ],
       "layout": {
        "legend": {
         "tracegroupgap": 0
        },
        "margin": {
         "t": 60
        },
        "template": {
         "data": {
          "bar": [
           {
            "error_x": {
             "color": "#2a3f5f"
            },
            "error_y": {
             "color": "#2a3f5f"
            },
            "marker": {
             "line": {
              "color": "#E5ECF6",
              "width": 0.5
             }
            },
            "type": "bar"
           }
          ],
          "barpolar": [
           {
            "marker": {
             "line": {
              "color": "#E5ECF6",
              "width": 0.5
             }
            },
            "type": "barpolar"
           }
          ],
          "carpet": [
           {
            "aaxis": {
             "endlinecolor": "#2a3f5f",
             "gridcolor": "white",
             "linecolor": "white",
             "minorgridcolor": "white",
             "startlinecolor": "#2a3f5f"
            },
            "baxis": {
             "endlinecolor": "#2a3f5f",
             "gridcolor": "white",
             "linecolor": "white",
             "minorgridcolor": "white",
             "startlinecolor": "#2a3f5f"
            },
            "type": "carpet"
           }
          ],
          "choropleth": [
           {
            "colorbar": {
             "outlinewidth": 0,
             "ticks": ""
            },
            "type": "choropleth"
           }
          ],
          "contour": [
           {
            "colorbar": {
             "outlinewidth": 0,
             "ticks": ""
            },
            "colorscale": [
             [
              0,
              "#0d0887"
             ],
             [
              0.1111111111111111,
              "#46039f"
             ],
             [
              0.2222222222222222,
              "#7201a8"
             ],
             [
              0.3333333333333333,
              "#9c179e"
             ],
             [
              0.4444444444444444,
              "#bd3786"
             ],
             [
              0.5555555555555556,
              "#d8576b"
             ],
             [
              0.6666666666666666,
              "#ed7953"
             ],
             [
              0.7777777777777778,
              "#fb9f3a"
             ],
             [
              0.8888888888888888,
              "#fdca26"
             ],
             [
              1,
              "#f0f921"
             ]
            ],
            "type": "contour"
           }
          ],
          "contourcarpet": [
           {
            "colorbar": {
             "outlinewidth": 0,
             "ticks": ""
            },
            "type": "contourcarpet"
           }
          ],
          "heatmap": [
           {
            "colorbar": {
             "outlinewidth": 0,
             "ticks": ""
            },
            "colorscale": [
             [
              0,
              "#0d0887"
             ],
             [
              0.1111111111111111,
              "#46039f"
             ],
             [
              0.2222222222222222,
              "#7201a8"
             ],
             [
              0.3333333333333333,
              "#9c179e"
             ],
             [
              0.4444444444444444,
              "#bd3786"
             ],
             [
              0.5555555555555556,
              "#d8576b"
             ],
             [
              0.6666666666666666,
              "#ed7953"
             ],
             [
              0.7777777777777778,
              "#fb9f3a"
             ],
             [
              0.8888888888888888,
              "#fdca26"
             ],
             [
              1,
              "#f0f921"
             ]
            ],
            "type": "heatmap"
           }
          ],
          "heatmapgl": [
           {
            "colorbar": {
             "outlinewidth": 0,
             "ticks": ""
            },
            "colorscale": [
             [
              0,
              "#0d0887"
             ],
             [
              0.1111111111111111,
              "#46039f"
             ],
             [
              0.2222222222222222,
              "#7201a8"
             ],
             [
              0.3333333333333333,
              "#9c179e"
             ],
             [
              0.4444444444444444,
              "#bd3786"
             ],
             [
              0.5555555555555556,
              "#d8576b"
             ],
             [
              0.6666666666666666,
              "#ed7953"
             ],
             [
              0.7777777777777778,
              "#fb9f3a"
             ],
             [
              0.8888888888888888,
              "#fdca26"
             ],
             [
              1,
              "#f0f921"
             ]
            ],
            "type": "heatmapgl"
           }
          ],
          "histogram": [
           {
            "marker": {
             "colorbar": {
              "outlinewidth": 0,
              "ticks": ""
             }
            },
            "type": "histogram"
           }
          ],
          "histogram2d": [
           {
            "colorbar": {
             "outlinewidth": 0,
             "ticks": ""
            },
            "colorscale": [
             [
              0,
              "#0d0887"
             ],
             [
              0.1111111111111111,
              "#46039f"
             ],
             [
              0.2222222222222222,
              "#7201a8"
             ],
             [
              0.3333333333333333,
              "#9c179e"
             ],
             [
              0.4444444444444444,
              "#bd3786"
             ],
             [
              0.5555555555555556,
              "#d8576b"
             ],
             [
              0.6666666666666666,
              "#ed7953"
             ],
             [
              0.7777777777777778,
              "#fb9f3a"
             ],
             [
              0.8888888888888888,
              "#fdca26"
             ],
             [
              1,
              "#f0f921"
             ]
            ],
            "type": "histogram2d"
           }
          ],
          "histogram2dcontour": [
           {
            "colorbar": {
             "outlinewidth": 0,
             "ticks": ""
            },
            "colorscale": [
             [
              0,
              "#0d0887"
             ],
             [
              0.1111111111111111,
              "#46039f"
             ],
             [
              0.2222222222222222,
              "#7201a8"
             ],
             [
              0.3333333333333333,
              "#9c179e"
             ],
             [
              0.4444444444444444,
              "#bd3786"
             ],
             [
              0.5555555555555556,
              "#d8576b"
             ],
             [
              0.6666666666666666,
              "#ed7953"
             ],
             [
              0.7777777777777778,
              "#fb9f3a"
             ],
             [
              0.8888888888888888,
              "#fdca26"
             ],
             [
              1,
              "#f0f921"
             ]
            ],
            "type": "histogram2dcontour"
           }
          ],
          "mesh3d": [
           {
            "colorbar": {
             "outlinewidth": 0,
             "ticks": ""
            },
            "type": "mesh3d"
           }
          ],
          "parcoords": [
           {
            "line": {
             "colorbar": {
              "outlinewidth": 0,
              "ticks": ""
             }
            },
            "type": "parcoords"
           }
          ],
          "pie": [
           {
            "automargin": true,
            "type": "pie"
           }
          ],
          "scatter": [
           {
            "marker": {
             "colorbar": {
              "outlinewidth": 0,
              "ticks": ""
             }
            },
            "type": "scatter"
           }
          ],
          "scatter3d": [
           {
            "line": {
             "colorbar": {
              "outlinewidth": 0,
              "ticks": ""
             }
            },
            "marker": {
             "colorbar": {
              "outlinewidth": 0,
              "ticks": ""
             }
            },
            "type": "scatter3d"
           }
          ],
          "scattercarpet": [
           {
            "marker": {
             "colorbar": {
              "outlinewidth": 0,
              "ticks": ""
             }
            },
            "type": "scattercarpet"
           }
          ],
          "scattergeo": [
           {
            "marker": {
             "colorbar": {
              "outlinewidth": 0,
              "ticks": ""
             }
            },
            "type": "scattergeo"
           }
          ],
          "scattergl": [
           {
            "marker": {
             "colorbar": {
              "outlinewidth": 0,
              "ticks": ""
             }
            },
            "type": "scattergl"
           }
          ],
          "scattermapbox": [
           {
            "marker": {
             "colorbar": {
              "outlinewidth": 0,
              "ticks": ""
             }
            },
            "type": "scattermapbox"
           }
          ],
          "scatterpolar": [
           {
            "marker": {
             "colorbar": {
              "outlinewidth": 0,
              "ticks": ""
             }
            },
            "type": "scatterpolar"
           }
          ],
          "scatterpolargl": [
           {
            "marker": {
             "colorbar": {
              "outlinewidth": 0,
              "ticks": ""
             }
            },
            "type": "scatterpolargl"
           }
          ],
          "scatterternary": [
           {
            "marker": {
             "colorbar": {
              "outlinewidth": 0,
              "ticks": ""
             }
            },
            "type": "scatterternary"
           }
          ],
          "surface": [
           {
            "colorbar": {
             "outlinewidth": 0,
             "ticks": ""
            },
            "colorscale": [
             [
              0,
              "#0d0887"
             ],
             [
              0.1111111111111111,
              "#46039f"
             ],
             [
              0.2222222222222222,
              "#7201a8"
             ],
             [
              0.3333333333333333,
              "#9c179e"
             ],
             [
              0.4444444444444444,
              "#bd3786"
             ],
             [
              0.5555555555555556,
              "#d8576b"
             ],
             [
              0.6666666666666666,
              "#ed7953"
             ],
             [
              0.7777777777777778,
              "#fb9f3a"
             ],
             [
              0.8888888888888888,
              "#fdca26"
             ],
             [
              1,
              "#f0f921"
             ]
            ],
            "type": "surface"
           }
          ],
          "table": [
           {
            "cells": {
             "fill": {
              "color": "#EBF0F8"
             },
             "line": {
              "color": "white"
             }
            },
            "header": {
             "fill": {
              "color": "#C8D4E3"
             },
             "line": {
              "color": "white"
             }
            },
            "type": "table"
           }
          ]
         },
         "layout": {
          "annotationdefaults": {
           "arrowcolor": "#2a3f5f",
           "arrowhead": 0,
           "arrowwidth": 1
          },
          "autotypenumbers": "strict",
          "coloraxis": {
           "colorbar": {
            "outlinewidth": 0,
            "ticks": ""
           }
          },
          "colorscale": {
           "diverging": [
            [
             0,
             "#8e0152"
            ],
            [
             0.1,
             "#c51b7d"
            ],
            [
             0.2,
             "#de77ae"
            ],
            [
             0.3,
             "#f1b6da"
            ],
            [
             0.4,
             "#fde0ef"
            ],
            [
             0.5,
             "#f7f7f7"
            ],
            [
             0.6,
             "#e6f5d0"
            ],
            [
             0.7,
             "#b8e186"
            ],
            [
             0.8,
             "#7fbc41"
            ],
            [
             0.9,
             "#4d9221"
            ],
            [
             1,
             "#276419"
            ]
           ],
           "sequential": [
            [
             0,
             "#0d0887"
            ],
            [
             0.1111111111111111,
             "#46039f"
            ],
            [
             0.2222222222222222,
             "#7201a8"
            ],
            [
             0.3333333333333333,
             "#9c179e"
            ],
            [
             0.4444444444444444,
             "#bd3786"
            ],
            [
             0.5555555555555556,
             "#d8576b"
            ],
            [
             0.6666666666666666,
             "#ed7953"
            ],
            [
             0.7777777777777778,
             "#fb9f3a"
            ],
            [
             0.8888888888888888,
             "#fdca26"
            ],
            [
             1,
             "#f0f921"
            ]
           ],
           "sequentialminus": [
            [
             0,
             "#0d0887"
            ],
            [
             0.1111111111111111,
             "#46039f"
            ],
            [
             0.2222222222222222,
             "#7201a8"
            ],
            [
             0.3333333333333333,
             "#9c179e"
            ],
            [
             0.4444444444444444,
             "#bd3786"
            ],
            [
             0.5555555555555556,
             "#d8576b"
            ],
            [
             0.6666666666666666,
             "#ed7953"
            ],
            [
             0.7777777777777778,
             "#fb9f3a"
            ],
            [
             0.8888888888888888,
             "#fdca26"
            ],
            [
             1,
             "#f0f921"
            ]
           ]
          },
          "colorway": [
           "#636efa",
           "#EF553B",
           "#00cc96",
           "#ab63fa",
           "#FFA15A",
           "#19d3f3",
           "#FF6692",
           "#B6E880",
           "#FF97FF",
           "#FECB52"
          ],
          "font": {
           "color": "#2a3f5f"
          },
          "geo": {
           "bgcolor": "white",
           "lakecolor": "white",
           "landcolor": "#E5ECF6",
           "showlakes": true,
           "showland": true,
           "subunitcolor": "white"
          },
          "hoverlabel": {
           "align": "left"
          },
          "hovermode": "closest",
          "mapbox": {
           "style": "light"
          },
          "paper_bgcolor": "white",
          "plot_bgcolor": "#E5ECF6",
          "polar": {
           "angularaxis": {
            "gridcolor": "white",
            "linecolor": "white",
            "ticks": ""
           },
           "bgcolor": "#E5ECF6",
           "radialaxis": {
            "gridcolor": "white",
            "linecolor": "white",
            "ticks": ""
           }
          },
          "scene": {
           "xaxis": {
            "backgroundcolor": "#E5ECF6",
            "gridcolor": "white",
            "gridwidth": 2,
            "linecolor": "white",
            "showbackground": true,
            "ticks": "",
            "zerolinecolor": "white"
           },
           "yaxis": {
            "backgroundcolor": "#E5ECF6",
            "gridcolor": "white",
            "gridwidth": 2,
            "linecolor": "white",
            "showbackground": true,
            "ticks": "",
            "zerolinecolor": "white"
           },
           "zaxis": {
            "backgroundcolor": "#E5ECF6",
            "gridcolor": "white",
            "gridwidth": 2,
            "linecolor": "white",
            "showbackground": true,
            "ticks": "",
            "zerolinecolor": "white"
           }
          },
          "shapedefaults": {
           "line": {
            "color": "#2a3f5f"
           }
          },
          "ternary": {
           "aaxis": {
            "gridcolor": "white",
            "linecolor": "white",
            "ticks": ""
           },
           "baxis": {
            "gridcolor": "white",
            "linecolor": "white",
            "ticks": ""
           },
           "bgcolor": "#E5ECF6",
           "caxis": {
            "gridcolor": "white",
            "linecolor": "white",
            "ticks": ""
           }
          },
          "title": {
           "x": 0.05
          },
          "xaxis": {
           "automargin": true,
           "gridcolor": "white",
           "linecolor": "white",
           "ticks": "",
           "title": {
            "standoff": 15
           },
           "zerolinecolor": "white",
           "zerolinewidth": 2
          },
          "yaxis": {
           "automargin": true,
           "gridcolor": "white",
           "linecolor": "white",
           "ticks": "",
           "title": {
            "standoff": 15
           },
           "zerolinecolor": "white",
           "zerolinewidth": 2
          }
         }
        },
        "xaxis": {
         "anchor": "y",
         "domain": [
          0,
          1
         ],
         "title": {
          "text": "LastRentalStart"
         }
        },
        "yaxis": {
         "anchor": "x",
         "domain": [
          0,
          1
         ],
         "title": {
          "text": "total"
         }
        }
       }
      },
      "text/html": [
       "<div>                            <div id=\"2885ea11-789f-446e-af0c-0ec1ac3393ce\" class=\"plotly-graph-div\" style=\"height:525px; width:100%;\"></div>            <script type=\"text/javascript\">                require([\"plotly\"], function(Plotly) {                    window.PLOTLYENV=window.PLOTLYENV || {};                                    if (document.getElementById(\"2885ea11-789f-446e-af0c-0ec1ac3393ce\")) {                    Plotly.newPlot(                        \"2885ea11-789f-446e-af0c-0ec1ac3393ce\",                        [{\"hovertemplate\": \"LastRentalStart=%{x}<br>total=%{y}<extra></extra>\", \"legendgroup\": \"\", \"line\": {\"color\": \"#636efa\", \"dash\": \"solid\"}, \"mode\": \"lines\", \"name\": \"\", \"orientation\": \"v\", \"showlegend\": false, \"type\": \"scatter\", \"x\": [\"2021-01-01T00:00:00\", \"2021-01-01T01:00:00\", \"2021-01-01T02:00:00\", \"2021-01-01T03:00:00\", \"2021-01-01T04:00:00\", \"2021-01-01T05:00:00\", \"2021-01-01T06:00:00\", \"2021-01-01T07:00:00\", \"2021-01-01T08:00:00\", \"2021-01-01T09:00:00\", \"2021-01-01T10:00:00\", \"2021-01-01T11:00:00\", \"2021-01-01T12:00:00\", \"2021-01-01T13:00:00\", \"2021-01-01T14:00:00\", \"2021-01-01T15:00:00\", \"2021-01-01T16:00:00\", \"2021-01-01T17:00:00\", \"2021-01-01T18:00:00\", \"2021-01-01T19:00:00\", \"2021-01-01T20:00:00\", \"2021-01-01T21:00:00\", \"2021-01-01T22:00:00\", \"2021-01-01T23:00:00\", \"2021-01-02T00:00:00\", \"2021-01-02T01:00:00\", \"2021-01-02T02:00:00\", \"2021-01-02T03:00:00\", \"2021-01-02T04:00:00\", \"2021-01-02T05:00:00\", \"2021-01-02T06:00:00\", \"2021-01-02T07:00:00\", \"2021-01-02T08:00:00\", \"2021-01-02T09:00:00\", \"2021-01-02T10:00:00\", \"2021-01-02T11:00:00\", \"2021-01-02T12:00:00\", \"2021-01-02T13:00:00\", \"2021-01-02T14:00:00\", \"2021-01-02T15:00:00\", \"2021-01-02T16:00:00\", \"2021-01-02T17:00:00\", \"2021-01-02T18:00:00\", \"2021-01-02T19:00:00\", \"2021-01-02T20:00:00\", \"2021-01-02T21:00:00\", \"2021-01-02T22:00:00\", \"2021-01-02T23:00:00\", \"2021-01-03T00:00:00\", \"2021-01-03T01:00:00\", \"2021-01-03T02:00:00\", \"2021-01-03T03:00:00\", \"2021-01-03T04:00:00\", \"2021-01-03T05:00:00\", \"2021-01-03T06:00:00\", \"2021-01-03T07:00:00\", \"2021-01-03T08:00:00\", \"2021-01-03T09:00:00\", \"2021-01-03T10:00:00\", \"2021-01-03T11:00:00\", \"2021-01-03T12:00:00\", \"2021-01-03T13:00:00\", \"2021-01-03T14:00:00\", \"2021-01-03T15:00:00\", \"2021-01-03T16:00:00\", \"2021-01-03T17:00:00\", \"2021-01-03T18:00:00\", \"2021-01-03T19:00:00\", \"2021-01-03T20:00:00\", \"2021-01-03T21:00:00\", \"2021-01-03T22:00:00\", \"2021-01-03T23:00:00\", \"2021-01-04T00:00:00\", \"2021-01-04T01:00:00\", \"2021-01-04T02:00:00\", \"2021-01-04T03:00:00\", \"2021-01-04T04:00:00\", \"2021-01-04T05:00:00\", \"2021-01-04T06:00:00\", \"2021-01-04T07:00:00\", \"2021-01-04T08:00:00\", \"2021-01-04T09:00:00\", \"2021-01-04T10:00:00\", \"2021-01-04T11:00:00\", \"2021-01-04T12:00:00\", \"2021-01-04T13:00:00\", \"2021-01-04T14:00:00\", \"2021-01-04T15:00:00\", \"2021-01-04T16:00:00\", \"2021-01-04T17:00:00\", \"2021-01-04T18:00:00\", \"2021-01-04T19:00:00\", \"2021-01-04T20:00:00\", \"2021-01-04T21:00:00\", \"2021-01-04T22:00:00\", \"2021-01-04T23:00:00\", \"2021-01-05T00:00:00\", \"2021-01-05T01:00:00\", \"2021-01-05T02:00:00\", \"2021-01-05T03:00:00\", \"2021-01-05T04:00:00\", \"2021-01-05T05:00:00\", \"2021-01-05T06:00:00\", \"2021-01-05T07:00:00\", \"2021-01-05T08:00:00\", \"2021-01-05T09:00:00\", \"2021-01-05T10:00:00\", \"2021-01-05T11:00:00\", \"2021-01-05T12:00:00\", \"2021-01-05T13:00:00\", \"2021-01-05T14:00:00\", \"2021-01-05T15:00:00\", \"2021-01-05T16:00:00\", \"2021-01-05T17:00:00\", \"2021-01-05T18:00:00\", \"2021-01-05T19:00:00\", \"2021-01-05T20:00:00\", \"2021-01-05T21:00:00\", \"2021-01-05T22:00:00\", \"2021-01-05T23:00:00\", \"2021-01-06T00:00:00\", \"2021-01-06T01:00:00\", \"2021-01-06T02:00:00\", \"2021-01-06T03:00:00\", \"2021-01-06T04:00:00\", \"2021-01-06T05:00:00\", \"2021-01-06T06:00:00\", \"2021-01-06T07:00:00\", \"2021-01-06T08:00:00\", \"2021-01-06T09:00:00\", \"2021-01-06T10:00:00\", \"2021-01-06T11:00:00\", \"2021-01-06T12:00:00\", \"2021-01-06T13:00:00\", \"2021-01-06T14:00:00\", \"2021-01-06T15:00:00\", \"2021-01-06T16:00:00\", \"2021-01-06T17:00:00\", \"2021-01-06T18:00:00\", \"2021-01-06T19:00:00\", \"2021-01-06T20:00:00\", \"2021-01-06T21:00:00\", \"2021-01-06T22:00:00\", \"2021-01-06T23:00:00\", \"2021-01-07T00:00:00\", \"2021-01-07T01:00:00\", \"2021-01-07T02:00:00\", \"2021-01-07T03:00:00\", \"2021-01-07T04:00:00\", \"2021-01-07T05:00:00\", \"2021-01-07T06:00:00\", \"2021-01-07T07:00:00\", \"2021-01-07T08:00:00\", \"2021-01-07T09:00:00\", \"2021-01-07T10:00:00\", \"2021-01-07T11:00:00\", \"2021-01-07T12:00:00\", \"2021-01-07T13:00:00\", \"2021-01-07T14:00:00\", \"2021-01-07T15:00:00\", \"2021-01-07T16:00:00\", \"2021-01-07T17:00:00\", \"2021-01-07T18:00:00\", \"2021-01-07T19:00:00\", \"2021-01-07T20:00:00\", \"2021-01-07T21:00:00\", \"2021-01-07T22:00:00\", \"2021-01-07T23:00:00\"], \"xaxis\": \"x\", \"y\": [0, 0, 0, 1, 0, 0, 0, 0, 1, 2, 1, 5, 8, 2, 7, 9, 6, 5, 6, 2, 2, 2, 0, 0, 0, 0, 0, 0, 0, 1, 0, 0, 1, 2, 7, 9, 19, 13, 14, 7, 3, 1, 2, 1, 0, 1, 3, 0, 0, 0, 0, 0, 0, 1, 0, 1, 0, 2, 4, 4, 2, 4, 8, 2, 0, 0, 3, 0, 2, 1, 2, 0, 0, 0, 0, 0, 0, 0, 0, 1, 5, 3, 1, 0, 11, 14, 7, 4, 3, 1, 0, 0, 1, 0, 1, 0, 2, 0, 0, 0, 0, 0, 2, 1, 4, 3, 5, 6, 13, 8, 10, 6, 6, 4, 2, 3, 1, 1, 1, 0, 0, 1, 0, 1, 0, 0, 0, 1, 3, 4, 3, 6, 2, 3, 13, 5, 2, 4, 4, 2, 1, 4, 1, 0, 1, 0, 0, 0, 0, 1, 1, 1, 1, 5, 2, 4, 5, 12, 1, 0, 2, 6, 4, 2, 1, 3, 1, 1], \"yaxis\": \"y\"}],                        {\"legend\": {\"tracegroupgap\": 0}, \"margin\": {\"t\": 60}, \"template\": {\"data\": {\"bar\": [{\"error_x\": {\"color\": \"#2a3f5f\"}, \"error_y\": {\"color\": \"#2a3f5f\"}, \"marker\": {\"line\": {\"color\": \"#E5ECF6\", \"width\": 0.5}}, \"type\": \"bar\"}], \"barpolar\": [{\"marker\": {\"line\": {\"color\": \"#E5ECF6\", \"width\": 0.5}}, \"type\": \"barpolar\"}], \"carpet\": [{\"aaxis\": {\"endlinecolor\": \"#2a3f5f\", \"gridcolor\": \"white\", \"linecolor\": \"white\", \"minorgridcolor\": \"white\", \"startlinecolor\": \"#2a3f5f\"}, \"baxis\": {\"endlinecolor\": \"#2a3f5f\", \"gridcolor\": \"white\", \"linecolor\": \"white\", \"minorgridcolor\": \"white\", \"startlinecolor\": \"#2a3f5f\"}, \"type\": \"carpet\"}], \"choropleth\": [{\"colorbar\": {\"outlinewidth\": 0, \"ticks\": \"\"}, \"type\": \"choropleth\"}], \"contour\": [{\"colorbar\": {\"outlinewidth\": 0, \"ticks\": \"\"}, \"colorscale\": [[0.0, \"#0d0887\"], [0.1111111111111111, \"#46039f\"], [0.2222222222222222, \"#7201a8\"], [0.3333333333333333, \"#9c179e\"], [0.4444444444444444, \"#bd3786\"], [0.5555555555555556, \"#d8576b\"], [0.6666666666666666, \"#ed7953\"], [0.7777777777777778, \"#fb9f3a\"], [0.8888888888888888, \"#fdca26\"], [1.0, \"#f0f921\"]], \"type\": \"contour\"}], \"contourcarpet\": [{\"colorbar\": {\"outlinewidth\": 0, \"ticks\": \"\"}, \"type\": \"contourcarpet\"}], \"heatmap\": [{\"colorbar\": {\"outlinewidth\": 0, \"ticks\": \"\"}, \"colorscale\": [[0.0, \"#0d0887\"], [0.1111111111111111, \"#46039f\"], [0.2222222222222222, \"#7201a8\"], [0.3333333333333333, \"#9c179e\"], [0.4444444444444444, \"#bd3786\"], [0.5555555555555556, \"#d8576b\"], [0.6666666666666666, \"#ed7953\"], [0.7777777777777778, \"#fb9f3a\"], [0.8888888888888888, \"#fdca26\"], [1.0, \"#f0f921\"]], \"type\": \"heatmap\"}], \"heatmapgl\": [{\"colorbar\": {\"outlinewidth\": 0, \"ticks\": \"\"}, \"colorscale\": [[0.0, \"#0d0887\"], [0.1111111111111111, \"#46039f\"], [0.2222222222222222, \"#7201a8\"], [0.3333333333333333, \"#9c179e\"], [0.4444444444444444, \"#bd3786\"], [0.5555555555555556, \"#d8576b\"], [0.6666666666666666, \"#ed7953\"], [0.7777777777777778, \"#fb9f3a\"], [0.8888888888888888, \"#fdca26\"], [1.0, \"#f0f921\"]], \"type\": \"heatmapgl\"}], \"histogram\": [{\"marker\": {\"colorbar\": {\"outlinewidth\": 0, \"ticks\": \"\"}}, \"type\": \"histogram\"}], \"histogram2d\": [{\"colorbar\": {\"outlinewidth\": 0, \"ticks\": \"\"}, \"colorscale\": [[0.0, \"#0d0887\"], [0.1111111111111111, \"#46039f\"], [0.2222222222222222, \"#7201a8\"], [0.3333333333333333, \"#9c179e\"], [0.4444444444444444, \"#bd3786\"], [0.5555555555555556, \"#d8576b\"], [0.6666666666666666, \"#ed7953\"], [0.7777777777777778, \"#fb9f3a\"], [0.8888888888888888, \"#fdca26\"], [1.0, \"#f0f921\"]], \"type\": \"histogram2d\"}], \"histogram2dcontour\": [{\"colorbar\": {\"outlinewidth\": 0, \"ticks\": \"\"}, \"colorscale\": [[0.0, \"#0d0887\"], [0.1111111111111111, \"#46039f\"], [0.2222222222222222, \"#7201a8\"], [0.3333333333333333, \"#9c179e\"], [0.4444444444444444, \"#bd3786\"], [0.5555555555555556, \"#d8576b\"], [0.6666666666666666, \"#ed7953\"], [0.7777777777777778, \"#fb9f3a\"], [0.8888888888888888, \"#fdca26\"], [1.0, \"#f0f921\"]], \"type\": \"histogram2dcontour\"}], \"mesh3d\": [{\"colorbar\": {\"outlinewidth\": 0, \"ticks\": \"\"}, \"type\": \"mesh3d\"}], \"parcoords\": [{\"line\": {\"colorbar\": {\"outlinewidth\": 0, \"ticks\": \"\"}}, \"type\": \"parcoords\"}], \"pie\": [{\"automargin\": true, \"type\": \"pie\"}], \"scatter\": [{\"marker\": {\"colorbar\": {\"outlinewidth\": 0, \"ticks\": \"\"}}, \"type\": \"scatter\"}], \"scatter3d\": [{\"line\": {\"colorbar\": {\"outlinewidth\": 0, \"ticks\": \"\"}}, \"marker\": {\"colorbar\": {\"outlinewidth\": 0, \"ticks\": \"\"}}, \"type\": \"scatter3d\"}], \"scattercarpet\": [{\"marker\": {\"colorbar\": {\"outlinewidth\": 0, \"ticks\": \"\"}}, \"type\": \"scattercarpet\"}], \"scattergeo\": [{\"marker\": {\"colorbar\": {\"outlinewidth\": 0, \"ticks\": \"\"}}, \"type\": \"scattergeo\"}], \"scattergl\": [{\"marker\": {\"colorbar\": {\"outlinewidth\": 0, \"ticks\": \"\"}}, \"type\": \"scattergl\"}], \"scattermapbox\": [{\"marker\": {\"colorbar\": {\"outlinewidth\": 0, \"ticks\": \"\"}}, \"type\": \"scattermapbox\"}], \"scatterpolar\": [{\"marker\": {\"colorbar\": {\"outlinewidth\": 0, \"ticks\": \"\"}}, \"type\": \"scatterpolar\"}], \"scatterpolargl\": [{\"marker\": {\"colorbar\": {\"outlinewidth\": 0, \"ticks\": \"\"}}, \"type\": \"scatterpolargl\"}], \"scatterternary\": [{\"marker\": {\"colorbar\": {\"outlinewidth\": 0, \"ticks\": \"\"}}, \"type\": \"scatterternary\"}], \"surface\": [{\"colorbar\": {\"outlinewidth\": 0, \"ticks\": \"\"}, \"colorscale\": [[0.0, \"#0d0887\"], [0.1111111111111111, \"#46039f\"], [0.2222222222222222, \"#7201a8\"], [0.3333333333333333, \"#9c179e\"], [0.4444444444444444, \"#bd3786\"], [0.5555555555555556, \"#d8576b\"], [0.6666666666666666, \"#ed7953\"], [0.7777777777777778, \"#fb9f3a\"], [0.8888888888888888, \"#fdca26\"], [1.0, \"#f0f921\"]], \"type\": \"surface\"}], \"table\": [{\"cells\": {\"fill\": {\"color\": \"#EBF0F8\"}, \"line\": {\"color\": \"white\"}}, \"header\": {\"fill\": {\"color\": \"#C8D4E3\"}, \"line\": {\"color\": \"white\"}}, \"type\": \"table\"}]}, \"layout\": {\"annotationdefaults\": {\"arrowcolor\": \"#2a3f5f\", \"arrowhead\": 0, \"arrowwidth\": 1}, \"autotypenumbers\": \"strict\", \"coloraxis\": {\"colorbar\": {\"outlinewidth\": 0, \"ticks\": \"\"}}, \"colorscale\": {\"diverging\": [[0, \"#8e0152\"], [0.1, \"#c51b7d\"], [0.2, \"#de77ae\"], [0.3, \"#f1b6da\"], [0.4, \"#fde0ef\"], [0.5, \"#f7f7f7\"], [0.6, \"#e6f5d0\"], [0.7, \"#b8e186\"], [0.8, \"#7fbc41\"], [0.9, \"#4d9221\"], [1, \"#276419\"]], \"sequential\": [[0.0, \"#0d0887\"], [0.1111111111111111, \"#46039f\"], [0.2222222222222222, \"#7201a8\"], [0.3333333333333333, \"#9c179e\"], [0.4444444444444444, \"#bd3786\"], [0.5555555555555556, \"#d8576b\"], [0.6666666666666666, \"#ed7953\"], [0.7777777777777778, \"#fb9f3a\"], [0.8888888888888888, \"#fdca26\"], [1.0, \"#f0f921\"]], \"sequentialminus\": [[0.0, \"#0d0887\"], [0.1111111111111111, \"#46039f\"], [0.2222222222222222, \"#7201a8\"], [0.3333333333333333, \"#9c179e\"], [0.4444444444444444, \"#bd3786\"], [0.5555555555555556, \"#d8576b\"], [0.6666666666666666, \"#ed7953\"], [0.7777777777777778, \"#fb9f3a\"], [0.8888888888888888, \"#fdca26\"], [1.0, \"#f0f921\"]]}, \"colorway\": [\"#636efa\", \"#EF553B\", \"#00cc96\", \"#ab63fa\", \"#FFA15A\", \"#19d3f3\", \"#FF6692\", \"#B6E880\", \"#FF97FF\", \"#FECB52\"], \"font\": {\"color\": \"#2a3f5f\"}, \"geo\": {\"bgcolor\": \"white\", \"lakecolor\": \"white\", \"landcolor\": \"#E5ECF6\", \"showlakes\": true, \"showland\": true, \"subunitcolor\": \"white\"}, \"hoverlabel\": {\"align\": \"left\"}, \"hovermode\": \"closest\", \"mapbox\": {\"style\": \"light\"}, \"paper_bgcolor\": \"white\", \"plot_bgcolor\": \"#E5ECF6\", \"polar\": {\"angularaxis\": {\"gridcolor\": \"white\", \"linecolor\": \"white\", \"ticks\": \"\"}, \"bgcolor\": \"#E5ECF6\", \"radialaxis\": {\"gridcolor\": \"white\", \"linecolor\": \"white\", \"ticks\": \"\"}}, \"scene\": {\"xaxis\": {\"backgroundcolor\": \"#E5ECF6\", \"gridcolor\": \"white\", \"gridwidth\": 2, \"linecolor\": \"white\", \"showbackground\": true, \"ticks\": \"\", \"zerolinecolor\": \"white\"}, \"yaxis\": {\"backgroundcolor\": \"#E5ECF6\", \"gridcolor\": \"white\", \"gridwidth\": 2, \"linecolor\": \"white\", \"showbackground\": true, \"ticks\": \"\", \"zerolinecolor\": \"white\"}, \"zaxis\": {\"backgroundcolor\": \"#E5ECF6\", \"gridcolor\": \"white\", \"gridwidth\": 2, \"linecolor\": \"white\", \"showbackground\": true, \"ticks\": \"\", \"zerolinecolor\": \"white\"}}, \"shapedefaults\": {\"line\": {\"color\": \"#2a3f5f\"}}, \"ternary\": {\"aaxis\": {\"gridcolor\": \"white\", \"linecolor\": \"white\", \"ticks\": \"\"}, \"baxis\": {\"gridcolor\": \"white\", \"linecolor\": \"white\", \"ticks\": \"\"}, \"bgcolor\": \"#E5ECF6\", \"caxis\": {\"gridcolor\": \"white\", \"linecolor\": \"white\", \"ticks\": \"\"}}, \"title\": {\"x\": 0.05}, \"xaxis\": {\"automargin\": true, \"gridcolor\": \"white\", \"linecolor\": \"white\", \"ticks\": \"\", \"title\": {\"standoff\": 15}, \"zerolinecolor\": \"white\", \"zerolinewidth\": 2}, \"yaxis\": {\"automargin\": true, \"gridcolor\": \"white\", \"linecolor\": \"white\", \"ticks\": \"\", \"title\": {\"standoff\": 15}, \"zerolinecolor\": \"white\", \"zerolinewidth\": 2}}}, \"xaxis\": {\"anchor\": \"y\", \"domain\": [0.0, 1.0], \"title\": {\"text\": \"LastRentalStart\"}}, \"yaxis\": {\"anchor\": \"x\", \"domain\": [0.0, 1.0], \"title\": {\"text\": \"total\"}}},                        {\"responsive\": true}                    ).then(function(){\n",
       "                            \n",
       "var gd = document.getElementById('2885ea11-789f-446e-af0c-0ec1ac3393ce');\n",
       "var x = new MutationObserver(function (mutations, observer) {{\n",
       "        var display = window.getComputedStyle(gd).display;\n",
       "        if (!display || display === 'none') {{\n",
       "            console.log([gd, 'removed!']);\n",
       "            Plotly.purge(gd);\n",
       "            observer.disconnect();\n",
       "        }}\n",
       "}});\n",
       "\n",
       "// Listen for the removal of the full notebook cells\n",
       "var notebookContainer = gd.closest('#notebook-container');\n",
       "if (notebookContainer) {{\n",
       "    x.observe(notebookContainer, {childList: true});\n",
       "}}\n",
       "\n",
       "// Listen for the clearing of the current output cell\n",
       "var outputEl = gd.closest('.output');\n",
       "if (outputEl) {{\n",
       "    x.observe(outputEl, {childList: true});\n",
       "}}\n",
       "\n",
       "                        })                };                });            </script>        </div>"
      ]
     },
     "metadata": {},
     "output_type": "display_data"
    }
   ],
   "source": [
    "fig = px.line(rentalstotal.set_index('LastRentalStart')['2021-01-01':'2021-01-07'].reset_index(), x='LastRentalStart', y='total')\n",
    "fig.show()"
   ]
  }
 ],
 "metadata": {
  "kernelspec": {
   "display_name": "Python 3",
   "language": "python",
   "name": "python3"
  },
  "language_info": {
   "codemirror_mode": {
    "name": "ipython",
    "version": 3
   },
   "file_extension": ".py",
   "mimetype": "text/x-python",
   "name": "python",
   "nbconvert_exporter": "python",
   "pygments_lexer": "ipython3",
   "version": "3.8.3"
  }
 },
 "nbformat": 4,
 "nbformat_minor": 4
}
