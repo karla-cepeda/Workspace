{
 "cells": [
  {
   "cell_type": "markdown",
   "metadata": {},
   "source": [
    "# Assignment 1: Principal Component Analysis\n",
    "Karla Aniela Cepeda Zapata<br/>\n",
    "Time Series Analysis<br/>\n",
    "D00242569"
   ]
  },
  {
   "cell_type": "markdown",
   "metadata": {},
   "source": [
    "### Q4\n",
    "Load the “BodyFat” csv file from Moodle in to Python. The body fat data of consists of observations taken on a sample of 252 males. The following variables were measured:\n",
    "* Percent body fat\n",
    "* Age (years)\n",
    "* Weight (pounds)\n",
    "* Height (inches) \n",
    "* Neck circumference (cm) \n",
    "* Abdomen circumference (cm) \n",
    "* Knee circumference (cm) \n",
    "* Ankle circumference (cm)"
   ]
  },
  {
   "cell_type": "markdown",
   "metadata": {},
   "source": [
    "#### Section A\n",
    "1. Carry out a principal component analysis of the variables neck, abdomen, knee and ankle. Interpret the first component. What percentage of the variability in the dataset is accounted for by the first component?\n",
    "2. Interpret the second component. What percentage of the variability in the dataset is accounted for by the second component? \n",
    "3. Examine the scree diagram and comment.\n",
    "4. Plot the first two components. Identify any outliers."
   ]
  },
  {
   "cell_type": "code",
   "execution_count": 151,
   "metadata": {},
   "outputs": [],
   "source": [
    "# SETUP ENVIRONMENT\n",
    "import pandas as pd\n",
    "import numpy as np\n",
    "import os\n",
    "\n",
    "from sklearn.preprocessing import StandardScaler\n",
    "from sklearn.decomposition import PCA\n",
    "\n",
    "import seaborn as sns\n",
    "import matplotlib.pyplot as plt\n",
    "from matplotlib.cbook import boxplot_stats \n",
    "import math\n",
    "from scipy.stats import pearsonr\n",
    "from scipy.stats import spearmanr\n",
    "\n",
    "os.chdir(r'E:\\Karla\\IRELAND v2\\DKIT\\2nd Semester\\Time Series Analysis\\CA\\CA1')\n",
    "\n",
    "pd.set_option('display.max_columns', None)"
   ]
  },
  {
   "cell_type": "code",
   "execution_count": 207,
   "metadata": {},
   "outputs": [],
   "source": [
    "data = pd.read_csv('datasets/Bodyfat.csv')"
   ]
  },
  {
   "cell_type": "code",
   "execution_count": 208,
   "metadata": {},
   "outputs": [],
   "source": [
    "# Change name of columns\n",
    "data.columns = list(map(lambda s: s.lower().strip(), data.columns))"
   ]
  },
  {
   "cell_type": "code",
   "execution_count": 43,
   "metadata": {},
   "outputs": [
    {
     "name": "stdout",
     "output_type": "stream",
     "text": [
      "<class 'pandas.core.frame.DataFrame'>\n",
      "RangeIndex: 252 entries, 0 to 251\n",
      "Data columns (total 9 columns):\n",
      " #   Column   Non-Null Count  Dtype  \n",
      "---  ------   --------------  -----  \n",
      " 0   density  252 non-null    float64\n",
      " 1   bodyfat  252 non-null    float64\n",
      " 2   age      252 non-null    int64  \n",
      " 3   weight   252 non-null    float64\n",
      " 4   height   252 non-null    float64\n",
      " 5   neck     252 non-null    float64\n",
      " 6   abdomen  252 non-null    float64\n",
      " 7   knee     252 non-null    float64\n",
      " 8   ankle    252 non-null    float64\n",
      "dtypes: float64(8), int64(1)\n",
      "memory usage: 17.8 KB\n"
     ]
    }
   ],
   "source": [
    "data.info()"
   ]
  },
  {
   "cell_type": "markdown",
   "metadata": {},
   "source": [
    "There are no misssing values. Let's explore the data."
   ]
  },
  {
   "cell_type": "code",
   "execution_count": 44,
   "metadata": {},
   "outputs": [
    {
     "data": {
      "text/html": [
       "<div>\n",
       "<style scoped>\n",
       "    .dataframe tbody tr th:only-of-type {\n",
       "        vertical-align: middle;\n",
       "    }\n",
       "\n",
       "    .dataframe tbody tr th {\n",
       "        vertical-align: top;\n",
       "    }\n",
       "\n",
       "    .dataframe thead th {\n",
       "        text-align: right;\n",
       "    }\n",
       "</style>\n",
       "<table border=\"1\" class=\"dataframe\">\n",
       "  <thead>\n",
       "    <tr style=\"text-align: right;\">\n",
       "      <th></th>\n",
       "      <th>density</th>\n",
       "      <th>bodyfat</th>\n",
       "      <th>age</th>\n",
       "      <th>weight</th>\n",
       "      <th>height</th>\n",
       "      <th>neck</th>\n",
       "      <th>abdomen</th>\n",
       "      <th>knee</th>\n",
       "      <th>ankle</th>\n",
       "    </tr>\n",
       "  </thead>\n",
       "  <tbody>\n",
       "    <tr>\n",
       "      <th>count</th>\n",
       "      <td>252.000000</td>\n",
       "      <td>252.000000</td>\n",
       "      <td>252.000000</td>\n",
       "      <td>252.000000</td>\n",
       "      <td>252.000000</td>\n",
       "      <td>252.000000</td>\n",
       "      <td>252.000000</td>\n",
       "      <td>252.000000</td>\n",
       "      <td>252.000000</td>\n",
       "    </tr>\n",
       "    <tr>\n",
       "      <th>mean</th>\n",
       "      <td>1.055574</td>\n",
       "      <td>19.150794</td>\n",
       "      <td>44.884921</td>\n",
       "      <td>178.924405</td>\n",
       "      <td>70.148810</td>\n",
       "      <td>37.992063</td>\n",
       "      <td>92.555952</td>\n",
       "      <td>38.590476</td>\n",
       "      <td>23.102381</td>\n",
       "    </tr>\n",
       "    <tr>\n",
       "      <th>std</th>\n",
       "      <td>0.019031</td>\n",
       "      <td>8.368740</td>\n",
       "      <td>12.602040</td>\n",
       "      <td>29.389160</td>\n",
       "      <td>3.662856</td>\n",
       "      <td>2.430913</td>\n",
       "      <td>10.783077</td>\n",
       "      <td>2.411805</td>\n",
       "      <td>1.694893</td>\n",
       "    </tr>\n",
       "    <tr>\n",
       "      <th>min</th>\n",
       "      <td>0.995000</td>\n",
       "      <td>0.000000</td>\n",
       "      <td>22.000000</td>\n",
       "      <td>118.500000</td>\n",
       "      <td>29.500000</td>\n",
       "      <td>31.100000</td>\n",
       "      <td>69.400000</td>\n",
       "      <td>33.000000</td>\n",
       "      <td>19.100000</td>\n",
       "    </tr>\n",
       "    <tr>\n",
       "      <th>25%</th>\n",
       "      <td>1.041400</td>\n",
       "      <td>12.475000</td>\n",
       "      <td>35.750000</td>\n",
       "      <td>159.000000</td>\n",
       "      <td>68.250000</td>\n",
       "      <td>36.400000</td>\n",
       "      <td>84.575000</td>\n",
       "      <td>36.975000</td>\n",
       "      <td>22.000000</td>\n",
       "    </tr>\n",
       "    <tr>\n",
       "      <th>50%</th>\n",
       "      <td>1.054900</td>\n",
       "      <td>19.200000</td>\n",
       "      <td>43.000000</td>\n",
       "      <td>176.500000</td>\n",
       "      <td>70.000000</td>\n",
       "      <td>38.000000</td>\n",
       "      <td>90.950000</td>\n",
       "      <td>38.500000</td>\n",
       "      <td>22.800000</td>\n",
       "    </tr>\n",
       "    <tr>\n",
       "      <th>75%</th>\n",
       "      <td>1.070400</td>\n",
       "      <td>25.300000</td>\n",
       "      <td>54.000000</td>\n",
       "      <td>197.000000</td>\n",
       "      <td>72.250000</td>\n",
       "      <td>39.425000</td>\n",
       "      <td>99.325000</td>\n",
       "      <td>39.925000</td>\n",
       "      <td>24.000000</td>\n",
       "    </tr>\n",
       "    <tr>\n",
       "      <th>max</th>\n",
       "      <td>1.108900</td>\n",
       "      <td>47.500000</td>\n",
       "      <td>81.000000</td>\n",
       "      <td>363.150000</td>\n",
       "      <td>77.750000</td>\n",
       "      <td>51.200000</td>\n",
       "      <td>148.100000</td>\n",
       "      <td>49.100000</td>\n",
       "      <td>33.900000</td>\n",
       "    </tr>\n",
       "  </tbody>\n",
       "</table>\n",
       "</div>"
      ],
      "text/plain": [
       "          density     bodyfat         age      weight      height        neck  \\\n",
       "count  252.000000  252.000000  252.000000  252.000000  252.000000  252.000000   \n",
       "mean     1.055574   19.150794   44.884921  178.924405   70.148810   37.992063   \n",
       "std      0.019031    8.368740   12.602040   29.389160    3.662856    2.430913   \n",
       "min      0.995000    0.000000   22.000000  118.500000   29.500000   31.100000   \n",
       "25%      1.041400   12.475000   35.750000  159.000000   68.250000   36.400000   \n",
       "50%      1.054900   19.200000   43.000000  176.500000   70.000000   38.000000   \n",
       "75%      1.070400   25.300000   54.000000  197.000000   72.250000   39.425000   \n",
       "max      1.108900   47.500000   81.000000  363.150000   77.750000   51.200000   \n",
       "\n",
       "          abdomen        knee       ankle  \n",
       "count  252.000000  252.000000  252.000000  \n",
       "mean    92.555952   38.590476   23.102381  \n",
       "std     10.783077    2.411805    1.694893  \n",
       "min     69.400000   33.000000   19.100000  \n",
       "25%     84.575000   36.975000   22.000000  \n",
       "50%     90.950000   38.500000   22.800000  \n",
       "75%     99.325000   39.925000   24.000000  \n",
       "max    148.100000   49.100000   33.900000  "
      ]
     },
     "execution_count": 44,
     "metadata": {},
     "output_type": "execute_result"
    }
   ],
   "source": [
    "data.describe()"
   ]
  },
  {
   "cell_type": "markdown",
   "metadata": {},
   "source": [
    "It is interesting that there are observations with bodyfat=0, which is impossible. Let's explore this."
   ]
  },
  {
   "cell_type": "code",
   "execution_count": 209,
   "metadata": {},
   "outputs": [
    {
     "data": {
      "text/html": [
       "<div>\n",
       "<style scoped>\n",
       "    .dataframe tbody tr th:only-of-type {\n",
       "        vertical-align: middle;\n",
       "    }\n",
       "\n",
       "    .dataframe tbody tr th {\n",
       "        vertical-align: top;\n",
       "    }\n",
       "\n",
       "    .dataframe thead th {\n",
       "        text-align: right;\n",
       "    }\n",
       "</style>\n",
       "<table border=\"1\" class=\"dataframe\">\n",
       "  <thead>\n",
       "    <tr style=\"text-align: right;\">\n",
       "      <th></th>\n",
       "      <th>density</th>\n",
       "      <th>bodyfat</th>\n",
       "      <th>age</th>\n",
       "      <th>weight</th>\n",
       "      <th>height</th>\n",
       "      <th>neck</th>\n",
       "      <th>abdomen</th>\n",
       "      <th>knee</th>\n",
       "      <th>ankle</th>\n",
       "    </tr>\n",
       "  </thead>\n",
       "  <tbody>\n",
       "    <tr>\n",
       "      <th>181</th>\n",
       "      <td>1.1089</td>\n",
       "      <td>0.0</td>\n",
       "      <td>40</td>\n",
       "      <td>118.5</td>\n",
       "      <td>68.0</td>\n",
       "      <td>33.8</td>\n",
       "      <td>69.4</td>\n",
       "      <td>33.5</td>\n",
       "      <td>20.2</td>\n",
       "    </tr>\n",
       "  </tbody>\n",
       "</table>\n",
       "</div>"
      ],
      "text/plain": [
       "     density  bodyfat  age  weight  height  neck  abdomen  knee  ankle\n",
       "181   1.1089      0.0   40   118.5    68.0  33.8     69.4  33.5   20.2"
      ]
     },
     "execution_count": 209,
     "metadata": {},
     "output_type": "execute_result"
    }
   ],
   "source": [
    "data[data['bodyfat']==0]"
   ]
  },
  {
   "cell_type": "markdown",
   "metadata": {},
   "source": [
    "It seems that there is just one observation with this value. I computed the body fat for this observation on https://www.calculator.net/body-fat-calculator.html and got the value 7.4%."
   ]
  },
  {
   "cell_type": "code",
   "execution_count": 210,
   "metadata": {},
   "outputs": [],
   "source": [
    "data.loc[181, 'bodyfat'] = 7.4"
   ]
  },
  {
   "cell_type": "code",
   "execution_count": 211,
   "metadata": {},
   "outputs": [
    {
     "data": {
      "text/plain": [
       "density      1.1089\n",
       "bodyfat      7.4000\n",
       "age         40.0000\n",
       "weight     118.5000\n",
       "height      68.0000\n",
       "neck        33.8000\n",
       "abdomen     69.4000\n",
       "knee        33.5000\n",
       "ankle       20.2000\n",
       "Name: 181, dtype: float64"
      ]
     },
     "execution_count": 211,
     "metadata": {},
     "output_type": "execute_result"
    }
   ],
   "source": [
    "data.iloc[181]"
   ]
  },
  {
   "cell_type": "code",
   "execution_count": 52,
   "metadata": {},
   "outputs": [
    {
     "data": {
      "text/html": [
       "<div>\n",
       "<style scoped>\n",
       "    .dataframe tbody tr th:only-of-type {\n",
       "        vertical-align: middle;\n",
       "    }\n",
       "\n",
       "    .dataframe tbody tr th {\n",
       "        vertical-align: top;\n",
       "    }\n",
       "\n",
       "    .dataframe thead th {\n",
       "        text-align: right;\n",
       "    }\n",
       "</style>\n",
       "<table border=\"1\" class=\"dataframe\">\n",
       "  <thead>\n",
       "    <tr style=\"text-align: right;\">\n",
       "      <th></th>\n",
       "      <th>density</th>\n",
       "      <th>bodyfat</th>\n",
       "      <th>age</th>\n",
       "      <th>weight</th>\n",
       "      <th>height</th>\n",
       "      <th>neck</th>\n",
       "      <th>abdomen</th>\n",
       "      <th>knee</th>\n",
       "      <th>ankle</th>\n",
       "    </tr>\n",
       "  </thead>\n",
       "  <tbody>\n",
       "    <tr>\n",
       "      <th>count</th>\n",
       "      <td>252.000000</td>\n",
       "      <td>252.000000</td>\n",
       "      <td>252.000000</td>\n",
       "      <td>252.000000</td>\n",
       "      <td>252.000000</td>\n",
       "      <td>252.000000</td>\n",
       "      <td>252.000000</td>\n",
       "      <td>252.000000</td>\n",
       "      <td>252.000000</td>\n",
       "    </tr>\n",
       "    <tr>\n",
       "      <th>mean</th>\n",
       "      <td>1.055574</td>\n",
       "      <td>19.180159</td>\n",
       "      <td>44.884921</td>\n",
       "      <td>178.924405</td>\n",
       "      <td>70.148810</td>\n",
       "      <td>37.992063</td>\n",
       "      <td>92.555952</td>\n",
       "      <td>38.590476</td>\n",
       "      <td>23.102381</td>\n",
       "    </tr>\n",
       "    <tr>\n",
       "      <th>std</th>\n",
       "      <td>0.019031</td>\n",
       "      <td>8.314079</td>\n",
       "      <td>12.602040</td>\n",
       "      <td>29.389160</td>\n",
       "      <td>3.662856</td>\n",
       "      <td>2.430913</td>\n",
       "      <td>10.783077</td>\n",
       "      <td>2.411805</td>\n",
       "      <td>1.694893</td>\n",
       "    </tr>\n",
       "    <tr>\n",
       "      <th>min</th>\n",
       "      <td>0.995000</td>\n",
       "      <td>0.700000</td>\n",
       "      <td>22.000000</td>\n",
       "      <td>118.500000</td>\n",
       "      <td>29.500000</td>\n",
       "      <td>31.100000</td>\n",
       "      <td>69.400000</td>\n",
       "      <td>33.000000</td>\n",
       "      <td>19.100000</td>\n",
       "    </tr>\n",
       "    <tr>\n",
       "      <th>25%</th>\n",
       "      <td>1.041400</td>\n",
       "      <td>12.475000</td>\n",
       "      <td>35.750000</td>\n",
       "      <td>159.000000</td>\n",
       "      <td>68.250000</td>\n",
       "      <td>36.400000</td>\n",
       "      <td>84.575000</td>\n",
       "      <td>36.975000</td>\n",
       "      <td>22.000000</td>\n",
       "    </tr>\n",
       "    <tr>\n",
       "      <th>50%</th>\n",
       "      <td>1.054900</td>\n",
       "      <td>19.200000</td>\n",
       "      <td>43.000000</td>\n",
       "      <td>176.500000</td>\n",
       "      <td>70.000000</td>\n",
       "      <td>38.000000</td>\n",
       "      <td>90.950000</td>\n",
       "      <td>38.500000</td>\n",
       "      <td>22.800000</td>\n",
       "    </tr>\n",
       "    <tr>\n",
       "      <th>75%</th>\n",
       "      <td>1.070400</td>\n",
       "      <td>25.300000</td>\n",
       "      <td>54.000000</td>\n",
       "      <td>197.000000</td>\n",
       "      <td>72.250000</td>\n",
       "      <td>39.425000</td>\n",
       "      <td>99.325000</td>\n",
       "      <td>39.925000</td>\n",
       "      <td>24.000000</td>\n",
       "    </tr>\n",
       "    <tr>\n",
       "      <th>max</th>\n",
       "      <td>1.108900</td>\n",
       "      <td>47.500000</td>\n",
       "      <td>81.000000</td>\n",
       "      <td>363.150000</td>\n",
       "      <td>77.750000</td>\n",
       "      <td>51.200000</td>\n",
       "      <td>148.100000</td>\n",
       "      <td>49.100000</td>\n",
       "      <td>33.900000</td>\n",
       "    </tr>\n",
       "  </tbody>\n",
       "</table>\n",
       "</div>"
      ],
      "text/plain": [
       "          density     bodyfat         age      weight      height        neck  \\\n",
       "count  252.000000  252.000000  252.000000  252.000000  252.000000  252.000000   \n",
       "mean     1.055574   19.180159   44.884921  178.924405   70.148810   37.992063   \n",
       "std      0.019031    8.314079   12.602040   29.389160    3.662856    2.430913   \n",
       "min      0.995000    0.700000   22.000000  118.500000   29.500000   31.100000   \n",
       "25%      1.041400   12.475000   35.750000  159.000000   68.250000   36.400000   \n",
       "50%      1.054900   19.200000   43.000000  176.500000   70.000000   38.000000   \n",
       "75%      1.070400   25.300000   54.000000  197.000000   72.250000   39.425000   \n",
       "max      1.108900   47.500000   81.000000  363.150000   77.750000   51.200000   \n",
       "\n",
       "          abdomen        knee       ankle  \n",
       "count  252.000000  252.000000  252.000000  \n",
       "mean    92.555952   38.590476   23.102381  \n",
       "std     10.783077    2.411805    1.694893  \n",
       "min     69.400000   33.000000   19.100000  \n",
       "25%     84.575000   36.975000   22.000000  \n",
       "50%     90.950000   38.500000   22.800000  \n",
       "75%     99.325000   39.925000   24.000000  \n",
       "max    148.100000   49.100000   33.900000  "
      ]
     },
     "execution_count": 52,
     "metadata": {},
     "output_type": "execute_result"
    }
   ],
   "source": [
    "data.describe()"
   ]
  },
  {
   "cell_type": "markdown",
   "metadata": {},
   "source": [
    "After checking out again the statistic summary, nos the min value of bodyfat is 0.7%. It is a very low value, so I am going to calculate this value in the same source as previously and update the value."
   ]
  },
  {
   "cell_type": "code",
   "execution_count": 212,
   "metadata": {},
   "outputs": [
    {
     "data": {
      "text/html": [
       "<div>\n",
       "<style scoped>\n",
       "    .dataframe tbody tr th:only-of-type {\n",
       "        vertical-align: middle;\n",
       "    }\n",
       "\n",
       "    .dataframe tbody tr th {\n",
       "        vertical-align: top;\n",
       "    }\n",
       "\n",
       "    .dataframe thead th {\n",
       "        text-align: right;\n",
       "    }\n",
       "</style>\n",
       "<table border=\"1\" class=\"dataframe\">\n",
       "  <thead>\n",
       "    <tr style=\"text-align: right;\">\n",
       "      <th></th>\n",
       "      <th>density</th>\n",
       "      <th>bodyfat</th>\n",
       "      <th>age</th>\n",
       "      <th>weight</th>\n",
       "      <th>height</th>\n",
       "      <th>neck</th>\n",
       "      <th>abdomen</th>\n",
       "      <th>knee</th>\n",
       "      <th>ankle</th>\n",
       "    </tr>\n",
       "  </thead>\n",
       "  <tbody>\n",
       "    <tr>\n",
       "      <th>171</th>\n",
       "      <td>1.0983</td>\n",
       "      <td>0.7</td>\n",
       "      <td>35</td>\n",
       "      <td>125.75</td>\n",
       "      <td>65.5</td>\n",
       "      <td>34.0</td>\n",
       "      <td>75.0</td>\n",
       "      <td>34.8</td>\n",
       "      <td>22.0</td>\n",
       "    </tr>\n",
       "  </tbody>\n",
       "</table>\n",
       "</div>"
      ],
      "text/plain": [
       "     density  bodyfat  age  weight  height  neck  abdomen  knee  ankle\n",
       "171   1.0983      0.7   35  125.75    65.5  34.0     75.0  34.8   22.0"
      ]
     },
     "execution_count": 212,
     "metadata": {},
     "output_type": "execute_result"
    }
   ],
   "source": [
    "data[data['bodyfat'] == 0.7]"
   ]
  },
  {
   "cell_type": "code",
   "execution_count": 213,
   "metadata": {},
   "outputs": [],
   "source": [
    "data.loc[171,'bodyfat'] = 13.5"
   ]
  },
  {
   "cell_type": "code",
   "execution_count": 214,
   "metadata": {},
   "outputs": [
    {
     "data": {
      "text/plain": [
       "density      1.0983\n",
       "bodyfat     13.5000\n",
       "age         35.0000\n",
       "weight     125.7500\n",
       "height      65.5000\n",
       "neck        34.0000\n",
       "abdomen     75.0000\n",
       "knee        34.8000\n",
       "ankle       22.0000\n",
       "Name: 171, dtype: float64"
      ]
     },
     "execution_count": 214,
     "metadata": {},
     "output_type": "execute_result"
    }
   ],
   "source": [
    "data.iloc[171]"
   ]
  },
  {
   "cell_type": "code",
   "execution_count": null,
   "metadata": {},
   "outputs": [],
   "source": [
    "data.describe()"
   ]
  },
  {
   "cell_type": "code",
   "execution_count": 215,
   "metadata": {},
   "outputs": [
    {
     "data": {
      "text/html": [
       "<div>\n",
       "<style scoped>\n",
       "    .dataframe tbody tr th:only-of-type {\n",
       "        vertical-align: middle;\n",
       "    }\n",
       "\n",
       "    .dataframe tbody tr th {\n",
       "        vertical-align: top;\n",
       "    }\n",
       "\n",
       "    .dataframe thead th {\n",
       "        text-align: right;\n",
       "    }\n",
       "</style>\n",
       "<table border=\"1\" class=\"dataframe\">\n",
       "  <thead>\n",
       "    <tr style=\"text-align: right;\">\n",
       "      <th></th>\n",
       "      <th>density</th>\n",
       "      <th>bodyfat</th>\n",
       "      <th>age</th>\n",
       "      <th>weight</th>\n",
       "      <th>height</th>\n",
       "      <th>neck</th>\n",
       "      <th>abdomen</th>\n",
       "      <th>knee</th>\n",
       "      <th>ankle</th>\n",
       "    </tr>\n",
       "  </thead>\n",
       "  <tbody>\n",
       "    <tr>\n",
       "      <th>41</th>\n",
       "      <td>1.025</td>\n",
       "      <td>32.9</td>\n",
       "      <td>44</td>\n",
       "      <td>205.0</td>\n",
       "      <td>29.5</td>\n",
       "      <td>36.6</td>\n",
       "      <td>104.3</td>\n",
       "      <td>42.5</td>\n",
       "      <td>23.7</td>\n",
       "    </tr>\n",
       "  </tbody>\n",
       "</table>\n",
       "</div>"
      ],
      "text/plain": [
       "    density  bodyfat  age  weight  height  neck  abdomen  knee  ankle\n",
       "41    1.025     32.9   44   205.0    29.5  36.6    104.3  42.5   23.7"
      ]
     },
     "execution_count": 215,
     "metadata": {},
     "output_type": "execute_result"
    }
   ],
   "source": [
    "data[data.height == 29.50]"
   ]
  },
  {
   "cell_type": "markdown",
   "metadata": {},
   "source": [
    "I can see in height section that the min value is 29.5 in (roughly 70 cm). This measuere could be from dwarfism. I am going to keep this observation. Other variables look fine."
   ]
  },
  {
   "cell_type": "markdown",
   "metadata": {},
   "source": [
    "Now, I am going to start the Principal Component Analysis."
   ]
  },
  {
   "cell_type": "code",
   "execution_count": 258,
   "metadata": {},
   "outputs": [],
   "source": [
    "# Select columns that I am interested in and create new variable.\n",
    "cols = ['neck', 'abdomen', 'knee', 'ankle']\n",
    "bfat = data[cols].copy()"
   ]
  },
  {
   "cell_type": "code",
   "execution_count": 259,
   "metadata": {},
   "outputs": [
    {
     "data": {
      "image/png": "[encoded data removed]",
      "text/plain": [
       "<Figure size 432x288 with 1 Axes>"
      ]
     },
     "metadata": {
      "needs_background": "light"
     },
     "output_type": "display_data"
    }
   ],
   "source": [
    "# I am going to center and scale the data. \n",
    "# The box plot below shows how the raw data is located.\n",
    "sns.boxplot(data=bfat)\n",
    "plt.title(\"Raw data\")\n",
    "plt.show()"
   ]
  },
  {
   "cell_type": "code",
   "execution_count": 260,
   "metadata": {},
   "outputs": [],
   "source": [
    "# Now, I am going to scale the values. \n",
    "scaler = StandardScaler()\n",
    "std_bfat = scaler.fit_transform(bfat)"
   ]
  },
  {
   "cell_type": "code",
   "execution_count": 261,
   "metadata": {},
   "outputs": [
    {
     "data": {
      "image/png": "[encoded data removed]",
      "text/plain": [
       "<Figure size 432x288 with 1 Axes>"
      ]
     },
     "metadata": {
      "needs_background": "light"
     },
     "output_type": "display_data"
    }
   ],
   "source": [
    "# The box plot shows how the scaled data is lovated.\n",
    "sns.boxplot(data=pd.DataFrame(std_bfat, columns=bfat.columns, index=bfat.index), palette=\"Set3\")\n",
    "plt.title(\"Centered and scaled to unit variance\")\n",
    "plt.show()"
   ]
  },
  {
   "cell_type": "code",
   "execution_count": 262,
   "metadata": {},
   "outputs": [
    {
     "data": {
      "text/plain": [
       "PCA(n_components=4)"
      ]
     },
     "execution_count": 262,
     "metadata": {},
     "output_type": "execute_result"
    }
   ],
   "source": [
    "# Since the question is just asking for the first two principal components, I am going to create this two.\n",
    "num_comp = bfat.shape[1]\n",
    "pca = PCA(n_components=num_comp)\n",
    "pca.fit(std_bfat)"
   ]
  },
  {
   "cell_type": "code",
   "execution_count": 263,
   "metadata": {},
   "outputs": [],
   "source": [
    "# I am going to create a DataFrame to improve visualization of the PC1 and PC2\n",
    "col_PCs = ['PC' + str(x) for x in range(1, num_comp+1)]\n",
    "PCs_bfat = pd.DataFrame(pca.components_.T, columns=col_PCs, index=bfat.columns)"
   ]
  },
  {
   "cell_type": "code",
   "execution_count": 264,
   "metadata": {},
   "outputs": [
    {
     "data": {
      "text/html": [
       "<div>\n",
       "<style scoped>\n",
       "    .dataframe tbody tr th:only-of-type {\n",
       "        vertical-align: middle;\n",
       "    }\n",
       "\n",
       "    .dataframe tbody tr th {\n",
       "        vertical-align: top;\n",
       "    }\n",
       "\n",
       "    .dataframe thead th {\n",
       "        text-align: right;\n",
       "    }\n",
       "</style>\n",
       "<table border=\"1\" class=\"dataframe\">\n",
       "  <thead>\n",
       "    <tr style=\"text-align: right;\">\n",
       "      <th></th>\n",
       "      <th>PC1</th>\n",
       "      <th>PC2</th>\n",
       "      <th>PC3</th>\n",
       "      <th>PC4</th>\n",
       "    </tr>\n",
       "  </thead>\n",
       "  <tbody>\n",
       "    <tr>\n",
       "      <th>neck</th>\n",
       "      <td>0.511495</td>\n",
       "      <td>-0.355366</td>\n",
       "      <td>-0.683611</td>\n",
       "      <td>-0.380478</td>\n",
       "    </tr>\n",
       "    <tr>\n",
       "      <th>abdomen</th>\n",
       "      <td>0.520551</td>\n",
       "      <td>-0.401773</td>\n",
       "      <td>0.193023</td>\n",
       "      <td>0.728249</td>\n",
       "    </tr>\n",
       "    <tr>\n",
       "      <th>knee</th>\n",
       "      <td>0.530718</td>\n",
       "      <td>0.052545</td>\n",
       "      <td>0.662521</td>\n",
       "      <td>-0.525969</td>\n",
       "    </tr>\n",
       "    <tr>\n",
       "      <th>ankle</th>\n",
       "      <td>0.430973</td>\n",
       "      <td>0.842337</td>\n",
       "      <td>-0.237663</td>\n",
       "      <td>0.219649</td>\n",
       "    </tr>\n",
       "  </tbody>\n",
       "</table>\n",
       "</div>"
      ],
      "text/plain": [
       "              PC1       PC2       PC3       PC4\n",
       "neck     0.511495 -0.355366 -0.683611 -0.380478\n",
       "abdomen  0.520551 -0.401773  0.193023  0.728249\n",
       "knee     0.530718  0.052545  0.662521 -0.525969\n",
       "ankle    0.430973  0.842337 -0.237663  0.219649"
      ]
     },
     "execution_count": 264,
     "metadata": {},
     "output_type": "execute_result"
    }
   ],
   "source": [
    "PCs_bfat"
   ]
  },
  {
   "cell_type": "code",
   "execution_count": 265,
   "metadata": {},
   "outputs": [
    {
     "data": {
      "image/png": "[encoded data removed]",
      "text/plain": [
       "<Figure size 432x288 with 1 Axes>"
      ]
     },
     "metadata": {
      "needs_background": "light"
     },
     "output_type": "display_data"
    }
   ],
   "source": [
    "# And we can visualizaed these in bar plots.\n",
    "negative_data = PCs_bfat.copy()\n",
    "positive_data = PCs_bfat.copy()\n",
    "\n",
    "negative_data.loc[negative_data['PC1']>0, 'PC1']=0\n",
    "positive_data.loc[positive_data['PC1']<0, 'PC1']=0\n",
    "\n",
    "fig = plt.figure()\n",
    "ax = plt.subplot(111)\n",
    "ax.bar(negative_data.index,negative_data['PC1'], width=1, edgecolor='k', color='None')\n",
    "ax.bar(negative_data.index,positive_data['PC1'], width=1, edgecolor='k', color='None')\n",
    "plt.axhline(0, color='k', linewidth=0.5)\n",
    "plt.ylabel(\"1st component loadings\")\n",
    "plt.ylim(-(positive_data['PC1'].max()+0.25), positive_data['PC1'].max()+0.25)\n",
    "plt.title(\"PC1 loadings - Bodyfat\")\n",
    "plt.show()"
   ]
  },
  {
   "cell_type": "code",
   "execution_count": 266,
   "metadata": {},
   "outputs": [
    {
     "data": {
      "image/png": "[encoded data removed]",
      "text/plain": [
       "<Figure size 432x288 with 1 Axes>"
      ]
     },
     "metadata": {
      "needs_background": "light"
     },
     "output_type": "display_data"
    }
   ],
   "source": [
    "negative_data.loc[negative_data['PC2']>0, 'PC2']=0\n",
    "positive_data.loc[positive_data['PC2']<0, 'PC2']=0\n",
    "\n",
    "fig = plt.figure()\n",
    "ax = plt.subplot(111)\n",
    "ax.bar(negative_data.index,negative_data['PC2'], width=1, edgecolor='k', color='None')\n",
    "ax.bar(negative_data.index,positive_data['PC2'], width=1, edgecolor='k', color='None')\n",
    "plt.axhline(0, color='k', linewidth=0.5)\n",
    "plt.ylabel(\"2nd component loadings\")\n",
    "plt.ylim(-(positive_data['PC2'].max()+0.25), positive_data['PC2'].max()+0.25)\n",
    "plt.title(\"PC2 loadings - Bodyfat\")\n",
    "plt.show()"
   ]
  },
  {
   "cell_type": "code",
   "execution_count": 267,
   "metadata": {},
   "outputs": [],
   "source": [
    "PCs_exp_bfat = pd.Series(pca.explained_variance_ratio_, index=col_PCs)"
   ]
  },
  {
   "cell_type": "code",
   "execution_count": 268,
   "metadata": {},
   "outputs": [
    {
     "data": {
      "text/plain": [
       "PC1    0.716941\n",
       "PC2    0.155091\n",
       "PC3    0.075391\n",
       "PC4    0.052577\n",
       "dtype: float64"
      ]
     },
     "execution_count": 268,
     "metadata": {},
     "output_type": "execute_result"
    }
   ],
   "source": [
    "PCs_exp_bfat"
   ]
  },
  {
   "cell_type": "code",
   "execution_count": 269,
   "metadata": {},
   "outputs": [
    {
     "data": {
      "image/png": "[encoded data removed]",
      "text/plain": [
       "<Figure size 432x288 with 1 Axes>"
      ]
     },
     "metadata": {
      "needs_background": "light"
     },
     "output_type": "display_data"
    }
   ],
   "source": [
    "fig, ax = plt.subplots()\n",
    "plt.bar(PCs_exp_bfat.index, height=PCs_exp_bfat)\n",
    "plt.title(\"Bodyfat - Principal Components\")\n",
    "plt.ylabel(\"Variance Explained\")\n",
    "plt.show()"
   ]
  },
  {
   "cell_type": "markdown",
   "metadata": {},
   "source": [
    "#### Interpretation of the first Principal Component\n",
    "As shown in the figure \"PC1 loading - Bodyfat\" and the table created in step number 77, it seems that all the loading values for the PC1 have roughly the same measure. This means that all of them are individually important and therefore have a highly correlation, they have equal influence. The only thing to stand out is that ankle is 0.10 units below comparing to the other variables."
   ]
  },
  {
   "cell_type": "markdown",
   "metadata": {},
   "source": [
    "The first Principal Component explains 71.69% of the variation."
   ]
  },
  {
   "cell_type": "markdown",
   "metadata": {},
   "source": [
    "#### Interpretation of the second Principal Component\n",
    "As shown in the figure \"PC2 loading - Bodyfat\" and the table created in step number 77, the direction of this PC2 is aligned to the ankle and knee, where ankle has a very high coefficient and knee a small contribution. This could be seen as a upper (abodmen and neck) and lower (ankle and knee) segmentation of the body."
   ]
  },
  {
   "cell_type": "markdown",
   "metadata": {},
   "source": [
    "The second Principal Component explains 15.51% of the variation."
   ]
  },
  {
   "cell_type": "code",
   "execution_count": 270,
   "metadata": {},
   "outputs": [
    {
     "data": {
      "image/png": "[encoded data removed]",
      "text/plain": [
       "<Figure size 432x288 with 1 Axes>"
      ]
     },
     "metadata": {
      "needs_background": "light"
     },
     "output_type": "display_data"
    }
   ],
   "source": [
    "fig, ax = plt.subplots()\n",
    "ax.plot(PCs_exp_bfat)\n",
    "plt.title(\"Bodyfat - Principal Components - Scree Plot\")\n",
    "plt.ylabel(\"Variance Explained\")\n",
    "plt.show()"
   ]
  },
  {
   "cell_type": "markdown",
   "metadata": {},
   "source": [
    "As seen in graph below, the \"Elbow point\" or \"blend\" in the scree plot indicates is at PC2, which suggests taking PC1 and PC2 would be enough. Looking at the cumulative plot we can see the following:"
   ]
  },
  {
   "cell_type": "code",
   "execution_count": 271,
   "metadata": {},
   "outputs": [],
   "source": [
    "PCs_expc_bfat = pd.Series(pca.explained_variance_ratio_.cumsum(), index=col_PCs)"
   ]
  },
  {
   "cell_type": "code",
   "execution_count": 272,
   "metadata": {},
   "outputs": [
    {
     "data": {
      "text/plain": [
       "PC1    0.716941\n",
       "PC2    0.872032\n",
       "PC3    0.947423\n",
       "PC4    1.000000\n",
       "dtype: float64"
      ]
     },
     "execution_count": 272,
     "metadata": {},
     "output_type": "execute_result"
    }
   ],
   "source": [
    "PCs_expc_bfat"
   ]
  },
  {
   "cell_type": "code",
   "execution_count": 273,
   "metadata": {},
   "outputs": [
    {
     "data": {
      "image/png": "[encoded data removed]",
      "text/plain": [
       "<Figure size 432x288 with 1 Axes>"
      ]
     },
     "metadata": {
      "needs_background": "light"
     },
     "output_type": "display_data"
    }
   ],
   "source": [
    "fig, ax = plt.subplots()\n",
    "plt.bar(PCs_expc_bfat.index, height=PCs_expc_bfat)\n",
    "plt.title(\"Bodyfat - Principal Components\")\n",
    "plt.ylabel(\"Variance Explained\")\n",
    "plt.show()"
   ]
  },
  {
   "cell_type": "markdown",
   "metadata": {},
   "source": [
    "With PC1 and PC2 together, we explained 87.20% of the variation. Ideally, we would like to explain the variation between 80-90%."
   ]
  },
  {
   "cell_type": "code",
   "execution_count": 274,
   "metadata": {},
   "outputs": [
    {
     "data": {
      "text/html": [
       "<div>\n",
       "<style scoped>\n",
       "    .dataframe tbody tr th:only-of-type {\n",
       "        vertical-align: middle;\n",
       "    }\n",
       "\n",
       "    .dataframe tbody tr th {\n",
       "        vertical-align: top;\n",
       "    }\n",
       "\n",
       "    .dataframe thead th {\n",
       "        text-align: right;\n",
       "    }\n",
       "</style>\n",
       "<table border=\"1\" class=\"dataframe\">\n",
       "  <thead>\n",
       "    <tr style=\"text-align: right;\">\n",
       "      <th></th>\n",
       "      <th>PC1</th>\n",
       "      <th>PC2</th>\n",
       "      <th>PC3</th>\n",
       "      <th>PC4</th>\n",
       "    </tr>\n",
       "  </thead>\n",
       "  <tbody>\n",
       "    <tr>\n",
       "      <th>0</th>\n",
       "      <td>-1.324519</td>\n",
       "      <td>-0.089805</td>\n",
       "      <td>0.186761</td>\n",
       "      <td>-0.090881</td>\n",
       "    </tr>\n",
       "    <tr>\n",
       "      <th>1</th>\n",
       "      <td>-0.563847</td>\n",
       "      <td>0.402394</td>\n",
       "      <td>-0.711535</td>\n",
       "      <td>-0.405682</td>\n",
       "    </tr>\n",
       "    <tr>\n",
       "      <th>2</th>\n",
       "      <td>-0.769920</td>\n",
       "      <td>1.212318</td>\n",
       "      <td>1.000433</td>\n",
       "      <td>0.359919</td>\n",
       "    </tr>\n",
       "    <tr>\n",
       "      <th>3</th>\n",
       "      <td>-0.784171</td>\n",
       "      <td>0.137800</td>\n",
       "      <td>-0.256298</td>\n",
       "      <td>-0.081002</td>\n",
       "    </tr>\n",
       "    <tr>\n",
       "      <th>4</th>\n",
       "      <td>0.627312</td>\n",
       "      <td>0.774028</td>\n",
       "      <td>2.013062</td>\n",
       "      <td>0.394903</td>\n",
       "    </tr>\n",
       "    <tr>\n",
       "      <th>...</th>\n",
       "      <td>...</td>\n",
       "      <td>...</td>\n",
       "      <td>...</td>\n",
       "      <td>...</td>\n",
       "    </tr>\n",
       "    <tr>\n",
       "      <th>247</th>\n",
       "      <td>-2.329127</td>\n",
       "      <td>-0.093415</td>\n",
       "      <td>-0.107542</td>\n",
       "      <td>0.499069</td>\n",
       "    </tr>\n",
       "    <tr>\n",
       "      <th>248</th>\n",
       "      <td>1.727059</td>\n",
       "      <td>-0.793684</td>\n",
       "      <td>-0.001740</td>\n",
       "      <td>-0.084087</td>\n",
       "    </tr>\n",
       "    <tr>\n",
       "      <th>249</th>\n",
       "      <td>0.414967</td>\n",
       "      <td>-1.666360</td>\n",
       "      <td>-0.046111</td>\n",
       "      <td>1.213482</td>\n",
       "    </tr>\n",
       "    <tr>\n",
       "      <th>250</th>\n",
       "      <td>1.175423</td>\n",
       "      <td>-0.594118</td>\n",
       "      <td>0.785895</td>\n",
       "      <td>-0.260551</td>\n",
       "    </tr>\n",
       "    <tr>\n",
       "      <th>251</th>\n",
       "      <td>2.540655</td>\n",
       "      <td>-0.181978</td>\n",
       "      <td>0.277855</td>\n",
       "      <td>0.044316</td>\n",
       "    </tr>\n",
       "  </tbody>\n",
       "</table>\n",
       "<p>252 rows × 4 columns</p>\n",
       "</div>"
      ],
      "text/plain": [
       "          PC1       PC2       PC3       PC4\n",
       "0   -1.324519 -0.089805  0.186761 -0.090881\n",
       "1   -0.563847  0.402394 -0.711535 -0.405682\n",
       "2   -0.769920  1.212318  1.000433  0.359919\n",
       "3   -0.784171  0.137800 -0.256298 -0.081002\n",
       "4    0.627312  0.774028  2.013062  0.394903\n",
       "..        ...       ...       ...       ...\n",
       "247 -2.329127 -0.093415 -0.107542  0.499069\n",
       "248  1.727059 -0.793684 -0.001740 -0.084087\n",
       "249  0.414967 -1.666360 -0.046111  1.213482\n",
       "250  1.175423 -0.594118  0.785895 -0.260551\n",
       "251  2.540655 -0.181978  0.277855  0.044316\n",
       "\n",
       "[252 rows x 4 columns]"
      ]
     },
     "execution_count": 274,
     "metadata": {},
     "output_type": "execute_result"
    }
   ],
   "source": [
    "pd.DataFrame(pca.transform(std_bfat), columns=col_PCs)"
   ]
  },
  {
   "cell_type": "code",
   "execution_count": 275,
   "metadata": {},
   "outputs": [],
   "source": [
    "ft_bfat=pd.DataFrame(pca.transform(std_bfat), columns=col_PCs)"
   ]
  },
  {
   "cell_type": "code",
   "execution_count": 276,
   "metadata": {},
   "outputs": [
    {
     "data": {
      "image/png": "[encoded data removed]",
      "text/plain": [
       "<Figure size 432x288 with 1 Axes>"
      ]
     },
     "metadata": {
      "needs_background": "light"
     },
     "output_type": "display_data"
    }
   ],
   "source": [
    "sns.boxplot(data=ft_bfat.iloc[:,:2], palette=\"Set3\")\n",
    "plt.ylabel(\"Variation\")\n",
    "plt.title(\"PCA Scores\")\n",
    "plt.show()"
   ]
  },
  {
   "cell_type": "code",
   "execution_count": 307,
   "metadata": {},
   "outputs": [
    {
     "name": "stderr",
     "output_type": "stream",
     "text": [
      "No handles with labels found to put in legend.\n"
     ]
    },
    {
     "data": {
      "image/png": "[encoded data removed]",
      "text/plain": [
       "<Figure size 432x288 with 1 Axes>"
      ]
     },
     "metadata": {
      "needs_background": "light"
     },
     "output_type": "display_data"
    }
   ],
   "source": [
    "fig, ax = plt.subplots()\n",
    "sns.scatterplot(x=\"PC1\", y=\"PC2\", data=ft_bfat, alpha=0.8)\n",
    "plt.ylabel(\"2nd Component scores\")\n",
    "plt.xlabel(\"1st Component scores\")\n",
    "plt.legend(bbox_to_anchor=(1.01, 1), loc='upper left')\n",
    "plt.show()"
   ]
  },
  {
   "cell_type": "markdown",
   "metadata": {},
   "source": [
    "There are roughly eight outliers in PC1 and PC2."
   ]
  },
  {
   "cell_type": "markdown",
   "metadata": {},
   "source": [
    "#### Section B\n",
    "1. Omitting any outliers identified in part a), carry out a principal components analysis of the variables neck, abdomen, knee and ankle. Interpret the first component. What percentage of the variability in the dataset is accounted for by the first component? \n",
    "2. Interpret the second component. What percentage of the variability in the dataset is accounted for by the second component?\n",
    "3. Examine the scree diagram and comment. \n",
    "4. Plot the first two components."
   ]
  },
  {
   "cell_type": "code",
   "execution_count": 297,
   "metadata": {},
   "outputs": [
    {
     "data": {
      "text/html": [
       "<div>\n",
       "<style scoped>\n",
       "    .dataframe tbody tr th:only-of-type {\n",
       "        vertical-align: middle;\n",
       "    }\n",
       "\n",
       "    .dataframe tbody tr th {\n",
       "        vertical-align: top;\n",
       "    }\n",
       "\n",
       "    .dataframe thead th {\n",
       "        text-align: right;\n",
       "    }\n",
       "</style>\n",
       "<table border=\"1\" class=\"dataframe\">\n",
       "  <thead>\n",
       "    <tr style=\"text-align: right;\">\n",
       "      <th></th>\n",
       "      <th>neck</th>\n",
       "      <th>abdomen</th>\n",
       "      <th>knee</th>\n",
       "      <th>ankle</th>\n",
       "      <th>PC1</th>\n",
       "      <th>PC2</th>\n",
       "      <th>PC3</th>\n",
       "      <th>PC4</th>\n",
       "    </tr>\n",
       "  </thead>\n",
       "  <tbody>\n",
       "    <tr>\n",
       "      <th>0</th>\n",
       "      <td>36.2</td>\n",
       "      <td>85.2</td>\n",
       "      <td>37.3</td>\n",
       "      <td>21.9</td>\n",
       "      <td>-1.324519</td>\n",
       "      <td>-0.089805</td>\n",
       "      <td>0.186761</td>\n",
       "      <td>-0.090881</td>\n",
       "    </tr>\n",
       "    <tr>\n",
       "      <th>1</th>\n",
       "      <td>38.5</td>\n",
       "      <td>83.0</td>\n",
       "      <td>37.3</td>\n",
       "      <td>23.4</td>\n",
       "      <td>-0.563847</td>\n",
       "      <td>0.402394</td>\n",
       "      <td>-0.711535</td>\n",
       "      <td>-0.405682</td>\n",
       "    </tr>\n",
       "    <tr>\n",
       "      <th>2</th>\n",
       "      <td>34.0</td>\n",
       "      <td>87.9</td>\n",
       "      <td>38.9</td>\n",
       "      <td>24.0</td>\n",
       "      <td>-0.769920</td>\n",
       "      <td>1.212318</td>\n",
       "      <td>1.000433</td>\n",
       "      <td>0.359919</td>\n",
       "    </tr>\n",
       "    <tr>\n",
       "      <th>3</th>\n",
       "      <td>37.4</td>\n",
       "      <td>86.4</td>\n",
       "      <td>37.3</td>\n",
       "      <td>22.8</td>\n",
       "      <td>-0.784171</td>\n",
       "      <td>0.137800</td>\n",
       "      <td>-0.256298</td>\n",
       "      <td>-0.081002</td>\n",
       "    </tr>\n",
       "    <tr>\n",
       "      <th>4</th>\n",
       "      <td>34.4</td>\n",
       "      <td>100.0</td>\n",
       "      <td>42.2</td>\n",
       "      <td>24.0</td>\n",
       "      <td>0.627312</td>\n",
       "      <td>0.774028</td>\n",
       "      <td>2.013062</td>\n",
       "      <td>0.394903</td>\n",
       "    </tr>\n",
       "  </tbody>\n",
       "</table>\n",
       "</div>"
      ],
      "text/plain": [
       "   neck  abdomen  knee  ankle       PC1       PC2       PC3       PC4\n",
       "0  36.2     85.2  37.3   21.9 -1.324519 -0.089805  0.186761 -0.090881\n",
       "1  38.5     83.0  37.3   23.4 -0.563847  0.402394 -0.711535 -0.405682\n",
       "2  34.0     87.9  38.9   24.0 -0.769920  1.212318  1.000433  0.359919\n",
       "3  37.4     86.4  37.3   22.8 -0.784171  0.137800 -0.256298 -0.081002\n",
       "4  34.4    100.0  42.2   24.0  0.627312  0.774028  2.013062  0.394903"
      ]
     },
     "execution_count": 297,
     "metadata": {},
     "output_type": "execute_result"
    }
   ],
   "source": [
    "bfat_b = pd.concat([bfat, ft_bfat], axis=1)\n",
    "bfat_b.head()"
   ]
  },
  {
   "cell_type": "code",
   "execution_count": 298,
   "metadata": {},
   "outputs": [
    {
     "name": "stdout",
     "output_type": "stream",
     "text": [
      "5 outliers removed.\n"
     ]
    }
   ],
   "source": [
    "index = 0\n",
    "for c in bfat_b.columns[:2]:\n",
    "    outliers = [stat for stat in boxplot_stats(bfat_b[c])[0]['fliers']]\n",
    "    index += len(outliers)\n",
    "    bfat_b.drop(index=bfat_b[bfat_b[c].isin(outliers)].index.values, inplace=True)\n",
    "print(str(index)+\" outliers removed.\")"
   ]
  },
  {
   "cell_type": "code",
   "execution_count": 299,
   "metadata": {},
   "outputs": [],
   "source": [
    "bfat_b.drop(columns=col_PCs, inplace=True)"
   ]
  },
  {
   "cell_type": "code",
   "execution_count": 301,
   "metadata": {},
   "outputs": [
    {
     "data": {
      "text/html": [
       "<div>\n",
       "<style scoped>\n",
       "    .dataframe tbody tr th:only-of-type {\n",
       "        vertical-align: middle;\n",
       "    }\n",
       "\n",
       "    .dataframe tbody tr th {\n",
       "        vertical-align: top;\n",
       "    }\n",
       "\n",
       "    .dataframe thead th {\n",
       "        text-align: right;\n",
       "    }\n",
       "</style>\n",
       "<table border=\"1\" class=\"dataframe\">\n",
       "  <thead>\n",
       "    <tr style=\"text-align: right;\">\n",
       "      <th></th>\n",
       "      <th>neck</th>\n",
       "      <th>abdomen</th>\n",
       "      <th>knee</th>\n",
       "      <th>ankle</th>\n",
       "    </tr>\n",
       "  </thead>\n",
       "  <tbody>\n",
       "    <tr>\n",
       "      <th>0</th>\n",
       "      <td>36.2</td>\n",
       "      <td>85.2</td>\n",
       "      <td>37.3</td>\n",
       "      <td>21.9</td>\n",
       "    </tr>\n",
       "    <tr>\n",
       "      <th>1</th>\n",
       "      <td>38.5</td>\n",
       "      <td>83.0</td>\n",
       "      <td>37.3</td>\n",
       "      <td>23.4</td>\n",
       "    </tr>\n",
       "    <tr>\n",
       "      <th>2</th>\n",
       "      <td>34.0</td>\n",
       "      <td>87.9</td>\n",
       "      <td>38.9</td>\n",
       "      <td>24.0</td>\n",
       "    </tr>\n",
       "    <tr>\n",
       "      <th>3</th>\n",
       "      <td>37.4</td>\n",
       "      <td>86.4</td>\n",
       "      <td>37.3</td>\n",
       "      <td>22.8</td>\n",
       "    </tr>\n",
       "    <tr>\n",
       "      <th>4</th>\n",
       "      <td>34.4</td>\n",
       "      <td>100.0</td>\n",
       "      <td>42.2</td>\n",
       "      <td>24.0</td>\n",
       "    </tr>\n",
       "  </tbody>\n",
       "</table>\n",
       "</div>"
      ],
      "text/plain": [
       "   neck  abdomen  knee  ankle\n",
       "0  36.2     85.2  37.3   21.9\n",
       "1  38.5     83.0  37.3   23.4\n",
       "2  34.0     87.9  38.9   24.0\n",
       "3  37.4     86.4  37.3   22.8\n",
       "4  34.4    100.0  42.2   24.0"
      ]
     },
     "execution_count": 301,
     "metadata": {},
     "output_type": "execute_result"
    }
   ],
   "source": [
    "bfat_b.head()"
   ]
  },
  {
   "cell_type": "code",
   "execution_count": 302,
   "metadata": {},
   "outputs": [],
   "source": [
    "scaler_b = StandardScaler()\n",
    "std_bfat_b = scaler.fit_transform(bfat_b)\n",
    "\n",
    "num_comp_b = bfat.shape[1]\n",
    "pca_b = PCA(n_components=num_comp)\n",
    "pca_b.fit(std_bfat_b)\n",
    "\n",
    "col_PCs_b = ['PC' + str(x) for x in range(1, num_comp+1)]\n",
    "PCs_bfat_b = pd.DataFrame(pca.components_.T, columns=col_PCs_b, index=bfat.columns)"
   ]
  },
  {
   "cell_type": "code",
   "execution_count": 303,
   "metadata": {},
   "outputs": [
    {
     "data": {
      "text/html": [
       "<div>\n",
       "<style scoped>\n",
       "    .dataframe tbody tr th:only-of-type {\n",
       "        vertical-align: middle;\n",
       "    }\n",
       "\n",
       "    .dataframe tbody tr th {\n",
       "        vertical-align: top;\n",
       "    }\n",
       "\n",
       "    .dataframe thead th {\n",
       "        text-align: right;\n",
       "    }\n",
       "</style>\n",
       "<table border=\"1\" class=\"dataframe\">\n",
       "  <thead>\n",
       "    <tr style=\"text-align: right;\">\n",
       "      <th></th>\n",
       "      <th>PC1</th>\n",
       "      <th>PC2</th>\n",
       "      <th>PC3</th>\n",
       "      <th>PC4</th>\n",
       "    </tr>\n",
       "  </thead>\n",
       "  <tbody>\n",
       "    <tr>\n",
       "      <th>neck</th>\n",
       "      <td>0.511495</td>\n",
       "      <td>-0.355366</td>\n",
       "      <td>-0.683611</td>\n",
       "      <td>-0.380478</td>\n",
       "    </tr>\n",
       "    <tr>\n",
       "      <th>abdomen</th>\n",
       "      <td>0.520551</td>\n",
       "      <td>-0.401773</td>\n",
       "      <td>0.193023</td>\n",
       "      <td>0.728249</td>\n",
       "    </tr>\n",
       "    <tr>\n",
       "      <th>knee</th>\n",
       "      <td>0.530718</td>\n",
       "      <td>0.052545</td>\n",
       "      <td>0.662521</td>\n",
       "      <td>-0.525969</td>\n",
       "    </tr>\n",
       "    <tr>\n",
       "      <th>ankle</th>\n",
       "      <td>0.430973</td>\n",
       "      <td>0.842337</td>\n",
       "      <td>-0.237663</td>\n",
       "      <td>0.219649</td>\n",
       "    </tr>\n",
       "  </tbody>\n",
       "</table>\n",
       "</div>"
      ],
      "text/plain": [
       "              PC1       PC2       PC3       PC4\n",
       "neck     0.511495 -0.355366 -0.683611 -0.380478\n",
       "abdomen  0.520551 -0.401773  0.193023  0.728249\n",
       "knee     0.530718  0.052545  0.662521 -0.525969\n",
       "ankle    0.430973  0.842337 -0.237663  0.219649"
      ]
     },
     "execution_count": 303,
     "metadata": {},
     "output_type": "execute_result"
    }
   ],
   "source": [
    "PCs_bfat_b"
   ]
  },
  {
   "cell_type": "code",
   "execution_count": 304,
   "metadata": {},
   "outputs": [
    {
     "data": {
      "image/png": "[encoded data removed]",
      "text/plain": [
       "<Figure size 432x288 with 1 Axes>"
      ]
     },
     "metadata": {
      "needs_background": "light"
     },
     "output_type": "display_data"
    }
   ],
   "source": [
    "# And we can visualizaed these in bar plots.\n",
    "negative_data = PCs_bfat_b.copy()\n",
    "positive_data = PCs_bfat_b.copy()\n",
    "\n",
    "negative_data.loc[negative_data['PC1']>0, 'PC1']=0\n",
    "positive_data.loc[positive_data['PC1']<0, 'PC1']=0\n",
    "\n",
    "fig = plt.figure()\n",
    "ax = plt.subplot(111)\n",
    "ax.bar(negative_data.index,negative_data['PC1'], width=1, edgecolor='k', color='None')\n",
    "ax.bar(negative_data.index,positive_data['PC1'], width=1, edgecolor='k', color='None')\n",
    "plt.axhline(0, color='k', linewidth=0.5)\n",
    "plt.ylabel(\"1st component loadings\")\n",
    "plt.ylim(-(positive_data['PC1'].max()+0.25), positive_data['PC1'].max()+0.25)\n",
    "plt.title(\"PC1 loadings - Bodyfat\")\n",
    "plt.show()"
   ]
  },
  {
   "cell_type": "code",
   "execution_count": 305,
   "metadata": {},
   "outputs": [
    {
     "data": {
      "image/png": "[encoded data removed]",
      "text/plain": [
       "<Figure size 432x288 with 1 Axes>"
      ]
     },
     "metadata": {
      "needs_background": "light"
     },
     "output_type": "display_data"
    }
   ],
   "source": [
    "negative_data.loc[negative_data['PC2']>0, 'PC2']=0\n",
    "positive_data.loc[positive_data['PC2']<0, 'PC2']=0\n",
    "\n",
    "fig = plt.figure()\n",
    "ax = plt.subplot(111)\n",
    "ax.bar(negative_data.index,negative_data['PC2'], width=1, edgecolor='k', color='None')\n",
    "ax.bar(negative_data.index,positive_data['PC2'], width=1, edgecolor='k', color='None')\n",
    "plt.axhline(0, color='k', linewidth=0.5)\n",
    "plt.ylabel(\"2nd component loadings\")\n",
    "plt.ylim(-(positive_data['PC2'].max()+0.25), positive_data['PC2'].max()+0.25)\n",
    "plt.title(\"PC2 loadings - Bodyfat\")\n",
    "plt.show()"
   ]
  },
  {
   "cell_type": "code",
   "execution_count": 254,
   "metadata": {},
   "outputs": [],
   "source": [
    "ft_bfat_b=pd.DataFrame(pca_b.transform(std_bfat_b), columns=col_PCs)"
   ]
  },
  {
   "cell_type": "code",
   "execution_count": 256,
   "metadata": {},
   "outputs": [
    {
     "data": {
      "image/png": "[encoded data removed]",
      "text/plain": [
       "<Figure size 432x288 with 1 Axes>"
      ]
     },
     "metadata": {
      "needs_background": "light"
     },
     "output_type": "display_data"
    }
   ],
   "source": [
    "sns.boxplot(data=ft_bfat_b.iloc[:,:2], palette=\"Set3\")\n",
    "plt.ylabel(\"Variation\")\n",
    "plt.title(\"PCA Scores\")\n",
    "plt.show()"
   ]
  },
  {
   "cell_type": "code",
   "execution_count": 308,
   "metadata": {},
   "outputs": [
    {
     "name": "stderr",
     "output_type": "stream",
     "text": [
      "No handles with labels found to put in legend.\n"
     ]
    },
    {
     "data": {
      "image/png": "[encoded data removed]",
      "text/plain": [
       "<Figure size 432x288 with 1 Axes>"
      ]
     },
     "metadata": {
      "needs_background": "light"
     },
     "output_type": "display_data"
    }
   ],
   "source": [
    "fig, ax = plt.subplots()\n",
    "sns.scatterplot(x=\"PC1\", y=\"PC2\", data=ft_bfat_b, alpha=0.8)\n",
    "plt.ylabel(\"2nd Component scores\")\n",
    "plt.xlabel(\"1st Component scores\")\n",
    "plt.legend(bbox_to_anchor=(1.01, 1), loc='upper left')\n",
    "plt.show()"
   ]
  }
 ],
 "metadata": {
  "kernelspec": {
   "display_name": "Python 3",
   "language": "python",
   "name": "python3"
  },
  "language_info": {
   "codemirror_mode": {
    "name": "ipython",
    "version": 3
   },
   "file_extension": ".py",
   "mimetype": "text/x-python",
   "name": "python",
   "nbconvert_exporter": "python",
   "pygments_lexer": "ipython3",
   "version": "3.8.3"
  }
 },
 "nbformat": 4,
 "nbformat_minor": 4
}
