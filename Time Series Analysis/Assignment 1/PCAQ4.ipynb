{
 "cells": [
  {
   "cell_type": "markdown",
   "metadata": {},
   "source": [
    "# Assignment 1: Principal Component Analysis\n",
    "Karla Aniela Cepeda Zapata<br/>\n",
    "Time Series Analysis<br/>\n",
    "D00242569"
   ]
  },
  {
   "cell_type": "markdown",
   "metadata": {},
   "source": [
    "## Q4\n",
    "Load the “BodyFat” csv file from Moodle in to Python. The body fat data of consists of observations taken on a sample of 252 males. The following variables were measured:\n",
    "* Percent body fat\n",
    "* Age (years)\n",
    "* Weight (pounds)\n",
    "* Height (inches) \n",
    "* Neck circumference (cm) \n",
    "* Abdomen circumference (cm) \n",
    "* Knee circumference (cm) \n",
    "* Ankle circumference (cm)"
   ]
  },
  {
   "cell_type": "markdown",
   "metadata": {},
   "source": [
    "##### Before starting...."
   ]
  },
  {
   "cell_type": "code",
   "execution_count": 1,
   "metadata": {},
   "outputs": [],
   "source": [
    "# SETUP ENVIRONMENT\n",
    "import pandas as pd\n",
    "import numpy as np\n",
    "import os\n",
    "\n",
    "from sklearn.preprocessing import StandardScaler\n",
    "from sklearn.decomposition import PCA\n",
    "\n",
    "import seaborn as sns\n",
    "import matplotlib.pyplot as plt\n",
    "from matplotlib.cbook import boxplot_stats \n",
    "import math\n",
    "from scipy.stats import pearsonr\n",
    "from scipy.stats import spearmanr\n",
    "\n",
    "from sklearn.cluster import KMeans\n",
    "\n",
    "os.chdir(r'E:\\Karla\\IRELAND v2\\DKIT\\2nd Semester\\Time Series Analysis\\CA\\CA1')\n",
    "\n",
    "pd.set_option('display.max_columns', None)"
   ]
  },
  {
   "cell_type": "code",
   "execution_count": 2,
   "metadata": {},
   "outputs": [],
   "source": [
    "# Title for graphs\n",
    "data_title = \"Bodyfat\""
   ]
  },
  {
   "cell_type": "code",
   "execution_count": 3,
   "metadata": {},
   "outputs": [],
   "source": [
    "data = pd.read_csv('datasets/Bodyfat.csv')"
   ]
  },
  {
   "cell_type": "code",
   "execution_count": 4,
   "metadata": {},
   "outputs": [],
   "source": [
    "# Change name of columns\n",
    "data.columns = list(map(lambda s: s.lower().strip(), data.columns))"
   ]
  },
  {
   "cell_type": "code",
   "execution_count": 5,
   "metadata": {},
   "outputs": [
    {
     "name": "stdout",
     "output_type": "stream",
     "text": [
      "<class 'pandas.core.frame.DataFrame'>\n",
      "RangeIndex: 252 entries, 0 to 251\n",
      "Data columns (total 9 columns):\n",
      " #   Column   Non-Null Count  Dtype  \n",
      "---  ------   --------------  -----  \n",
      " 0   density  252 non-null    float64\n",
      " 1   bodyfat  252 non-null    float64\n",
      " 2   age      252 non-null    int64  \n",
      " 3   weight   252 non-null    float64\n",
      " 4   height   252 non-null    float64\n",
      " 5   neck     252 non-null    float64\n",
      " 6   abdomen  252 non-null    float64\n",
      " 7   knee     252 non-null    float64\n",
      " 8   ankle    252 non-null    float64\n",
      "dtypes: float64(8), int64(1)\n",
      "memory usage: 17.8 KB\n"
     ]
    }
   ],
   "source": [
    "data.info()"
   ]
  },
  {
   "cell_type": "markdown",
   "metadata": {},
   "source": [
    "There are no misssing values. Let's explore the data."
   ]
  },
  {
   "cell_type": "code",
   "execution_count": 6,
   "metadata": {},
   "outputs": [
    {
     "data": {
      "text/html": [
       "<div>\n",
       "<style scoped>\n",
       "    .dataframe tbody tr th:only-of-type {\n",
       "        vertical-align: middle;\n",
       "    }\n",
       "\n",
       "    .dataframe tbody tr th {\n",
       "        vertical-align: top;\n",
       "    }\n",
       "\n",
       "    .dataframe thead th {\n",
       "        text-align: right;\n",
       "    }\n",
       "</style>\n",
       "<table border=\"1\" class=\"dataframe\">\n",
       "  <thead>\n",
       "    <tr style=\"text-align: right;\">\n",
       "      <th></th>\n",
       "      <th>density</th>\n",
       "      <th>bodyfat</th>\n",
       "      <th>age</th>\n",
       "      <th>weight</th>\n",
       "      <th>height</th>\n",
       "      <th>neck</th>\n",
       "      <th>abdomen</th>\n",
       "      <th>knee</th>\n",
       "      <th>ankle</th>\n",
       "    </tr>\n",
       "  </thead>\n",
       "  <tbody>\n",
       "    <tr>\n",
       "      <th>count</th>\n",
       "      <td>252.000000</td>\n",
       "      <td>252.000000</td>\n",
       "      <td>252.000000</td>\n",
       "      <td>252.000000</td>\n",
       "      <td>252.000000</td>\n",
       "      <td>252.000000</td>\n",
       "      <td>252.000000</td>\n",
       "      <td>252.000000</td>\n",
       "      <td>252.000000</td>\n",
       "    </tr>\n",
       "    <tr>\n",
       "      <th>mean</th>\n",
       "      <td>1.055574</td>\n",
       "      <td>19.150794</td>\n",
       "      <td>44.884921</td>\n",
       "      <td>178.924405</td>\n",
       "      <td>70.148810</td>\n",
       "      <td>37.992063</td>\n",
       "      <td>92.555952</td>\n",
       "      <td>38.590476</td>\n",
       "      <td>23.102381</td>\n",
       "    </tr>\n",
       "    <tr>\n",
       "      <th>std</th>\n",
       "      <td>0.019031</td>\n",
       "      <td>8.368740</td>\n",
       "      <td>12.602040</td>\n",
       "      <td>29.389160</td>\n",
       "      <td>3.662856</td>\n",
       "      <td>2.430913</td>\n",
       "      <td>10.783077</td>\n",
       "      <td>2.411805</td>\n",
       "      <td>1.694893</td>\n",
       "    </tr>\n",
       "    <tr>\n",
       "      <th>min</th>\n",
       "      <td>0.995000</td>\n",
       "      <td>0.000000</td>\n",
       "      <td>22.000000</td>\n",
       "      <td>118.500000</td>\n",
       "      <td>29.500000</td>\n",
       "      <td>31.100000</td>\n",
       "      <td>69.400000</td>\n",
       "      <td>33.000000</td>\n",
       "      <td>19.100000</td>\n",
       "    </tr>\n",
       "    <tr>\n",
       "      <th>25%</th>\n",
       "      <td>1.041400</td>\n",
       "      <td>12.475000</td>\n",
       "      <td>35.750000</td>\n",
       "      <td>159.000000</td>\n",
       "      <td>68.250000</td>\n",
       "      <td>36.400000</td>\n",
       "      <td>84.575000</td>\n",
       "      <td>36.975000</td>\n",
       "      <td>22.000000</td>\n",
       "    </tr>\n",
       "    <tr>\n",
       "      <th>50%</th>\n",
       "      <td>1.054900</td>\n",
       "      <td>19.200000</td>\n",
       "      <td>43.000000</td>\n",
       "      <td>176.500000</td>\n",
       "      <td>70.000000</td>\n",
       "      <td>38.000000</td>\n",
       "      <td>90.950000</td>\n",
       "      <td>38.500000</td>\n",
       "      <td>22.800000</td>\n",
       "    </tr>\n",
       "    <tr>\n",
       "      <th>75%</th>\n",
       "      <td>1.070400</td>\n",
       "      <td>25.300000</td>\n",
       "      <td>54.000000</td>\n",
       "      <td>197.000000</td>\n",
       "      <td>72.250000</td>\n",
       "      <td>39.425000</td>\n",
       "      <td>99.325000</td>\n",
       "      <td>39.925000</td>\n",
       "      <td>24.000000</td>\n",
       "    </tr>\n",
       "    <tr>\n",
       "      <th>max</th>\n",
       "      <td>1.108900</td>\n",
       "      <td>47.500000</td>\n",
       "      <td>81.000000</td>\n",
       "      <td>363.150000</td>\n",
       "      <td>77.750000</td>\n",
       "      <td>51.200000</td>\n",
       "      <td>148.100000</td>\n",
       "      <td>49.100000</td>\n",
       "      <td>33.900000</td>\n",
       "    </tr>\n",
       "  </tbody>\n",
       "</table>\n",
       "</div>"
      ],
      "text/plain": [
       "          density     bodyfat         age      weight      height        neck  \\\n",
       "count  252.000000  252.000000  252.000000  252.000000  252.000000  252.000000   \n",
       "mean     1.055574   19.150794   44.884921  178.924405   70.148810   37.992063   \n",
       "std      0.019031    8.368740   12.602040   29.389160    3.662856    2.430913   \n",
       "min      0.995000    0.000000   22.000000  118.500000   29.500000   31.100000   \n",
       "25%      1.041400   12.475000   35.750000  159.000000   68.250000   36.400000   \n",
       "50%      1.054900   19.200000   43.000000  176.500000   70.000000   38.000000   \n",
       "75%      1.070400   25.300000   54.000000  197.000000   72.250000   39.425000   \n",
       "max      1.108900   47.500000   81.000000  363.150000   77.750000   51.200000   \n",
       "\n",
       "          abdomen        knee       ankle  \n",
       "count  252.000000  252.000000  252.000000  \n",
       "mean    92.555952   38.590476   23.102381  \n",
       "std     10.783077    2.411805    1.694893  \n",
       "min     69.400000   33.000000   19.100000  \n",
       "25%     84.575000   36.975000   22.000000  \n",
       "50%     90.950000   38.500000   22.800000  \n",
       "75%     99.325000   39.925000   24.000000  \n",
       "max    148.100000   49.100000   33.900000  "
      ]
     },
     "execution_count": 6,
     "metadata": {},
     "output_type": "execute_result"
    }
   ],
   "source": [
    "data.describe()"
   ]
  },
  {
   "cell_type": "markdown",
   "metadata": {},
   "source": [
    "It is interesting that there are observations with bodyfat=0, which is impossible. Let's explore these observations."
   ]
  },
  {
   "cell_type": "code",
   "execution_count": 7,
   "metadata": {},
   "outputs": [
    {
     "data": {
      "text/html": [
       "<div>\n",
       "<style scoped>\n",
       "    .dataframe tbody tr th:only-of-type {\n",
       "        vertical-align: middle;\n",
       "    }\n",
       "\n",
       "    .dataframe tbody tr th {\n",
       "        vertical-align: top;\n",
       "    }\n",
       "\n",
       "    .dataframe thead th {\n",
       "        text-align: right;\n",
       "    }\n",
       "</style>\n",
       "<table border=\"1\" class=\"dataframe\">\n",
       "  <thead>\n",
       "    <tr style=\"text-align: right;\">\n",
       "      <th></th>\n",
       "      <th>density</th>\n",
       "      <th>bodyfat</th>\n",
       "      <th>age</th>\n",
       "      <th>weight</th>\n",
       "      <th>height</th>\n",
       "      <th>neck</th>\n",
       "      <th>abdomen</th>\n",
       "      <th>knee</th>\n",
       "      <th>ankle</th>\n",
       "    </tr>\n",
       "  </thead>\n",
       "  <tbody>\n",
       "    <tr>\n",
       "      <th>181</th>\n",
       "      <td>1.1089</td>\n",
       "      <td>0.0</td>\n",
       "      <td>40</td>\n",
       "      <td>118.5</td>\n",
       "      <td>68.0</td>\n",
       "      <td>33.8</td>\n",
       "      <td>69.4</td>\n",
       "      <td>33.5</td>\n",
       "      <td>20.2</td>\n",
       "    </tr>\n",
       "  </tbody>\n",
       "</table>\n",
       "</div>"
      ],
      "text/plain": [
       "     density  bodyfat  age  weight  height  neck  abdomen  knee  ankle\n",
       "181   1.1089      0.0   40   118.5    68.0  33.8     69.4  33.5   20.2"
      ]
     },
     "execution_count": 7,
     "metadata": {},
     "output_type": "execute_result"
    }
   ],
   "source": [
    "data[data['bodyfat']==0]"
   ]
  },
  {
   "cell_type": "markdown",
   "metadata": {},
   "source": [
    "It seems there is just one observation with bodyfat==0. I computed the bodyfat for this observation on https://www.calculator.net/body-fat-calculator.html and got the value 7.4%."
   ]
  },
  {
   "cell_type": "code",
   "execution_count": 8,
   "metadata": {},
   "outputs": [],
   "source": [
    "data.loc[181, 'bodyfat'] = 7.4"
   ]
  },
  {
   "cell_type": "code",
   "execution_count": 9,
   "metadata": {},
   "outputs": [
    {
     "data": {
      "text/plain": [
       "density      1.1089\n",
       "bodyfat      7.4000\n",
       "age         40.0000\n",
       "weight     118.5000\n",
       "height      68.0000\n",
       "neck        33.8000\n",
       "abdomen     69.4000\n",
       "knee        33.5000\n",
       "ankle       20.2000\n",
       "Name: 181, dtype: float64"
      ]
     },
     "execution_count": 9,
     "metadata": {},
     "output_type": "execute_result"
    }
   ],
   "source": [
    "data.iloc[181]"
   ]
  },
  {
   "cell_type": "code",
   "execution_count": 10,
   "metadata": {},
   "outputs": [
    {
     "data": {
      "text/html": [
       "<div>\n",
       "<style scoped>\n",
       "    .dataframe tbody tr th:only-of-type {\n",
       "        vertical-align: middle;\n",
       "    }\n",
       "\n",
       "    .dataframe tbody tr th {\n",
       "        vertical-align: top;\n",
       "    }\n",
       "\n",
       "    .dataframe thead th {\n",
       "        text-align: right;\n",
       "    }\n",
       "</style>\n",
       "<table border=\"1\" class=\"dataframe\">\n",
       "  <thead>\n",
       "    <tr style=\"text-align: right;\">\n",
       "      <th></th>\n",
       "      <th>density</th>\n",
       "      <th>bodyfat</th>\n",
       "      <th>age</th>\n",
       "      <th>weight</th>\n",
       "      <th>height</th>\n",
       "      <th>neck</th>\n",
       "      <th>abdomen</th>\n",
       "      <th>knee</th>\n",
       "      <th>ankle</th>\n",
       "    </tr>\n",
       "  </thead>\n",
       "  <tbody>\n",
       "    <tr>\n",
       "      <th>count</th>\n",
       "      <td>252.000000</td>\n",
       "      <td>252.000000</td>\n",
       "      <td>252.000000</td>\n",
       "      <td>252.000000</td>\n",
       "      <td>252.000000</td>\n",
       "      <td>252.000000</td>\n",
       "      <td>252.000000</td>\n",
       "      <td>252.000000</td>\n",
       "      <td>252.000000</td>\n",
       "    </tr>\n",
       "    <tr>\n",
       "      <th>mean</th>\n",
       "      <td>1.055574</td>\n",
       "      <td>19.180159</td>\n",
       "      <td>44.884921</td>\n",
       "      <td>178.924405</td>\n",
       "      <td>70.148810</td>\n",
       "      <td>37.992063</td>\n",
       "      <td>92.555952</td>\n",
       "      <td>38.590476</td>\n",
       "      <td>23.102381</td>\n",
       "    </tr>\n",
       "    <tr>\n",
       "      <th>std</th>\n",
       "      <td>0.019031</td>\n",
       "      <td>8.314079</td>\n",
       "      <td>12.602040</td>\n",
       "      <td>29.389160</td>\n",
       "      <td>3.662856</td>\n",
       "      <td>2.430913</td>\n",
       "      <td>10.783077</td>\n",
       "      <td>2.411805</td>\n",
       "      <td>1.694893</td>\n",
       "    </tr>\n",
       "    <tr>\n",
       "      <th>min</th>\n",
       "      <td>0.995000</td>\n",
       "      <td>0.700000</td>\n",
       "      <td>22.000000</td>\n",
       "      <td>118.500000</td>\n",
       "      <td>29.500000</td>\n",
       "      <td>31.100000</td>\n",
       "      <td>69.400000</td>\n",
       "      <td>33.000000</td>\n",
       "      <td>19.100000</td>\n",
       "    </tr>\n",
       "    <tr>\n",
       "      <th>25%</th>\n",
       "      <td>1.041400</td>\n",
       "      <td>12.475000</td>\n",
       "      <td>35.750000</td>\n",
       "      <td>159.000000</td>\n",
       "      <td>68.250000</td>\n",
       "      <td>36.400000</td>\n",
       "      <td>84.575000</td>\n",
       "      <td>36.975000</td>\n",
       "      <td>22.000000</td>\n",
       "    </tr>\n",
       "    <tr>\n",
       "      <th>50%</th>\n",
       "      <td>1.054900</td>\n",
       "      <td>19.200000</td>\n",
       "      <td>43.000000</td>\n",
       "      <td>176.500000</td>\n",
       "      <td>70.000000</td>\n",
       "      <td>38.000000</td>\n",
       "      <td>90.950000</td>\n",
       "      <td>38.500000</td>\n",
       "      <td>22.800000</td>\n",
       "    </tr>\n",
       "    <tr>\n",
       "      <th>75%</th>\n",
       "      <td>1.070400</td>\n",
       "      <td>25.300000</td>\n",
       "      <td>54.000000</td>\n",
       "      <td>197.000000</td>\n",
       "      <td>72.250000</td>\n",
       "      <td>39.425000</td>\n",
       "      <td>99.325000</td>\n",
       "      <td>39.925000</td>\n",
       "      <td>24.000000</td>\n",
       "    </tr>\n",
       "    <tr>\n",
       "      <th>max</th>\n",
       "      <td>1.108900</td>\n",
       "      <td>47.500000</td>\n",
       "      <td>81.000000</td>\n",
       "      <td>363.150000</td>\n",
       "      <td>77.750000</td>\n",
       "      <td>51.200000</td>\n",
       "      <td>148.100000</td>\n",
       "      <td>49.100000</td>\n",
       "      <td>33.900000</td>\n",
       "    </tr>\n",
       "  </tbody>\n",
       "</table>\n",
       "</div>"
      ],
      "text/plain": [
       "          density     bodyfat         age      weight      height        neck  \\\n",
       "count  252.000000  252.000000  252.000000  252.000000  252.000000  252.000000   \n",
       "mean     1.055574   19.180159   44.884921  178.924405   70.148810   37.992063   \n",
       "std      0.019031    8.314079   12.602040   29.389160    3.662856    2.430913   \n",
       "min      0.995000    0.700000   22.000000  118.500000   29.500000   31.100000   \n",
       "25%      1.041400   12.475000   35.750000  159.000000   68.250000   36.400000   \n",
       "50%      1.054900   19.200000   43.000000  176.500000   70.000000   38.000000   \n",
       "75%      1.070400   25.300000   54.000000  197.000000   72.250000   39.425000   \n",
       "max      1.108900   47.500000   81.000000  363.150000   77.750000   51.200000   \n",
       "\n",
       "          abdomen        knee       ankle  \n",
       "count  252.000000  252.000000  252.000000  \n",
       "mean    92.555952   38.590476   23.102381  \n",
       "std     10.783077    2.411805    1.694893  \n",
       "min     69.400000   33.000000   19.100000  \n",
       "25%     84.575000   36.975000   22.000000  \n",
       "50%     90.950000   38.500000   22.800000  \n",
       "75%     99.325000   39.925000   24.000000  \n",
       "max    148.100000   49.100000   33.900000  "
      ]
     },
     "execution_count": 10,
     "metadata": {},
     "output_type": "execute_result"
    }
   ],
   "source": [
    "data.describe()"
   ]
  },
  {
   "cell_type": "markdown",
   "metadata": {},
   "source": [
    "After checking out again the statistic summary, now the min value of bodyfat is 0.7%. It is a very low value, so I am going to calculate this value in the same source as previously and update the value."
   ]
  },
  {
   "cell_type": "code",
   "execution_count": 11,
   "metadata": {},
   "outputs": [
    {
     "data": {
      "text/html": [
       "<div>\n",
       "<style scoped>\n",
       "    .dataframe tbody tr th:only-of-type {\n",
       "        vertical-align: middle;\n",
       "    }\n",
       "\n",
       "    .dataframe tbody tr th {\n",
       "        vertical-align: top;\n",
       "    }\n",
       "\n",
       "    .dataframe thead th {\n",
       "        text-align: right;\n",
       "    }\n",
       "</style>\n",
       "<table border=\"1\" class=\"dataframe\">\n",
       "  <thead>\n",
       "    <tr style=\"text-align: right;\">\n",
       "      <th></th>\n",
       "      <th>density</th>\n",
       "      <th>bodyfat</th>\n",
       "      <th>age</th>\n",
       "      <th>weight</th>\n",
       "      <th>height</th>\n",
       "      <th>neck</th>\n",
       "      <th>abdomen</th>\n",
       "      <th>knee</th>\n",
       "      <th>ankle</th>\n",
       "    </tr>\n",
       "  </thead>\n",
       "  <tbody>\n",
       "    <tr>\n",
       "      <th>171</th>\n",
       "      <td>1.0983</td>\n",
       "      <td>0.7</td>\n",
       "      <td>35</td>\n",
       "      <td>125.75</td>\n",
       "      <td>65.5</td>\n",
       "      <td>34.0</td>\n",
       "      <td>75.0</td>\n",
       "      <td>34.8</td>\n",
       "      <td>22.0</td>\n",
       "    </tr>\n",
       "  </tbody>\n",
       "</table>\n",
       "</div>"
      ],
      "text/plain": [
       "     density  bodyfat  age  weight  height  neck  abdomen  knee  ankle\n",
       "171   1.0983      0.7   35  125.75    65.5  34.0     75.0  34.8   22.0"
      ]
     },
     "execution_count": 11,
     "metadata": {},
     "output_type": "execute_result"
    }
   ],
   "source": [
    "data[data['bodyfat'] == 0.7]"
   ]
  },
  {
   "cell_type": "code",
   "execution_count": 12,
   "metadata": {},
   "outputs": [],
   "source": [
    "data.loc[171,'bodyfat'] = 13.5"
   ]
  },
  {
   "cell_type": "code",
   "execution_count": 13,
   "metadata": {},
   "outputs": [
    {
     "data": {
      "text/plain": [
       "density      1.0983\n",
       "bodyfat     13.5000\n",
       "age         35.0000\n",
       "weight     125.7500\n",
       "height      65.5000\n",
       "neck        34.0000\n",
       "abdomen     75.0000\n",
       "knee        34.8000\n",
       "ankle       22.0000\n",
       "Name: 171, dtype: float64"
      ]
     },
     "execution_count": 13,
     "metadata": {},
     "output_type": "execute_result"
    }
   ],
   "source": [
    "data.iloc[171]"
   ]
  },
  {
   "cell_type": "code",
   "execution_count": 14,
   "metadata": {},
   "outputs": [
    {
     "data": {
      "text/html": [
       "<div>\n",
       "<style scoped>\n",
       "    .dataframe tbody tr th:only-of-type {\n",
       "        vertical-align: middle;\n",
       "    }\n",
       "\n",
       "    .dataframe tbody tr th {\n",
       "        vertical-align: top;\n",
       "    }\n",
       "\n",
       "    .dataframe thead th {\n",
       "        text-align: right;\n",
       "    }\n",
       "</style>\n",
       "<table border=\"1\" class=\"dataframe\">\n",
       "  <thead>\n",
       "    <tr style=\"text-align: right;\">\n",
       "      <th></th>\n",
       "      <th>density</th>\n",
       "      <th>bodyfat</th>\n",
       "      <th>age</th>\n",
       "      <th>weight</th>\n",
       "      <th>height</th>\n",
       "      <th>neck</th>\n",
       "      <th>abdomen</th>\n",
       "      <th>knee</th>\n",
       "      <th>ankle</th>\n",
       "    </tr>\n",
       "  </thead>\n",
       "  <tbody>\n",
       "    <tr>\n",
       "      <th>count</th>\n",
       "      <td>252.000000</td>\n",
       "      <td>252.000000</td>\n",
       "      <td>252.000000</td>\n",
       "      <td>252.000000</td>\n",
       "      <td>252.000000</td>\n",
       "      <td>252.000000</td>\n",
       "      <td>252.000000</td>\n",
       "      <td>252.000000</td>\n",
       "      <td>252.000000</td>\n",
       "    </tr>\n",
       "    <tr>\n",
       "      <th>mean</th>\n",
       "      <td>1.055574</td>\n",
       "      <td>19.230952</td>\n",
       "      <td>44.884921</td>\n",
       "      <td>178.924405</td>\n",
       "      <td>70.148810</td>\n",
       "      <td>37.992063</td>\n",
       "      <td>92.555952</td>\n",
       "      <td>38.590476</td>\n",
       "      <td>23.102381</td>\n",
       "    </tr>\n",
       "    <tr>\n",
       "      <th>std</th>\n",
       "      <td>0.019031</td>\n",
       "      <td>8.239493</td>\n",
       "      <td>12.602040</td>\n",
       "      <td>29.389160</td>\n",
       "      <td>3.662856</td>\n",
       "      <td>2.430913</td>\n",
       "      <td>10.783077</td>\n",
       "      <td>2.411805</td>\n",
       "      <td>1.694893</td>\n",
       "    </tr>\n",
       "    <tr>\n",
       "      <th>min</th>\n",
       "      <td>0.995000</td>\n",
       "      <td>3.000000</td>\n",
       "      <td>22.000000</td>\n",
       "      <td>118.500000</td>\n",
       "      <td>29.500000</td>\n",
       "      <td>31.100000</td>\n",
       "      <td>69.400000</td>\n",
       "      <td>33.000000</td>\n",
       "      <td>19.100000</td>\n",
       "    </tr>\n",
       "    <tr>\n",
       "      <th>25%</th>\n",
       "      <td>1.041400</td>\n",
       "      <td>12.500000</td>\n",
       "      <td>35.750000</td>\n",
       "      <td>159.000000</td>\n",
       "      <td>68.250000</td>\n",
       "      <td>36.400000</td>\n",
       "      <td>84.575000</td>\n",
       "      <td>36.975000</td>\n",
       "      <td>22.000000</td>\n",
       "    </tr>\n",
       "    <tr>\n",
       "      <th>50%</th>\n",
       "      <td>1.054900</td>\n",
       "      <td>19.200000</td>\n",
       "      <td>43.000000</td>\n",
       "      <td>176.500000</td>\n",
       "      <td>70.000000</td>\n",
       "      <td>38.000000</td>\n",
       "      <td>90.950000</td>\n",
       "      <td>38.500000</td>\n",
       "      <td>22.800000</td>\n",
       "    </tr>\n",
       "    <tr>\n",
       "      <th>75%</th>\n",
       "      <td>1.070400</td>\n",
       "      <td>25.300000</td>\n",
       "      <td>54.000000</td>\n",
       "      <td>197.000000</td>\n",
       "      <td>72.250000</td>\n",
       "      <td>39.425000</td>\n",
       "      <td>99.325000</td>\n",
       "      <td>39.925000</td>\n",
       "      <td>24.000000</td>\n",
       "    </tr>\n",
       "    <tr>\n",
       "      <th>max</th>\n",
       "      <td>1.108900</td>\n",
       "      <td>47.500000</td>\n",
       "      <td>81.000000</td>\n",
       "      <td>363.150000</td>\n",
       "      <td>77.750000</td>\n",
       "      <td>51.200000</td>\n",
       "      <td>148.100000</td>\n",
       "      <td>49.100000</td>\n",
       "      <td>33.900000</td>\n",
       "    </tr>\n",
       "  </tbody>\n",
       "</table>\n",
       "</div>"
      ],
      "text/plain": [
       "          density     bodyfat         age      weight      height        neck  \\\n",
       "count  252.000000  252.000000  252.000000  252.000000  252.000000  252.000000   \n",
       "mean     1.055574   19.230952   44.884921  178.924405   70.148810   37.992063   \n",
       "std      0.019031    8.239493   12.602040   29.389160    3.662856    2.430913   \n",
       "min      0.995000    3.000000   22.000000  118.500000   29.500000   31.100000   \n",
       "25%      1.041400   12.500000   35.750000  159.000000   68.250000   36.400000   \n",
       "50%      1.054900   19.200000   43.000000  176.500000   70.000000   38.000000   \n",
       "75%      1.070400   25.300000   54.000000  197.000000   72.250000   39.425000   \n",
       "max      1.108900   47.500000   81.000000  363.150000   77.750000   51.200000   \n",
       "\n",
       "          abdomen        knee       ankle  \n",
       "count  252.000000  252.000000  252.000000  \n",
       "mean    92.555952   38.590476   23.102381  \n",
       "std     10.783077    2.411805    1.694893  \n",
       "min     69.400000   33.000000   19.100000  \n",
       "25%     84.575000   36.975000   22.000000  \n",
       "50%     90.950000   38.500000   22.800000  \n",
       "75%     99.325000   39.925000   24.000000  \n",
       "max    148.100000   49.100000   33.900000  "
      ]
     },
     "execution_count": 14,
     "metadata": {},
     "output_type": "execute_result"
    }
   ],
   "source": [
    "data.describe()"
   ]
  },
  {
   "cell_type": "markdown",
   "metadata": {},
   "source": [
    "For me this looks better."
   ]
  },
  {
   "cell_type": "markdown",
   "metadata": {},
   "source": [
    "##### Methods"
   ]
  },
  {
   "cell_type": "code",
   "execution_count": 15,
   "metadata": {},
   "outputs": [],
   "source": [
    "def scale_data(df, graph=False):\n",
    "    \n",
    "    \"\"\"\n",
    "        Scale data\n",
    "    \n",
    "    \"\"\"\n",
    "    # Now, I am going to scale the values. \n",
    "    scaler = StandardScaler()\n",
    "    std_df = scaler.fit_transform(df)\n",
    "    \n",
    "    if graph:\n",
    "        # The box plot shows how the scaled data is located.\n",
    "        sns.boxplot(data=pd.DataFrame(std_df, columns=df.columns, index=df.index))\n",
    "        plt.title(data_title + \" - Centered and scaled to unit variance\")\n",
    "        plt.show()\n",
    "    \n",
    "    return std_df\n",
    "    "
   ]
  },
  {
   "cell_type": "code",
   "execution_count": 16,
   "metadata": {},
   "outputs": [],
   "source": [
    "def compute_pca(df, std_df, num_comp=None):\n",
    "    \n",
    "    \"\"\"\n",
    "    \n",
    "    \"\"\"\n",
    "    \n",
    "    # Since the question is just asking for the first two principal components, I am going to create this two.\n",
    "    if num_comp==None:\n",
    "        num_comp = std_df.shape[1]\n",
    "    \n",
    "    pca = PCA(n_components=num_comp)\n",
    "    pca.fit(std_df)\n",
    "\n",
    "    # I am going to create a DataFrame to improve visualization of the PC1 and PC2\n",
    "    col_PCs = ['PC' + str(x) for x in range(1, pca.n_components_+1)]\n",
    "    PCs = pd.DataFrame(pca.components_.T, columns=col_PCs, index=df.columns)\n",
    "    \n",
    "    return (pca, PCs, col_PCs)"
   ]
  },
  {
   "cell_type": "code",
   "execution_count": 17,
   "metadata": {},
   "outputs": [],
   "source": [
    "def plot_barGraphPC(df, namePC='PC1', draw_average=False):\n",
    "    \"\"\"\n",
    "        Graph barplot\n",
    "        \n",
    "        Arguments:\n",
    "         df = DataFrame which contains Princpal Components\n",
    "         namePC = Name of PC which is going to be plotted. By default plots PC1.\n",
    "        \n",
    "    \"\"\"\n",
    "    \n",
    "    ylim = 0\n",
    "    addedlim = 0.25\n",
    "    \n",
    "    av_weight = math.sqrt(1/df.shape[1])\n",
    "    \n",
    "    negative_data = df.copy()\n",
    "    positive_data = df.copy()\n",
    "\n",
    "    negative_data.loc[negative_data[namePC]>0, namePC]=0\n",
    "    positive_data.loc[positive_data[namePC]<0, namePC]=0\n",
    "        \n",
    "    if positive_data[namePC].max() > abs(negative_data[namePC].min()):\n",
    "        ylim = positive_data[namePC].max()+addedlim        \n",
    "    else:\n",
    "        ylim = abs(negative_data[namePC].min())+addedlim\n",
    "        \n",
    "    fig = plt.figure()\n",
    "    ax = plt.subplot(111)\n",
    "    ax.bar(negative_data.index,negative_data[namePC], width=1, edgecolor='k', color='None')\n",
    "    ax.bar(negative_data.index,positive_data[namePC], width=1, edgecolor='k', color='None')\n",
    "    plt.axhline(0, color='k', linewidth=0.5)\n",
    "    plt.ylabel(namePC + \" component loadings\")\n",
    "    plt.ylim(-ylim, ylim)\n",
    "    \n",
    "    if draw_average:\n",
    "        plt.axhline(y=av_weight, linewidth=0.5, color='r')\n",
    "        plt.axhline(y=(-av_weight), linewidth=0.5, color='r')\n",
    "    \n",
    "    plt.title(data_title + \" - \" + namePC + \" loadings\")\n",
    "    plt.show()\n",
    "    \n",
    "    print(\"Average loading contribution:\", round(av_weight,2))\n",
    "    \n",
    "    df_avw = df[[namePC]].copy()\n",
    "    df_avw['above_average'] = np.where(abs(df_avw[namePC]) > av_weight,'x','')\n",
    "    return df_avw.sort_values(by=['above_average', namePC], ascending=False)\n",
    "    "
   ]
  },
  {
   "cell_type": "code",
   "execution_count": 18,
   "metadata": {},
   "outputs": [],
   "source": [
    "def plot_screeGraph(pca, cumulative=False):\n",
    "    \"\"\"\n",
    "        Scree Plot\n",
    "        \n",
    "        Arguments:\n",
    "            PC = pca object.\n",
    "            cumulative = if % shown as cumulative or not.\n",
    "        \n",
    "    \"\"\"\n",
    "    \n",
    "    PCs_exp = None\n",
    "    col_PCs = ['PC' + str(x) for x in range(1, pca.n_components_+1)]\n",
    "        \n",
    "    if cumulative:\n",
    "        PCs_exp = pd.Series(pca.explained_variance_ratio_.cumsum(), index=col_PCs)\n",
    "    else:\n",
    "        PCs_exp = pd.Series(pca.explained_variance_ratio_, index=col_PCs)\n",
    "    \n",
    "    fig, ax = plt.subplots()\n",
    "    plt.bar(PCs_exp.index, height=PCs_exp)\n",
    "    plt.title(data_title + \" - Scree Plot\")\n",
    "    plt.ylabel(\"% Variance Explained\")\n",
    "    plt.show()\n",
    "\n",
    "    fig, ax = plt.subplots()\n",
    "    plt.plot(PCs_exp)\n",
    "    plt.title(data_title + \" - Scree Plot\")\n",
    "    plt.ylabel(\"% Variance Explained\")\n",
    "    plt.show()\n",
    "            \n",
    "    return PCs_exp\n",
    "    "
   ]
  },
  {
   "cell_type": "markdown",
   "metadata": {},
   "source": [
    "## Section A\n",
    "Carry out a principal component analysis of the variables neck, abdomen, knee and ankle."
   ]
  },
  {
   "cell_type": "code",
   "execution_count": 19,
   "metadata": {},
   "outputs": [
    {
     "data": {
      "image/png": "[encoded data removed]",
      "text/plain": [
       "<Figure size 432x288 with 1 Axes>"
      ]
     },
     "metadata": {
      "needs_background": "light"
     },
     "output_type": "display_data"
    }
   ],
   "source": [
    "# Select columns that I am interested in and create new variable.\n",
    "cols = ['neck', 'abdomen', 'knee', 'ankle']\n",
    "bfat = data[cols].copy()\n",
    "\n",
    "# Ploting the raw data location.\n",
    "sns.boxplot(data=bfat)\n",
    "plt.title(\"Raw data\")\n",
    "plt.show()"
   ]
  },
  {
   "cell_type": "markdown",
   "metadata": {},
   "source": [
    "##### Scaling"
   ]
  },
  {
   "cell_type": "code",
   "execution_count": 20,
   "metadata": {},
   "outputs": [
    {
     "data": {
      "image/png": "[encoded data removed]",
      "text/plain": [
       "<Figure size 432x288 with 1 Axes>"
      ]
     },
     "metadata": {
      "needs_background": "light"
     },
     "output_type": "display_data"
    }
   ],
   "source": [
    "std_bfat = scale_data(bfat, True)"
   ]
  },
  {
   "cell_type": "markdown",
   "metadata": {},
   "source": [
    "##### Principal Components"
   ]
  },
  {
   "cell_type": "code",
   "execution_count": 21,
   "metadata": {},
   "outputs": [],
   "source": [
    "pca_fit, PCs_bfat, col_PCs = compute_pca(bfat, std_bfat)"
   ]
  },
  {
   "cell_type": "code",
   "execution_count": 22,
   "metadata": {},
   "outputs": [
    {
     "data": {
      "text/html": [
       "<div>\n",
       "<style scoped>\n",
       "    .dataframe tbody tr th:only-of-type {\n",
       "        vertical-align: middle;\n",
       "    }\n",
       "\n",
       "    .dataframe tbody tr th {\n",
       "        vertical-align: top;\n",
       "    }\n",
       "\n",
       "    .dataframe thead th {\n",
       "        text-align: right;\n",
       "    }\n",
       "</style>\n",
       "<table border=\"1\" class=\"dataframe\">\n",
       "  <thead>\n",
       "    <tr style=\"text-align: right;\">\n",
       "      <th></th>\n",
       "      <th>PC1</th>\n",
       "      <th>PC2</th>\n",
       "      <th>PC3</th>\n",
       "      <th>PC4</th>\n",
       "    </tr>\n",
       "  </thead>\n",
       "  <tbody>\n",
       "    <tr>\n",
       "      <th>neck</th>\n",
       "      <td>0.511495</td>\n",
       "      <td>-0.355366</td>\n",
       "      <td>-0.683611</td>\n",
       "      <td>-0.380478</td>\n",
       "    </tr>\n",
       "    <tr>\n",
       "      <th>abdomen</th>\n",
       "      <td>0.520551</td>\n",
       "      <td>-0.401773</td>\n",
       "      <td>0.193023</td>\n",
       "      <td>0.728249</td>\n",
       "    </tr>\n",
       "    <tr>\n",
       "      <th>knee</th>\n",
       "      <td>0.530718</td>\n",
       "      <td>0.052545</td>\n",
       "      <td>0.662521</td>\n",
       "      <td>-0.525969</td>\n",
       "    </tr>\n",
       "    <tr>\n",
       "      <th>ankle</th>\n",
       "      <td>0.430973</td>\n",
       "      <td>0.842337</td>\n",
       "      <td>-0.237663</td>\n",
       "      <td>0.219649</td>\n",
       "    </tr>\n",
       "  </tbody>\n",
       "</table>\n",
       "</div>"
      ],
      "text/plain": [
       "              PC1       PC2       PC3       PC4\n",
       "neck     0.511495 -0.355366 -0.683611 -0.380478\n",
       "abdomen  0.520551 -0.401773  0.193023  0.728249\n",
       "knee     0.530718  0.052545  0.662521 -0.525969\n",
       "ankle    0.430973  0.842337 -0.237663  0.219649"
      ]
     },
     "execution_count": 22,
     "metadata": {},
     "output_type": "execute_result"
    }
   ],
   "source": [
    "PCs_bfat"
   ]
  },
  {
   "cell_type": "markdown",
   "metadata": {},
   "source": [
    "##### First Principal Component"
   ]
  },
  {
   "cell_type": "code",
   "execution_count": 23,
   "metadata": {
    "scrolled": true
   },
   "outputs": [
    {
     "data": {
      "image/png": "[encoded data removed]",
      "text/plain": [
       "<Figure size 432x288 with 1 Axes>"
      ]
     },
     "metadata": {
      "needs_background": "light"
     },
     "output_type": "display_data"
    },
    {
     "name": "stdout",
     "output_type": "stream",
     "text": [
      "Average loading contribution: 0.5\n"
     ]
    },
    {
     "data": {
      "text/html": [
       "<div>\n",
       "<style scoped>\n",
       "    .dataframe tbody tr th:only-of-type {\n",
       "        vertical-align: middle;\n",
       "    }\n",
       "\n",
       "    .dataframe tbody tr th {\n",
       "        vertical-align: top;\n",
       "    }\n",
       "\n",
       "    .dataframe thead th {\n",
       "        text-align: right;\n",
       "    }\n",
       "</style>\n",
       "<table border=\"1\" class=\"dataframe\">\n",
       "  <thead>\n",
       "    <tr style=\"text-align: right;\">\n",
       "      <th></th>\n",
       "      <th>PC1</th>\n",
       "      <th>above_average</th>\n",
       "    </tr>\n",
       "  </thead>\n",
       "  <tbody>\n",
       "    <tr>\n",
       "      <th>knee</th>\n",
       "      <td>0.530718</td>\n",
       "      <td>x</td>\n",
       "    </tr>\n",
       "    <tr>\n",
       "      <th>abdomen</th>\n",
       "      <td>0.520551</td>\n",
       "      <td>x</td>\n",
       "    </tr>\n",
       "    <tr>\n",
       "      <th>neck</th>\n",
       "      <td>0.511495</td>\n",
       "      <td>x</td>\n",
       "    </tr>\n",
       "    <tr>\n",
       "      <th>ankle</th>\n",
       "      <td>0.430973</td>\n",
       "      <td></td>\n",
       "    </tr>\n",
       "  </tbody>\n",
       "</table>\n",
       "</div>"
      ],
      "text/plain": [
       "              PC1 above_average\n",
       "knee     0.530718             x\n",
       "abdomen  0.520551             x\n",
       "neck     0.511495             x\n",
       "ankle    0.430973              "
      ]
     },
     "execution_count": 23,
     "metadata": {},
     "output_type": "execute_result"
    }
   ],
   "source": [
    "plot_barGraphPC(PCs_bfat)"
   ]
  },
  {
   "cell_type": "markdown",
   "metadata": {},
   "source": [
    "##### Second Principal Component"
   ]
  },
  {
   "cell_type": "code",
   "execution_count": 24,
   "metadata": {
    "scrolled": true
   },
   "outputs": [
    {
     "data": {
      "image/png": "[encoded data removed]",
      "text/plain": [
       "<Figure size 432x288 with 1 Axes>"
      ]
     },
     "metadata": {
      "needs_background": "light"
     },
     "output_type": "display_data"
    },
    {
     "name": "stdout",
     "output_type": "stream",
     "text": [
      "Average loading contribution: 0.5\n"
     ]
    },
    {
     "data": {
      "text/html": [
       "<div>\n",
       "<style scoped>\n",
       "    .dataframe tbody tr th:only-of-type {\n",
       "        vertical-align: middle;\n",
       "    }\n",
       "\n",
       "    .dataframe tbody tr th {\n",
       "        vertical-align: top;\n",
       "    }\n",
       "\n",
       "    .dataframe thead th {\n",
       "        text-align: right;\n",
       "    }\n",
       "</style>\n",
       "<table border=\"1\" class=\"dataframe\">\n",
       "  <thead>\n",
       "    <tr style=\"text-align: right;\">\n",
       "      <th></th>\n",
       "      <th>PC2</th>\n",
       "      <th>above_average</th>\n",
       "    </tr>\n",
       "  </thead>\n",
       "  <tbody>\n",
       "    <tr>\n",
       "      <th>ankle</th>\n",
       "      <td>0.842337</td>\n",
       "      <td>x</td>\n",
       "    </tr>\n",
       "    <tr>\n",
       "      <th>knee</th>\n",
       "      <td>0.052545</td>\n",
       "      <td></td>\n",
       "    </tr>\n",
       "    <tr>\n",
       "      <th>neck</th>\n",
       "      <td>-0.355366</td>\n",
       "      <td></td>\n",
       "    </tr>\n",
       "    <tr>\n",
       "      <th>abdomen</th>\n",
       "      <td>-0.401773</td>\n",
       "      <td></td>\n",
       "    </tr>\n",
       "  </tbody>\n",
       "</table>\n",
       "</div>"
      ],
      "text/plain": [
       "              PC2 above_average\n",
       "ankle    0.842337             x\n",
       "knee     0.052545              \n",
       "neck    -0.355366              \n",
       "abdomen -0.401773              "
      ]
     },
     "execution_count": 24,
     "metadata": {},
     "output_type": "execute_result"
    }
   ],
   "source": [
    "plot_barGraphPC(PCs_bfat, 'PC2')"
   ]
  },
  {
   "cell_type": "markdown",
   "metadata": {},
   "source": [
    "##### Ploting Explained Variance"
   ]
  },
  {
   "cell_type": "code",
   "execution_count": 25,
   "metadata": {},
   "outputs": [
    {
     "data": {
      "image/png": "[encoded data removed]",
      "text/plain": [
       "<Figure size 432x288 with 1 Axes>"
      ]
     },
     "metadata": {
      "needs_background": "light"
     },
     "output_type": "display_data"
    },
    {
     "data": {
      "image/png": "[encoded data removed]",
      "text/plain": [
       "<Figure size 432x288 with 1 Axes>"
      ]
     },
     "metadata": {
      "needs_background": "light"
     },
     "output_type": "display_data"
    },
    {
     "data": {
      "text/plain": [
       "PC1    0.716941\n",
       "PC2    0.155091\n",
       "PC3    0.075391\n",
       "PC4    0.052577\n",
       "dtype: float64"
      ]
     },
     "execution_count": 25,
     "metadata": {},
     "output_type": "execute_result"
    }
   ],
   "source": [
    "plot_screeGraph(pca_fit)"
   ]
  },
  {
   "cell_type": "code",
   "execution_count": 26,
   "metadata": {},
   "outputs": [
    {
     "data": {
      "image/png": "[encoded data removed]",
      "text/plain": [
       "<Figure size 432x288 with 1 Axes>"
      ]
     },
     "metadata": {
      "needs_background": "light"
     },
     "output_type": "display_data"
    },
    {
     "data": {
      "image/png": "[encoded data removed]",
      "text/plain": [
       "<Figure size 432x288 with 1 Axes>"
      ]
     },
     "metadata": {
      "needs_background": "light"
     },
     "output_type": "display_data"
    },
    {
     "data": {
      "text/plain": [
       "PC1    0.716941\n",
       "PC2    0.872032\n",
       "PC3    0.947423\n",
       "PC4    1.000000\n",
       "dtype: float64"
      ]
     },
     "execution_count": 26,
     "metadata": {},
     "output_type": "execute_result"
    }
   ],
   "source": [
    "plot_screeGraph(pca_fit, True)"
   ]
  },
  {
   "cell_type": "markdown",
   "metadata": {},
   "source": [
    "##### Plotting PC1 and PC2"
   ]
  },
  {
   "cell_type": "code",
   "execution_count": 27,
   "metadata": {},
   "outputs": [
    {
     "data": {
      "image/png": "[encoded data removed]",
      "text/plain": [
       "<Figure size 432x288 with 1 Axes>"
      ]
     },
     "metadata": {
      "needs_background": "light"
     },
     "output_type": "display_data"
    }
   ],
   "source": [
    "# Plot PC1 and PC2 in boxplot\n",
    "ft_bfat=pd.DataFrame(pca_fit.transform(std_bfat), columns=col_PCs)\n",
    "\n",
    "sns.boxplot(data=ft_bfat.iloc[:,:2])\n",
    "plt.ylabel(\"Scores\")\n",
    "plt.title(data_title + \" - Principal Components\")\n",
    "plt.show()"
   ]
  },
  {
   "cell_type": "code",
   "execution_count": 28,
   "metadata": {},
   "outputs": [
    {
     "data": {
      "image/png": "[encoded data removed]",
      "text/plain": [
       "<Figure size 432x288 with 1 Axes>"
      ]
     },
     "metadata": {
      "needs_background": "light"
     },
     "output_type": "display_data"
    }
   ],
   "source": [
    "# Plot PC1 and PC2 in scatterplot\n",
    "fig, ax = plt.subplots()\n",
    "plt.scatter(ft_bfat.loc[:,\"PC1\"], ft_bfat.loc[:,\"PC2\"])\n",
    "plt.ylabel(\"2nd Principal Component Scores\")\n",
    "plt.xlabel(\"1st Principal Component Scores\")\n",
    "plt.title(data_title + \" - Principal Components\")\n",
    "plt.show()"
   ]
  },
  {
   "cell_type": "code",
   "execution_count": 29,
   "metadata": {},
   "outputs": [
    {
     "name": "stdout",
     "output_type": "stream",
     "text": [
      "1 outliers in PC1: [9.44]\n",
      "6 outliers in PC2: [-1.83, -1.67, 5.42, 5.59, 2.06, 1.62]\n"
     ]
    }
   ],
   "source": [
    "# Identify outliers\n",
    "for c in ['PC1', 'PC2']:\n",
    "    outliers = [round(stat,2) for stat in boxplot_stats(ft_bfat[c])[0]['fliers']]\n",
    "    print(str(len(outliers)) +\" outliers in \" + c + \":\", outliers)"
   ]
  },
  {
   "cell_type": "markdown",
   "metadata": {},
   "source": [
    "## Section B\n",
    "Omitting any outliers identified in part a), carry out a principal components analysis of the variables neck, abdomen, knee and ankle."
   ]
  },
  {
   "cell_type": "code",
   "execution_count": 30,
   "metadata": {},
   "outputs": [
    {
     "data": {
      "text/html": [
       "<div>\n",
       "<style scoped>\n",
       "    .dataframe tbody tr th:only-of-type {\n",
       "        vertical-align: middle;\n",
       "    }\n",
       "\n",
       "    .dataframe tbody tr th {\n",
       "        vertical-align: top;\n",
       "    }\n",
       "\n",
       "    .dataframe thead th {\n",
       "        text-align: right;\n",
       "    }\n",
       "</style>\n",
       "<table border=\"1\" class=\"dataframe\">\n",
       "  <thead>\n",
       "    <tr style=\"text-align: right;\">\n",
       "      <th></th>\n",
       "      <th>neck</th>\n",
       "      <th>abdomen</th>\n",
       "      <th>knee</th>\n",
       "      <th>ankle</th>\n",
       "      <th>PC1</th>\n",
       "      <th>PC2</th>\n",
       "      <th>PC3</th>\n",
       "      <th>PC4</th>\n",
       "    </tr>\n",
       "  </thead>\n",
       "  <tbody>\n",
       "    <tr>\n",
       "      <th>0</th>\n",
       "      <td>36.2</td>\n",
       "      <td>85.2</td>\n",
       "      <td>37.3</td>\n",
       "      <td>21.9</td>\n",
       "      <td>-1.324519</td>\n",
       "      <td>-0.089805</td>\n",
       "      <td>0.186761</td>\n",
       "      <td>-0.090881</td>\n",
       "    </tr>\n",
       "    <tr>\n",
       "      <th>1</th>\n",
       "      <td>38.5</td>\n",
       "      <td>83.0</td>\n",
       "      <td>37.3</td>\n",
       "      <td>23.4</td>\n",
       "      <td>-0.563847</td>\n",
       "      <td>0.402394</td>\n",
       "      <td>-0.711535</td>\n",
       "      <td>-0.405682</td>\n",
       "    </tr>\n",
       "    <tr>\n",
       "      <th>2</th>\n",
       "      <td>34.0</td>\n",
       "      <td>87.9</td>\n",
       "      <td>38.9</td>\n",
       "      <td>24.0</td>\n",
       "      <td>-0.769920</td>\n",
       "      <td>1.212318</td>\n",
       "      <td>1.000433</td>\n",
       "      <td>0.359919</td>\n",
       "    </tr>\n",
       "    <tr>\n",
       "      <th>3</th>\n",
       "      <td>37.4</td>\n",
       "      <td>86.4</td>\n",
       "      <td>37.3</td>\n",
       "      <td>22.8</td>\n",
       "      <td>-0.784171</td>\n",
       "      <td>0.137800</td>\n",
       "      <td>-0.256298</td>\n",
       "      <td>-0.081002</td>\n",
       "    </tr>\n",
       "    <tr>\n",
       "      <th>4</th>\n",
       "      <td>34.4</td>\n",
       "      <td>100.0</td>\n",
       "      <td>42.2</td>\n",
       "      <td>24.0</td>\n",
       "      <td>0.627312</td>\n",
       "      <td>0.774028</td>\n",
       "      <td>2.013062</td>\n",
       "      <td>0.394903</td>\n",
       "    </tr>\n",
       "    <tr>\n",
       "      <th>...</th>\n",
       "      <td>...</td>\n",
       "      <td>...</td>\n",
       "      <td>...</td>\n",
       "      <td>...</td>\n",
       "      <td>...</td>\n",
       "      <td>...</td>\n",
       "      <td>...</td>\n",
       "      <td>...</td>\n",
       "    </tr>\n",
       "    <tr>\n",
       "      <th>247</th>\n",
       "      <td>34.9</td>\n",
       "      <td>83.6</td>\n",
       "      <td>34.8</td>\n",
       "      <td>21.5</td>\n",
       "      <td>-2.329127</td>\n",
       "      <td>-0.093415</td>\n",
       "      <td>-0.107542</td>\n",
       "      <td>0.499069</td>\n",
       "    </tr>\n",
       "    <tr>\n",
       "      <th>248</th>\n",
       "      <td>40.9</td>\n",
       "      <td>105.0</td>\n",
       "      <td>40.8</td>\n",
       "      <td>23.2</td>\n",
       "      <td>1.727059</td>\n",
       "      <td>-0.793684</td>\n",
       "      <td>-0.001740</td>\n",
       "      <td>-0.084087</td>\n",
       "    </tr>\n",
       "    <tr>\n",
       "      <th>249</th>\n",
       "      <td>38.9</td>\n",
       "      <td>111.5</td>\n",
       "      <td>37.3</td>\n",
       "      <td>21.5</td>\n",
       "      <td>0.414967</td>\n",
       "      <td>-1.666360</td>\n",
       "      <td>-0.046111</td>\n",
       "      <td>1.213482</td>\n",
       "    </tr>\n",
       "    <tr>\n",
       "      <th>250</th>\n",
       "      <td>38.9</td>\n",
       "      <td>101.3</td>\n",
       "      <td>41.6</td>\n",
       "      <td>22.7</td>\n",
       "      <td>1.175423</td>\n",
       "      <td>-0.594118</td>\n",
       "      <td>0.785895</td>\n",
       "      <td>-0.260551</td>\n",
       "    </tr>\n",
       "    <tr>\n",
       "      <th>251</th>\n",
       "      <td>40.8</td>\n",
       "      <td>108.5</td>\n",
       "      <td>42.2</td>\n",
       "      <td>24.6</td>\n",
       "      <td>2.540655</td>\n",
       "      <td>-0.181978</td>\n",
       "      <td>0.277855</td>\n",
       "      <td>0.044316</td>\n",
       "    </tr>\n",
       "  </tbody>\n",
       "</table>\n",
       "<p>252 rows × 8 columns</p>\n",
       "</div>"
      ],
      "text/plain": [
       "     neck  abdomen  knee  ankle       PC1       PC2       PC3       PC4\n",
       "0    36.2     85.2  37.3   21.9 -1.324519 -0.089805  0.186761 -0.090881\n",
       "1    38.5     83.0  37.3   23.4 -0.563847  0.402394 -0.711535 -0.405682\n",
       "2    34.0     87.9  38.9   24.0 -0.769920  1.212318  1.000433  0.359919\n",
       "3    37.4     86.4  37.3   22.8 -0.784171  0.137800 -0.256298 -0.081002\n",
       "4    34.4    100.0  42.2   24.0  0.627312  0.774028  2.013062  0.394903\n",
       "..    ...      ...   ...    ...       ...       ...       ...       ...\n",
       "247  34.9     83.6  34.8   21.5 -2.329127 -0.093415 -0.107542  0.499069\n",
       "248  40.9    105.0  40.8   23.2  1.727059 -0.793684 -0.001740 -0.084087\n",
       "249  38.9    111.5  37.3   21.5  0.414967 -1.666360 -0.046111  1.213482\n",
       "250  38.9    101.3  41.6   22.7  1.175423 -0.594118  0.785895 -0.260551\n",
       "251  40.8    108.5  42.2   24.6  2.540655 -0.181978  0.277855  0.044316\n",
       "\n",
       "[252 rows x 8 columns]"
      ]
     },
     "execution_count": 30,
     "metadata": {},
     "output_type": "execute_result"
    }
   ],
   "source": [
    "# Create a new DataFrame which contains variables neck abdomen, knee, ankle and all PCs\n",
    "bfat_b = pd.concat([bfat, ft_bfat], axis=1)\n",
    "bfat_b"
   ]
  },
  {
   "cell_type": "code",
   "execution_count": 31,
   "metadata": {},
   "outputs": [
    {
     "name": "stdout",
     "output_type": "stream",
     "text": [
      "1 outliers removed. PC1 [9.444073147399434]\n",
      "6 outliers removed. PC2 [-1.834033297677378, -1.66636004797309, 5.419591139081526, 5.585265243880325, 2.0600648759719897, 1.6159726061121604]\n"
     ]
    }
   ],
   "source": [
    "# Remove outliers\n",
    "for c in ['PC1', 'PC2']:\n",
    "    outliers = [stat for stat in boxplot_stats(bfat_b[c])[0]['fliers']]\n",
    "    bfat_b.drop(index=bfat_b[bfat_b[c].isin(outliers)].index.values, inplace=True)\n",
    "    print(str(len(outliers))+\" outliers removed.\", c, outliers)\n"
   ]
  },
  {
   "cell_type": "code",
   "execution_count": 32,
   "metadata": {},
   "outputs": [
    {
     "data": {
      "text/html": [
       "<div>\n",
       "<style scoped>\n",
       "    .dataframe tbody tr th:only-of-type {\n",
       "        vertical-align: middle;\n",
       "    }\n",
       "\n",
       "    .dataframe tbody tr th {\n",
       "        vertical-align: top;\n",
       "    }\n",
       "\n",
       "    .dataframe thead th {\n",
       "        text-align: right;\n",
       "    }\n",
       "</style>\n",
       "<table border=\"1\" class=\"dataframe\">\n",
       "  <thead>\n",
       "    <tr style=\"text-align: right;\">\n",
       "      <th></th>\n",
       "      <th>neck</th>\n",
       "      <th>abdomen</th>\n",
       "      <th>knee</th>\n",
       "      <th>ankle</th>\n",
       "    </tr>\n",
       "  </thead>\n",
       "  <tbody>\n",
       "    <tr>\n",
       "      <th>0</th>\n",
       "      <td>36.2</td>\n",
       "      <td>85.2</td>\n",
       "      <td>37.3</td>\n",
       "      <td>21.9</td>\n",
       "    </tr>\n",
       "    <tr>\n",
       "      <th>1</th>\n",
       "      <td>38.5</td>\n",
       "      <td>83.0</td>\n",
       "      <td>37.3</td>\n",
       "      <td>23.4</td>\n",
       "    </tr>\n",
       "    <tr>\n",
       "      <th>2</th>\n",
       "      <td>34.0</td>\n",
       "      <td>87.9</td>\n",
       "      <td>38.9</td>\n",
       "      <td>24.0</td>\n",
       "    </tr>\n",
       "    <tr>\n",
       "      <th>3</th>\n",
       "      <td>37.4</td>\n",
       "      <td>86.4</td>\n",
       "      <td>37.3</td>\n",
       "      <td>22.8</td>\n",
       "    </tr>\n",
       "    <tr>\n",
       "      <th>4</th>\n",
       "      <td>34.4</td>\n",
       "      <td>100.0</td>\n",
       "      <td>42.2</td>\n",
       "      <td>24.0</td>\n",
       "    </tr>\n",
       "    <tr>\n",
       "      <th>...</th>\n",
       "      <td>...</td>\n",
       "      <td>...</td>\n",
       "      <td>...</td>\n",
       "      <td>...</td>\n",
       "    </tr>\n",
       "    <tr>\n",
       "      <th>246</th>\n",
       "      <td>40.8</td>\n",
       "      <td>107.6</td>\n",
       "      <td>44.0</td>\n",
       "      <td>22.6</td>\n",
       "    </tr>\n",
       "    <tr>\n",
       "      <th>247</th>\n",
       "      <td>34.9</td>\n",
       "      <td>83.6</td>\n",
       "      <td>34.8</td>\n",
       "      <td>21.5</td>\n",
       "    </tr>\n",
       "    <tr>\n",
       "      <th>248</th>\n",
       "      <td>40.9</td>\n",
       "      <td>105.0</td>\n",
       "      <td>40.8</td>\n",
       "      <td>23.2</td>\n",
       "    </tr>\n",
       "    <tr>\n",
       "      <th>250</th>\n",
       "      <td>38.9</td>\n",
       "      <td>101.3</td>\n",
       "      <td>41.6</td>\n",
       "      <td>22.7</td>\n",
       "    </tr>\n",
       "    <tr>\n",
       "      <th>251</th>\n",
       "      <td>40.8</td>\n",
       "      <td>108.5</td>\n",
       "      <td>42.2</td>\n",
       "      <td>24.6</td>\n",
       "    </tr>\n",
       "  </tbody>\n",
       "</table>\n",
       "<p>245 rows × 4 columns</p>\n",
       "</div>"
      ],
      "text/plain": [
       "     neck  abdomen  knee  ankle\n",
       "0    36.2     85.2  37.3   21.9\n",
       "1    38.5     83.0  37.3   23.4\n",
       "2    34.0     87.9  38.9   24.0\n",
       "3    37.4     86.4  37.3   22.8\n",
       "4    34.4    100.0  42.2   24.0\n",
       "..    ...      ...   ...    ...\n",
       "246  40.8    107.6  44.0   22.6\n",
       "247  34.9     83.6  34.8   21.5\n",
       "248  40.9    105.0  40.8   23.2\n",
       "250  38.9    101.3  41.6   22.7\n",
       "251  40.8    108.5  42.2   24.6\n",
       "\n",
       "[245 rows x 4 columns]"
      ]
     },
     "execution_count": 32,
     "metadata": {},
     "output_type": "execute_result"
    }
   ],
   "source": [
    "# Remove PCs columns\n",
    "bfat_b.drop(columns=col_PCs, inplace=True)\n",
    "bfat_b"
   ]
  },
  {
   "cell_type": "markdown",
   "metadata": {},
   "source": [
    "##### Scaling"
   ]
  },
  {
   "cell_type": "code",
   "execution_count": 33,
   "metadata": {},
   "outputs": [
    {
     "data": {
      "image/png": "[encoded data removed]",
      "text/plain": [
       "<Figure size 432x288 with 1 Axes>"
      ]
     },
     "metadata": {
      "needs_background": "light"
     },
     "output_type": "display_data"
    }
   ],
   "source": [
    "std_bfat_b = scale_data(bfat_b, True)"
   ]
  },
  {
   "cell_type": "markdown",
   "metadata": {},
   "source": [
    "##### Principal Component Analysis"
   ]
  },
  {
   "cell_type": "code",
   "execution_count": 34,
   "metadata": {},
   "outputs": [],
   "source": [
    "pca_fit_b, PCs_bfat_b, col_PCs = compute_pca(bfat_b, std_bfat_b)"
   ]
  },
  {
   "cell_type": "code",
   "execution_count": 35,
   "metadata": {},
   "outputs": [
    {
     "data": {
      "text/html": [
       "<div>\n",
       "<style scoped>\n",
       "    .dataframe tbody tr th:only-of-type {\n",
       "        vertical-align: middle;\n",
       "    }\n",
       "\n",
       "    .dataframe tbody tr th {\n",
       "        vertical-align: top;\n",
       "    }\n",
       "\n",
       "    .dataframe thead th {\n",
       "        text-align: right;\n",
       "    }\n",
       "</style>\n",
       "<table border=\"1\" class=\"dataframe\">\n",
       "  <thead>\n",
       "    <tr style=\"text-align: right;\">\n",
       "      <th></th>\n",
       "      <th>PC1</th>\n",
       "      <th>PC2</th>\n",
       "      <th>PC3</th>\n",
       "      <th>PC4</th>\n",
       "    </tr>\n",
       "  </thead>\n",
       "  <tbody>\n",
       "    <tr>\n",
       "      <th>neck</th>\n",
       "      <td>0.495000</td>\n",
       "      <td>0.465524</td>\n",
       "      <td>-0.685214</td>\n",
       "      <td>-0.262191</td>\n",
       "    </tr>\n",
       "    <tr>\n",
       "      <th>abdomen</th>\n",
       "      <td>0.503594</td>\n",
       "      <td>0.473009</td>\n",
       "      <td>0.477423</td>\n",
       "      <td>0.542883</td>\n",
       "    </tr>\n",
       "    <tr>\n",
       "      <th>knee</th>\n",
       "      <td>0.520600</td>\n",
       "      <td>-0.250349</td>\n",
       "      <td>0.463184</td>\n",
       "      <td>-0.672132</td>\n",
       "    </tr>\n",
       "    <tr>\n",
       "      <th>ankle</th>\n",
       "      <td>0.479941</td>\n",
       "      <td>-0.704894</td>\n",
       "      <td>-0.296663</td>\n",
       "      <td>0.429852</td>\n",
       "    </tr>\n",
       "  </tbody>\n",
       "</table>\n",
       "</div>"
      ],
      "text/plain": [
       "              PC1       PC2       PC3       PC4\n",
       "neck     0.495000  0.465524 -0.685214 -0.262191\n",
       "abdomen  0.503594  0.473009  0.477423  0.542883\n",
       "knee     0.520600 -0.250349  0.463184 -0.672132\n",
       "ankle    0.479941 -0.704894 -0.296663  0.429852"
      ]
     },
     "execution_count": 35,
     "metadata": {},
     "output_type": "execute_result"
    }
   ],
   "source": [
    "PCs_bfat_b"
   ]
  },
  {
   "cell_type": "markdown",
   "metadata": {},
   "source": [
    "##### First Principal Component "
   ]
  },
  {
   "cell_type": "code",
   "execution_count": 36,
   "metadata": {},
   "outputs": [
    {
     "data": {
      "image/png": "[encoded data removed]",
      "text/plain": [
       "<Figure size 432x288 with 1 Axes>"
      ]
     },
     "metadata": {
      "needs_background": "light"
     },
     "output_type": "display_data"
    },
    {
     "name": "stdout",
     "output_type": "stream",
     "text": [
      "Average loading contribution: 0.5\n"
     ]
    },
    {
     "data": {
      "text/html": [
       "<div>\n",
       "<style scoped>\n",
       "    .dataframe tbody tr th:only-of-type {\n",
       "        vertical-align: middle;\n",
       "    }\n",
       "\n",
       "    .dataframe tbody tr th {\n",
       "        vertical-align: top;\n",
       "    }\n",
       "\n",
       "    .dataframe thead th {\n",
       "        text-align: right;\n",
       "    }\n",
       "</style>\n",
       "<table border=\"1\" class=\"dataframe\">\n",
       "  <thead>\n",
       "    <tr style=\"text-align: right;\">\n",
       "      <th></th>\n",
       "      <th>PC1</th>\n",
       "      <th>above_average</th>\n",
       "    </tr>\n",
       "  </thead>\n",
       "  <tbody>\n",
       "    <tr>\n",
       "      <th>knee</th>\n",
       "      <td>0.520600</td>\n",
       "      <td>x</td>\n",
       "    </tr>\n",
       "    <tr>\n",
       "      <th>abdomen</th>\n",
       "      <td>0.503594</td>\n",
       "      <td>x</td>\n",
       "    </tr>\n",
       "    <tr>\n",
       "      <th>neck</th>\n",
       "      <td>0.495000</td>\n",
       "      <td></td>\n",
       "    </tr>\n",
       "    <tr>\n",
       "      <th>ankle</th>\n",
       "      <td>0.479941</td>\n",
       "      <td></td>\n",
       "    </tr>\n",
       "  </tbody>\n",
       "</table>\n",
       "</div>"
      ],
      "text/plain": [
       "              PC1 above_average\n",
       "knee     0.520600             x\n",
       "abdomen  0.503594             x\n",
       "neck     0.495000              \n",
       "ankle    0.479941              "
      ]
     },
     "execution_count": 36,
     "metadata": {},
     "output_type": "execute_result"
    }
   ],
   "source": [
    "plot_barGraphPC(PCs_bfat_b,'PC1')"
   ]
  },
  {
   "cell_type": "markdown",
   "metadata": {},
   "source": [
    "##### Second Principal Component"
   ]
  },
  {
   "cell_type": "code",
   "execution_count": 37,
   "metadata": {},
   "outputs": [
    {
     "data": {
      "image/png": "[encoded data removed]",
      "text/plain": [
       "<Figure size 432x288 with 1 Axes>"
      ]
     },
     "metadata": {
      "needs_background": "light"
     },
     "output_type": "display_data"
    },
    {
     "name": "stdout",
     "output_type": "stream",
     "text": [
      "Average loading contribution: 0.5\n"
     ]
    },
    {
     "data": {
      "text/html": [
       "<div>\n",
       "<style scoped>\n",
       "    .dataframe tbody tr th:only-of-type {\n",
       "        vertical-align: middle;\n",
       "    }\n",
       "\n",
       "    .dataframe tbody tr th {\n",
       "        vertical-align: top;\n",
       "    }\n",
       "\n",
       "    .dataframe thead th {\n",
       "        text-align: right;\n",
       "    }\n",
       "</style>\n",
       "<table border=\"1\" class=\"dataframe\">\n",
       "  <thead>\n",
       "    <tr style=\"text-align: right;\">\n",
       "      <th></th>\n",
       "      <th>PC2</th>\n",
       "      <th>above_average</th>\n",
       "    </tr>\n",
       "  </thead>\n",
       "  <tbody>\n",
       "    <tr>\n",
       "      <th>ankle</th>\n",
       "      <td>-0.704894</td>\n",
       "      <td>x</td>\n",
       "    </tr>\n",
       "    <tr>\n",
       "      <th>abdomen</th>\n",
       "      <td>0.473009</td>\n",
       "      <td></td>\n",
       "    </tr>\n",
       "    <tr>\n",
       "      <th>neck</th>\n",
       "      <td>0.465524</td>\n",
       "      <td></td>\n",
       "    </tr>\n",
       "    <tr>\n",
       "      <th>knee</th>\n",
       "      <td>-0.250349</td>\n",
       "      <td></td>\n",
       "    </tr>\n",
       "  </tbody>\n",
       "</table>\n",
       "</div>"
      ],
      "text/plain": [
       "              PC2 above_average\n",
       "ankle   -0.704894             x\n",
       "abdomen  0.473009              \n",
       "neck     0.465524              \n",
       "knee    -0.250349              "
      ]
     },
     "execution_count": 37,
     "metadata": {},
     "output_type": "execute_result"
    }
   ],
   "source": [
    "plot_barGraphPC(PCs_bfat_b,'PC2')"
   ]
  },
  {
   "cell_type": "markdown",
   "metadata": {},
   "source": [
    "##### Ploting Explained Variance"
   ]
  },
  {
   "cell_type": "code",
   "execution_count": 38,
   "metadata": {},
   "outputs": [
    {
     "data": {
      "image/png": "[encoded data removed]",
      "text/plain": [
       "<Figure size 432x288 with 1 Axes>"
      ]
     },
     "metadata": {
      "needs_background": "light"
     },
     "output_type": "display_data"
    },
    {
     "data": {
      "image/png": "[encoded data removed]",
      "text/plain": [
       "<Figure size 432x288 with 1 Axes>"
      ]
     },
     "metadata": {
      "needs_background": "light"
     },
     "output_type": "display_data"
    },
    {
     "data": {
      "text/plain": [
       "PC1    0.750688\n",
       "PC2    0.123136\n",
       "PC3    0.076611\n",
       "PC4    0.049565\n",
       "dtype: float64"
      ]
     },
     "execution_count": 38,
     "metadata": {},
     "output_type": "execute_result"
    }
   ],
   "source": [
    "plot_screeGraph(pca_fit_b)"
   ]
  },
  {
   "cell_type": "code",
   "execution_count": 39,
   "metadata": {},
   "outputs": [
    {
     "data": {
      "image/png": "[encoded data removed]",
      "text/plain": [
       "<Figure size 432x288 with 1 Axes>"
      ]
     },
     "metadata": {
      "needs_background": "light"
     },
     "output_type": "display_data"
    },
    {
     "data": {
      "image/png": "[encoded data removed]",
      "text/plain": [
       "<Figure size 432x288 with 1 Axes>"
      ]
     },
     "metadata": {
      "needs_background": "light"
     },
     "output_type": "display_data"
    },
    {
     "data": {
      "text/plain": [
       "PC1    0.750688\n",
       "PC2    0.873824\n",
       "PC3    0.950435\n",
       "PC4    1.000000\n",
       "dtype: float64"
      ]
     },
     "execution_count": 39,
     "metadata": {},
     "output_type": "execute_result"
    }
   ],
   "source": [
    "plot_screeGraph(pca_fit_b, True)"
   ]
  },
  {
   "cell_type": "code",
   "execution_count": 40,
   "metadata": {},
   "outputs": [
    {
     "data": {
      "image/png": "[encoded data removed]",
      "text/plain": [
       "<Figure size 432x288 with 1 Axes>"
      ]
     },
     "metadata": {
      "needs_background": "light"
     },
     "output_type": "display_data"
    }
   ],
   "source": [
    "ft_bfat_b=pd.DataFrame(pca_fit_b.transform(std_bfat_b), columns=col_PCs)\n",
    "\n",
    "sns.boxplot(data=ft_bfat_b.iloc[:,:2])\n",
    "plt.ylabel(\"Scores\")\n",
    "plt.title(data_title + \" - Principal Components\")\n",
    "plt.show()"
   ]
  },
  {
   "cell_type": "code",
   "execution_count": 41,
   "metadata": {},
   "outputs": [
    {
     "data": {
      "image/png": "[encoded data removed]",
      "text/plain": [
       "<Figure size 432x288 with 1 Axes>"
      ]
     },
     "metadata": {
      "needs_background": "light"
     },
     "output_type": "display_data"
    }
   ],
   "source": [
    "# Plot PC1 and PC2 in scatterplot\n",
    "fig, ax = plt.subplots()\n",
    "plt.scatter(ft_bfat_b.loc[:,\"PC1\"], ft_bfat_b.loc[:,\"PC2\"])\n",
    "plt.ylabel(\"2nd Principal Component Scores\")\n",
    "plt.xlabel(\"1st Principal Component Scores\")\n",
    "plt.title(data_title + \" - Principal Component 1 and 2\")\n",
    "plt.show()"
   ]
  }
 ],
 "metadata": {
  "kernelspec": {
   "display_name": "Python 3",
   "language": "python",
   "name": "python3"
  },
  "language_info": {
   "codemirror_mode": {
    "name": "ipython",
    "version": 3
   },
   "file_extension": ".py",
   "mimetype": "text/x-python",
   "name": "python",
   "nbconvert_exporter": "python",
   "pygments_lexer": "ipython3",
   "version": "3.8.3"
  }
 },
 "nbformat": 4,
 "nbformat_minor": 4
}
